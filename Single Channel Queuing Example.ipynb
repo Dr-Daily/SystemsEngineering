{
 "cells": [
  {
   "cell_type": "markdown",
   "metadata": {},
   "source": [
    "# <center> Single Channel Queuing Example\n",
    "## <center> Systems Engineering and Analysis\n",
    "## <center> <img src=\"https://www.engr.colostate.edu/~jdaily/Systems-EN-CSU-1-C357.svg\" width=\"400\" /> \n",
    "### <center> Prepared by: Dr. Jeremy Daily"
   ]
  },
  {
   "cell_type": "markdown",
   "metadata": {},
   "source": [
    "## The M/M/1 Queue System\n",
    "\n",
    "The M/M/1 Queue is named using the Kendall Notation, which denotes teh arrival process, the service time distribution, and the number of service units. \n",
    "\n",
    "The M stands for Markovian (or Memoryless). It uses an exponential distribution to describe the time spacing of the arrival or servicing events. \n",
    "\n",
    "\n",
    "https://en.wikipedia.org/wiki/Kendall%27s_notation\n",
    "\n",
    "The SYSE530 course text describes this system in Section 10.3 as Single-Channel Queuing Model.\n",
    "\n",
    "https://en.wikipedia.org/wiki/M/M/1_queue\n",
    "\n",
    "Some additional reading for fun:\n",
    "\n",
    "https://towardsdatascience.com/the-poisson-distribution-and-poisson-process-explained-4e2cb17d459"
   ]
  },
  {
   "cell_type": "code",
   "execution_count": 1,
   "metadata": {},
   "outputs": [],
   "source": [
    "import numpy as np\n",
    "import matplotlib.pyplot as plt\n",
    "from scipy.stats import poisson, expon"
   ]
  },
  {
   "cell_type": "markdown",
   "metadata": {},
   "source": [
    "### Number of Arrivals per Time Period\n",
    "In the following block, we'll simulate a Poisson distribution to describe the number of units arriving to a queuing system. We'll be using the documentation here: https://docs.scipy.org/doc/scipy/reference/generated/scipy.stats.poisson.html\n",
    "\n",
    "For additional context, see https://en.wikipedia.org/wiki/Poisson_point_process.\n",
    "\n",
    "From the example on Page 299 of B&F, suppose a queue experiences Poisson arrives with a mean rate of 1/10 units per time period. This means \n",
    "$$ \\lambda = 10 $$\n",
    "in the book's notation. "
   ]
  },
  {
   "cell_type": "code",
   "execution_count": 2,
   "metadata": {},
   "outputs": [
    {
     "name": "stdout",
     "output_type": "stream",
     "text": [
      "average number of arrivals per time = 10\n"
     ]
    },
    {
     "data": {
      "text/plain": [
       "Text(0.5, 0, 'Number of arrivals')"
      ]
     },
     "execution_count": 2,
     "metadata": {},
     "output_type": "execute_result"
    },
    {
     "data": {
      "image/png": "[encoded data removed]",
      "text/plain": [
       "<Figure size 432x288 with 1 Axes>"
      ]
     },
     "metadata": {
      "needs_background": "light"
     },
     "output_type": "display_data"
    }
   ],
   "source": [
    "N=100000\n",
    "\n",
    "arrival_rate_mean = 10\n",
    "\n",
    "# Specify  the number of arrivals per period\n",
    "# use lam instead of lambda because lambda is a protected word in Python\n",
    "lam = 1/arrival_rate_mean\n",
    "\n",
    "print(\"average number of arrivals per time = {}\".format(arrival_rate_mean))\n",
    "\n",
    "#Generate random values from the poisson distribution\n",
    "arrival_counts = poisson.rvs(arrival_rate_mean,size=N)\n",
    "\n",
    "#place the bins in the center of the discrete values for the samples\n",
    "bins = np.arange(0, max(arrival_counts) + 1.5) - 0.5\n",
    "\n",
    "#Show the emperical distribution of the generated random values\n",
    "plt.hist(arrival_counts,bins=bins,density=True,color=\"yellow\",ec=\"black\",label=\"Simulated PMF\");\n",
    "\n",
    "#Generate a range for the theoretical mass function\n",
    "x = np.arange(poisson.ppf(0.0001, arrival_rate_mean),\n",
    "              poisson.ppf(0.9999, arrival_rate_mean))\n",
    "#Plot the theoretical PMF\n",
    "plt.stem(x, poisson.pmf(x, arrival_rate_mean),   label='Poisson PMF')\n",
    "plt.legend()\n",
    "plt.grid()\n",
    "plt.title(\"Poisson Distribution, $\\lambda = {:0.2f}$\".format(lam));\n",
    "plt.xlabel(\"Number of arrivals\")"
   ]
  },
  {
   "cell_type": "code",
   "execution_count": 4,
   "metadata": {},
   "outputs": [
    {
     "data": {
      "text/plain": [
       "9.99975"
      ]
     },
     "execution_count": 4,
     "metadata": {},
     "output_type": "execute_result"
    }
   ],
   "source": [
    "#compare simulation mean \n",
    "arrival_counts.mean()"
   ]
  },
  {
   "cell_type": "markdown",
   "metadata": {},
   "source": [
    "### Time between each arrival\n",
    "The space between each arrival in Poisson process is distributed as an exponential distribution.\n",
    "\n",
    "https://docs.scipy.org/doc/scipy/reference/generated/scipy.stats.expon.html\n",
    "\n",
    "The scale factor for the distribution is $1/\\lambda $ which equals the arrival rate.\n",
    "\n",
    "We'll simulate the arrival spacing for the queue."
   ]
  },
  {
   "cell_type": "code",
   "execution_count": 5,
   "metadata": {},
   "outputs": [
    {
     "ename": "NameError",
     "evalue": "name 'scale' is not defined",
     "output_type": "error",
     "traceback": [
      "\u001b[1;31m---------------------------------------------------------------------------\u001b[0m",
      "\u001b[1;31mNameError\u001b[0m                                 Traceback (most recent call last)",
      "\u001b[1;32m<ipython-input-5-1ca16665a5fc>\u001b[0m in \u001b[0;36m<module>\u001b[1;34m\u001b[0m\n\u001b[0;32m      4\u001b[0m \u001b[0mplt\u001b[0m\u001b[1;33m.\u001b[0m\u001b[0mhist\u001b[0m\u001b[1;33m(\u001b[0m\u001b[0marrival_intervals\u001b[0m\u001b[1;33m,\u001b[0m\u001b[0mbins\u001b[0m\u001b[1;33m=\u001b[0m\u001b[1;36m100\u001b[0m\u001b[1;33m,\u001b[0m\u001b[0mdensity\u001b[0m\u001b[1;33m=\u001b[0m\u001b[1;32mTrue\u001b[0m\u001b[1;33m,\u001b[0m\u001b[0mcolor\u001b[0m\u001b[1;33m=\u001b[0m\u001b[1;34m\"cyan\"\u001b[0m\u001b[1;33m,\u001b[0m\u001b[0mec\u001b[0m\u001b[1;33m=\u001b[0m\u001b[1;34m\"black\"\u001b[0m\u001b[1;33m,\u001b[0m\u001b[0mlabel\u001b[0m\u001b[1;33m=\u001b[0m\u001b[1;34m\"Simulated PDF\"\u001b[0m\u001b[1;33m)\u001b[0m\u001b[1;33m;\u001b[0m\u001b[1;33m\u001b[0m\u001b[1;33m\u001b[0m\u001b[0m\n\u001b[0;32m      5\u001b[0m \u001b[1;31m#Generate a range for the theoretical mass function\u001b[0m\u001b[1;33m\u001b[0m\u001b[1;33m\u001b[0m\u001b[1;33m\u001b[0m\u001b[0m\n\u001b[1;32m----> 6\u001b[1;33m x = np.arange(expon.ppf(0.0001, scale=scale),\n\u001b[0m\u001b[0;32m      7\u001b[0m               expon.ppf(0.9999, scale=scale),0.01)\n\u001b[0;32m      8\u001b[0m \u001b[1;31m#Plot the theoretical PMF\u001b[0m\u001b[1;33m\u001b[0m\u001b[1;33m\u001b[0m\u001b[1;33m\u001b[0m\u001b[0m\n",
      "\u001b[1;31mNameError\u001b[0m: name 'scale' is not defined"
     ]
    },
    {
     "data": {
      "image/png": "[encoded data removed]",
      "text/plain": [
       "<Figure size 432x288 with 1 Axes>"
      ]
     },
     "metadata": {
      "needs_background": "light"
     },
     "output_type": "display_data"
    }
   ],
   "source": [
    "#Show the emperical distribution of the generated random values\n",
    "#place the bins in the center of the discrete values for the samples\n",
    "arrival_intervals = expon.rvs(scale=arrival_rate_mean,size=N)\n",
    "plt.hist(arrival_intervals,bins=100,density=True,color=\"cyan\",ec=\"black\",label=\"Simulated PDF\");\n",
    "#Generate a range for the theoretical mass function\n",
    "x = np.arange(expon.ppf(0.0001, scale=scale),\n",
    "              expon.ppf(0.9999, scale=scale),0.01)\n",
    "#Plot the theoretical PMF\n",
    "plt.plot(x, expon.pdf(x, scale=arrival_rate_mean),  'r-', label='Exponential PDF')\n",
    "plt.legend()\n",
    "plt.grid()\n",
    "plt.xlabel(\"Time Spacing for a Poisson Process\")\n",
    "plt.ylabel(\"Probability Density Function\");"
   ]
  },
  {
   "cell_type": "code",
   "execution_count": 6,
   "metadata": {},
   "outputs": [
    {
     "name": "stdout",
     "output_type": "stream",
     "text": [
      "10.0 100.0 2.0 6.0\n"
     ]
    }
   ],
   "source": [
    "# Determine theoretical moments for the distribution\n",
    "mean, var, skew, kurt = expon.stats(scale=arrival_rate_mean,moments='mvsk')\n",
    "print(mean, var, skew, kurt)"
   ]
  },
  {
   "cell_type": "code",
   "execution_count": 7,
   "metadata": {},
   "outputs": [
    {
     "data": {
      "text/plain": [
       "9.991283502090731"
      ]
     },
     "execution_count": 7,
     "metadata": {},
     "output_type": "execute_result"
    }
   ],
   "source": [
    "#Compare to the simulated distribution\n",
    "arrival_intervals.mean()"
   ]
  },
  {
   "cell_type": "code",
   "execution_count": 8,
   "metadata": {},
   "outputs": [
    {
     "data": {
      "text/plain": [
       "10.0"
      ]
     },
     "execution_count": 8,
     "metadata": {},
     "output_type": "execute_result"
    }
   ],
   "source": [
    "#Theoretical mean\n",
    "1/lam"
   ]
  },
  {
   "cell_type": "code",
   "execution_count": 9,
   "metadata": {},
   "outputs": [
    {
     "data": {
      "text/plain": [
       "100.04671465882879"
      ]
     },
     "execution_count": 9,
     "metadata": {},
     "output_type": "execute_result"
    }
   ],
   "source": [
    "#Compare to the simulated distribution variance\n",
    "arrival_intervals.var()"
   ]
  },
  {
   "cell_type": "markdown",
   "metadata": {},
   "source": [
    "### Simulate the distribution describing time for servicing\n",
    "This is also an exponential distribution"
   ]
  },
  {
   "cell_type": "code",
   "execution_count": 13,
   "metadata": {},
   "outputs": [
    {
     "data": {
      "image/png": "[encoded data removed]",
      "text/plain": [
       "<Figure size 432x288 with 1 Axes>"
      ]
     },
     "metadata": {
      "needs_background": "light"
     },
     "output_type": "display_data"
    }
   ],
   "source": [
    "#Generate random values from the exponential distribution\n",
    "service_time_mean = 4\n",
    "# Determine the service rate\n",
    "mu = 1/service_time_mean #Book notation for service completions per period\n",
    "\n",
    "service_times = expon.rvs(scale=service_time_mean,size=N)\n",
    "\n",
    "#place the bins in the center of the discrete values for the samples\n",
    "bins = 100\n",
    "\n",
    "#Show the emperical distribution of the generated random values\n",
    "plt.hist(service_times,bins=bins,density=True,color=\"cyan\",ec=\"black\",label=\"Simulated PDF\");\n",
    "\n",
    "#Generate a range for the theoretical mass function\n",
    "x = np.arange(expon.ppf(0.0001, scale=service_time_mean),\n",
    "              expon.ppf(0.9999, scale=service_time_mean),0.01)\n",
    "#Plot the theoretical PMF\n",
    "plt.plot(x, expon.pdf(x, scale=service_time_mean),  'r-', label='Exponential PDF')\n",
    "plt.legend()\n",
    "plt.grid()"
   ]
  },
  {
   "cell_type": "code",
   "execution_count": 14,
   "metadata": {},
   "outputs": [
    {
     "name": "stdout",
     "output_type": "stream",
     "text": [
      "4.0 16.0 2.0 6.0\n"
     ]
    }
   ],
   "source": [
    "mean, var, skew, kurt = expon.stats(scale=service_time_mean,moments='mvsk')\n",
    "print(mean, var, skew, kurt)"
   ]
  },
  {
   "cell_type": "code",
   "execution_count": 15,
   "metadata": {},
   "outputs": [
    {
     "data": {
      "text/plain": [
       "4.0"
      ]
     },
     "execution_count": 15,
     "metadata": {},
     "output_type": "execute_result"
    }
   ],
   "source": [
    "#theroretical expected value (mean)\n",
    "1/mu"
   ]
  },
  {
   "cell_type": "code",
   "execution_count": 16,
   "metadata": {},
   "outputs": [
    {
     "data": {
      "text/plain": [
       "4.011525817694604"
      ]
     },
     "execution_count": 16,
     "metadata": {},
     "output_type": "execute_result"
    }
   ],
   "source": [
    "#Compare to the simulated distribution\n",
    "np.array(service_times).mean()"
   ]
  },
  {
   "cell_type": "code",
   "execution_count": 17,
   "metadata": {},
   "outputs": [
    {
     "data": {
      "text/plain": [
       "16.0"
      ]
     },
     "execution_count": 17,
     "metadata": {},
     "output_type": "execute_result"
    }
   ],
   "source": [
    "#Theoretical variance\n",
    "1/mu**2 "
   ]
  },
  {
   "cell_type": "code",
   "execution_count": 18,
   "metadata": {},
   "outputs": [
    {
     "data": {
      "text/plain": [
       "16.181097100351312"
      ]
     },
     "execution_count": 18,
     "metadata": {},
     "output_type": "execute_result"
    }
   ],
   "source": [
    "#Compare to the simulated distribution\n",
    "np.array(service_times).var()"
   ]
  },
  {
   "cell_type": "markdown",
   "metadata": {},
   "source": [
    "### Will there be convergence?\n",
    "This is the first check for a queue. Will the queue be able to handle the in-flux. The processing has to be faster than the arrivals or else the queue will back up. See the note after Eqn. 10.9 in B&F."
   ]
  },
  {
   "cell_type": "code",
   "execution_count": 19,
   "metadata": {},
   "outputs": [
    {
     "name": "stdout",
     "output_type": "stream",
     "text": [
      "0.4\n",
      "Convergence Criteria Achieved.\n"
     ]
    }
   ],
   "source": [
    "# check the ratio to see if it is less than 1 to get convergence\n",
    "print(lam/mu)\n",
    "if lam/mu < 1:\n",
    "    print(\"Convergence Criteria Achieved.\")\n",
    "else:\n",
    "    print(\"Queue will not converge. The arrivals are faster than the servicing\")"
   ]
  },
  {
   "cell_type": "markdown",
   "metadata": {},
   "source": [
    "## Simulate a Queuing System\n",
    "We'll setup a routine that loops through time and processes \"customers.\" The customer arrival time is separated by a random time that is exponentially distributed. The processing time will be determined by a random sample from another exponential distribution. With both of these distributions as exponential, we can determine theoretical properties for the M/M/1 system. \n",
    "\n",
    "The customer has it's own needs, so we'll define it's servicing time when the customer is created (i.e. arrives to the queue).\n",
    "\n",
    "We'll use an object-oriented approach and create a class the defines the customer and some of it's properties and functions. "
   ]
  },
  {
   "cell_type": "code",
   "execution_count": 20,
   "metadata": {},
   "outputs": [],
   "source": [
    "#Create an object that can keep track of itself through the system\n",
    "# Pass in an identifier and the global arrival time. \n",
    "class Customer():\n",
    "    def __init__(self,id,arrival):\n",
    "        self.id = id\n",
    "        self.wait_time = 0\n",
    "        self.arrival_time = arrival\n",
    "        #Use a sample from a random variable for the service time\n",
    "        self.service_time = expon.rvs(scale=service_time_mean) \n",
    "        # This is a minimum. It will be updated upon ejection from the queue system\n",
    "        self.finished_time = self.arrival_time + self.service_time + self.wait_time\n",
    "        \n",
    "    def get_queue_time(self):\n",
    "        self.queue_time = self.finished_time - self.arrival_time\n",
    "        return self.queue_time"
   ]
  },
  {
   "cell_type": "markdown",
   "metadata": {},
   "source": [
    "### Simulate the Queue\n",
    "This is a Monte Carlo simulation of the Single Channel Queuing Model as described in Section 10.3 of B&F."
   ]
  },
  {
   "cell_type": "code",
   "execution_count": 21,
   "metadata": {},
   "outputs": [
    {
     "name": "stdout",
     "output_type": "stream",
     "text": [
      "np.mean(customers_in_system) 0.6707893333333333\n",
      "np.mean(customers_in_system) 0.700094\n",
      "np.mean(customers_in_system) 0.682657\n"
     ]
    }
   ],
   "source": [
    "# This is for printout of the queue simulation\n",
    "# Set this to zero to suppress output\n",
    "debug_periods = 0\n",
    "delta_t = .05\n",
    "\n",
    "# Initialize some lists to keep track of the queue performance.\n",
    "finished_customers = []\n",
    "customers_in_line = []\n",
    "customers_in_system = []\n",
    "customer_wait_time = []\n",
    "customer_system_time = []\n",
    "\n",
    "\n",
    "# Specify the number of time periods to run\n",
    "# Iterate to find convergence.\n",
    "for time_periods in [1000000,2000000,4000000]:\n",
    "   \n",
    "\n",
    "    # Make an ordered list the waiting line of the queue system\n",
    "    # We can add elements uing the append method\n",
    "    # We can remove elements using the pop method\n",
    "    waiting_line = []\n",
    "\n",
    "\n",
    "    system_size=0\n",
    "    arrivals = 0\n",
    "    arrival_time = 0\n",
    "    # This creates and instance of the customer\n",
    "    # We pass the id of the customer into the constructor\n",
    "    # The first time is zero (second argument)\n",
    "    # If the service_cust is defined, then it is in service. \n",
    "    service_cust = Customer(arrivals,arrival_time)\n",
    "    # Always add one when the customer is created\n",
    "    system_size += 1\n",
    "    # Always update the arrival time of the next customer with a sample from the \n",
    "    # exponential distribution\n",
    "    arrival_time += expon.rvs(scale=arrival_rate_mean)\n",
    "\n",
    "\n",
    "    t=0\n",
    "    for n in range(time_periods):\n",
    "        # Calculate the current time as t\n",
    "        t += delta_t\n",
    "\n",
    "        # Keep track of how many customers are in the system\n",
    "        customers_in_system.append(system_size)\n",
    "        # Keep track of customers in line\n",
    "        customers_in_line.append(len(waiting_line))\n",
    "\n",
    "        # Check for new arrivals\n",
    "        if t >= arrival_time:\n",
    "            arrivals += 1\n",
    "            # Create a customer to simulate an arrival. \n",
    "            # The customer class generates its own servicing time.\n",
    "            cust = Customer(arrivals,arrival_time)\n",
    "            # Always increase the number of customers in the system\n",
    "            system_size += 1\n",
    "\n",
    "            # update the arrival time with the next arrival\n",
    "            arrival_time += expon.rvs(scale=arrival_rate_mean)\n",
    "\n",
    "            if t < debug_periods:\n",
    "                print(\"t = {}, waiting_line length = {}\".format(t,len(waiting_line)))\n",
    "                print(\"Created Customer {} at time {} with service time of {}\".format(cust.id, cust.arrival_time, cust.service_time))\n",
    "\n",
    "            # Put the newly created customer in the wait line\n",
    "            waiting_line.append(cust)\n",
    "\n",
    "        # Check to see if a customer is finished\n",
    "        #Be sure there is a customer in service\n",
    "        if service_cust is not None:\n",
    "            # Since the customer is in service, we should see if it's done.\n",
    "            if t >= service_cust.finished_time:\n",
    "                if t < debug_periods:\n",
    "                    print(\"Customer {} finished at time {}\".format(service_cust.id, t))\n",
    "                # Keep track of customers coming through the queue\n",
    "                finished_customers.append(service_cust)\n",
    "                customer_system_time.append(service_cust.get_queue_time())\n",
    "                # Remove the customer from the system.\n",
    "                system_size -= 1\n",
    "                # Let the program know there is no customer being serviced.\n",
    "                service_cust = None\n",
    "        else:\n",
    "            #There's no customer in service, so only the ones in the line are in the system\n",
    "            try:\n",
    "                # Get a customer from the line\n",
    "                service_cust = waiting_line.pop(0)\n",
    "            except IndexError:\n",
    "                # There wasn't anyone in line, so move to the next time.\n",
    "                continue\n",
    "            # determine how long they were in the wait line    \n",
    "            service_cust.wait_time = t - service_cust.arrival_time\n",
    "            # Keep track of the wait time.\n",
    "            customer_wait_time.append(service_cust.wait_time)\n",
    "            # Determine when the finish should be\n",
    "            service_cust.finished_time = t + service_cust.service_time\n",
    "            \n",
    "            if t < debug_periods:\n",
    "                print(\"Retrieved Customer {} from the line at time {:0.3f} after waiting {:0.3f}.\".format(service_cust.id, t, service_cust.wait_time))\n",
    "                print(\"Anticipated finish for {} is {:0.3F}\".format(service_cust.id,service_cust.finished_time))\n",
    "    print(\"np.mean(customers_in_system)\",np.mean(customers_in_system[int(time_periods/4):]))"
   ]
  },
  {
   "cell_type": "markdown",
   "metadata": {},
   "source": [
    "Note: Convergence is slow for this system. Orders of magnitude more samples are required for convergence"
   ]
  },
  {
   "cell_type": "markdown",
   "metadata": {},
   "source": [
    "### Average number of customers waiting in line"
   ]
  },
  {
   "cell_type": "code",
   "execution_count": 24,
   "metadata": {},
   "outputs": [
    {
     "data": {
      "image/png": "[encoded data removed]",
      "text/plain": [
       "<Figure size 432x288 with 1 Axes>"
      ]
     },
     "metadata": {
      "needs_background": "light"
     },
     "output_type": "display_data"
    }
   ],
   "source": [
    "average_number_in_line = np.mean(customers_in_line)\n",
    "times = np.arange(N)*delta_t\n",
    "plt.plot(times,customers_in_line[:N])\n",
    "plt.xlabel(\"Time (periods)\")\n",
    "plt.ylabel(\"Number of customers in system\")\n",
    "plt.title(\"Average number of customers in system: {:0.3f}\".format(average_number_in_line));"
   ]
  },
  {
   "cell_type": "code",
   "execution_count": 40,
   "metadata": {},
   "outputs": [
    {
     "data": {
      "text/plain": [
       "0.2666666666666667"
      ]
     },
     "execution_count": 40,
     "metadata": {},
     "output_type": "execute_result"
    }
   ],
   "source": [
    "# Theoretical average length of line\n",
    "# See Equation 10.11\n",
    "L_q = lam**2/(mu*(mu-lam))\n",
    "L_q"
   ]
  },
  {
   "cell_type": "markdown",
   "metadata": {},
   "source": [
    "### Average waiting time for customers in line"
   ]
  },
  {
   "cell_type": "code",
   "execution_count": 26,
   "metadata": {},
   "outputs": [
    {
     "data": {
      "text/plain": [
       "2.790201712313725"
      ]
     },
     "execution_count": 26,
     "metadata": {},
     "output_type": "execute_result"
    }
   ],
   "source": [
    "# Average simulated time in line\n",
    "np.mean(customer_wait_time)"
   ]
  },
  {
   "cell_type": "code",
   "execution_count": 41,
   "metadata": {},
   "outputs": [
    {
     "data": {
      "text/plain": [
       "2.666666666666667"
      ]
     },
     "execution_count": 41,
     "metadata": {},
     "output_type": "execute_result"
    }
   ],
   "source": [
    "# Theoretical mean time an arrival waits for service\n",
    "# Equation 10.18\n",
    "W_q = lam/(mu*(mu-lam))\n",
    "W_q"
   ]
  },
  {
   "cell_type": "markdown",
   "metadata": {},
   "source": [
    "### Average time spent in the queuing system"
   ]
  },
  {
   "cell_type": "code",
   "execution_count": 28,
   "metadata": {},
   "outputs": [
    {
     "data": {
      "text/plain": [
       "6.775439354275095"
      ]
     },
     "execution_count": 28,
     "metadata": {},
     "output_type": "execute_result"
    }
   ],
   "source": [
    "# Average simulated time in the whole system\n",
    "np.mean(customer_system_time)"
   ]
  },
  {
   "cell_type": "code",
   "execution_count": 29,
   "metadata": {},
   "outputs": [
    {
     "data": {
      "text/plain": [
       "6.666666666666667"
      ]
     },
     "execution_count": 29,
     "metadata": {},
     "output_type": "execute_result"
    }
   ],
   "source": [
    "# Theoretical average customer time through the queue.\n",
    "# Equation 10.19\n",
    "t_m = 1/(mu-lam)\n",
    "t_m"
   ]
  },
  {
   "cell_type": "markdown",
   "metadata": {},
   "source": [
    "### Average number of customers in the system\n",
    "This includes both customers in line and customers being serviced."
   ]
  },
  {
   "cell_type": "code",
   "execution_count": 22,
   "metadata": {},
   "outputs": [
    {
     "data": {
      "image/png": "[encoded data removed]",
      "text/plain": [
       "<Figure size 432x288 with 1 Axes>"
      ]
     },
     "metadata": {
      "needs_background": "light"
     },
     "output_type": "display_data"
    }
   ],
   "source": [
    "# Incorporate less samples to see the operation of the queue\n",
    "# Also include some measures\n",
    "average_number_in_system = np.mean(customers_in_system)\n",
    "#Reduce the samples for faster plotting\n",
    "N = int(500/delta_t)\n",
    "times = np.arange(N)*delta_t\n",
    "plt.plot(times,customers_in_system[:N])\n",
    "plt.xlabel(\"Time (periods)\")\n",
    "plt.ylabel(\"Number of customers in system\")\n",
    "plt.title(\"Average number of customers in system: {:0.3f}\".format(average_number_in_system));"
   ]
  },
  {
   "cell_type": "code",
   "execution_count": 39,
   "metadata": {},
   "outputs": [
    {
     "data": {
      "text/plain": [
       "0.6666666666666667"
      ]
     },
     "execution_count": 39,
     "metadata": {},
     "output_type": "execute_result"
    }
   ],
   "source": [
    "# Mean theoretical length or elements in the system\n",
    "# Equation 10.10\n",
    "L = lam/(mu-lam)\n",
    "L"
   ]
  },
  {
   "cell_type": "code",
   "execution_count": 32,
   "metadata": {},
   "outputs": [
    {
     "name": "stdout",
     "output_type": "stream",
     "text": [
      "0 0.6\n",
      "1 0.24\n",
      "2 0.09600000000000002\n",
      "3 0.03840000000000001\n",
      "4 0.015360000000000002\n",
      "5 0.006144000000000001\n",
      "6 0.0024576000000000008\n",
      "7 0.0009830400000000003\n",
      "8 0.0003932160000000002\n",
      "9 0.00015728640000000008\n",
      "10 6.291456000000003e-05\n",
      "11 2.5165824000000015e-05\n",
      "12 1.0066329600000006e-05\n",
      "13 4.026531840000002e-06\n",
      "14 1.6106127360000012e-06\n"
     ]
    }
   ],
   "source": [
    "# Probability of size of the line at any time (steady state)\n",
    "#Eq 10.9\n",
    "def Pn(n,l=lam,mu=mu):\n",
    "    assert type(n)==int\n",
    "    return (1-l/mu)*(l/mu)**n\n",
    "\n",
    "pmf=[]\n",
    "x = []\n",
    "expected_val = 0\n",
    "for n in range(15):\n",
    "    x.append(n)\n",
    "    pmf.append(Pn(n))\n",
    "    print(n,Pn(n))\n",
    "    \n",
    "    expected_val += n*Pn(n)"
   ]
  },
  {
   "cell_type": "code",
   "execution_count": 33,
   "metadata": {},
   "outputs": [
    {
     "name": "stdout",
     "output_type": "stream",
     "text": [
      "0.6666498447114242 =?= 0.6666666666666667\n"
     ]
    }
   ],
   "source": [
    "#Expected Value Verification\n",
    "print(expected_val,\"=?=\",L)"
   ]
  },
  {
   "cell_type": "code",
   "execution_count": 35,
   "metadata": {},
   "outputs": [
    {
     "data": {
      "text/plain": [
       "<matplotlib.legend.Legend at 0x1993d3fa640>"
      ]
     },
     "execution_count": 35,
     "metadata": {},
     "output_type": "execute_result"
    },
    {
     "data": {
      "image/png": "[encoded data removed]",
      "text/plain": [
       "<Figure size 432x288 with 1 Axes>"
      ]
     },
     "metadata": {
      "needs_background": "light"
     },
     "output_type": "display_data"
    }
   ],
   "source": [
    "# This cell takes a while with large samples\n",
    "#place the bins in the center of the discrete values for the samples\n",
    "bins = np.arange(0, max(customers_in_system) + 1.5) - 0.5\n",
    "vals,bins,_ = plt.hist(customers_in_system, bins=bins, density=True,label=\"Simulated\")\n",
    "plt.plot(x,pmf,'d',label=\"Theoretical\")\n",
    "plt.xlabel(\"Number of Customers in Line\")\n",
    "plt.ylabel(\"Probability Mass Function\")\n",
    "plt.title(\"Compare to Figure 10.6\")\n",
    "plt.legend();"
   ]
  },
  {
   "cell_type": "code",
   "execution_count": 37,
   "metadata": {},
   "outputs": [
    {
     "data": {
      "text/plain": [
       "0.6782171428571431"
      ]
     },
     "execution_count": 37,
     "metadata": {},
     "output_type": "execute_result"
    }
   ],
   "source": [
    "# Compute the expected value of the simulated distribution \n",
    "expected_sum = 0\n",
    "for v,b in zip(vals,bins):\n",
    "    expected_sum += v*(b+.5)\n",
    "#this should closely match the average_number_in_system\n",
    "expected_sum"
   ]
  },
  {
   "cell_type": "code",
   "execution_count": 38,
   "metadata": {},
   "outputs": [
    {
     "data": {
      "text/plain": [
       "0.6782171428571429"
      ]
     },
     "execution_count": 38,
     "metadata": {},
     "output_type": "execute_result"
    }
   ],
   "source": [
    "# This is the same as before\n",
    "average_number_in_system"
   ]
  },
  {
   "cell_type": "code",
   "execution_count": null,
   "metadata": {},
   "outputs": [],
   "source": []
  }
 ],
 "metadata": {
  "kernelspec": {
   "display_name": "Python 3",
   "language": "python",
   "name": "python3"
  },
  "language_info": {
   "codemirror_mode": {
    "name": "ipython",
    "version": 3
   },
   "file_extension": ".py",
   "mimetype": "text/x-python",
   "name": "python",
   "nbconvert_exporter": "python",
   "pygments_lexer": "ipython3",
   "version": "3.8.5"
  }
 },
 "nbformat": 4,
 "nbformat_minor": 2
}
