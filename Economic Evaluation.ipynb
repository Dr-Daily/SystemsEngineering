{
 "cells": [
  {
   "cell_type": "markdown",
   "metadata": {},
   "source": [
    "# <center> Economic Evaluation\n",
    "## <center> Systems Engineering and Analysis\n",
    "## <center> <img src=\"https://www.engr.colostate.edu/~jdaily/Systems-EN-CSU-1-C357.svg\" width=\"400\" /> \n",
    "### <center> Prepared by: Dr. Jeremy Daily"
   ]
  },
  {
   "cell_type": "markdown",
   "metadata": {},
   "source": [
    "## Introduction\n",
    "The time value of money is an important method for evaluating decisions. Often money is borrowed at an interest rate for capital projects or bringing a system into being. The operational costs and revenues often need evaluation over time.\n",
    "\n",
    "### Nomenclature\n",
    "$i = $ nominal annual interest rate\n",
    "\n",
    "$n = $ number of periods to accumulate interest\n",
    "\n",
    "$P = $ amount at the present time\n",
    "\n",
    "$A = $ single amount in a series of $n$ equal amounts at the end of the interest period\n",
    "\n",
    "$F = $ amount, n interest periods later; the future amount\n",
    "\n"
   ]
  },
  {
   "cell_type": "markdown",
   "metadata": {},
   "source": [
    "### Single-Payment Compount Amount Formula\n",
    "The *single-payment compound amount factor* is denoted as ${F/P,i,n}\\choose {} $ or \n",
    "$$\\overset{F/P,i,n}{(\\qquad)} = (1+i)^n$$\n",
    "\n",
    "This factor is to calculate the future value given the present value:\n",
    "$$ F = P(1+i)^n $$"
   ]
  },
  {
   "cell_type": "code",
   "execution_count": 1,
   "metadata": {},
   "outputs": [
    {
     "name": "stdout",
     "output_type": "stream",
     "text": [
      "Future Value: $214.36\n"
     ]
    }
   ],
   "source": [
    "#Example\n",
    "present_value = 100\n",
    "interest_rate = 0.10 #10% \n",
    "n = 8 # periods years\n",
    "FPin_factor = (1+interest_rate)**n\n",
    "future_value = present_value*FPin_factor\n",
    "print(\"Future Value: ${:0.2f}\".format(future_value))"
   ]
  },
  {
   "cell_type": "markdown",
   "metadata": {},
   "source": [
    "A practical example to evaluate equivalence is to say that \\\\$100 spent now must produce \\\\$214.36 in revenue in 8 years to show 10% growth."
   ]
  },
  {
   "cell_type": "markdown",
   "metadata": {},
   "source": [
    "### Single-Payment Present-Amount Formula\n",
    "The single-payment compound amount formula may be solved for P. \n",
    "$$ P = F\\left[\\frac{1}{(1+i)^n} \\right]$$\n",
    "\n",
    "which gives rise to the *single-payment present-amount factor*, denoted as $$\\overset{P/F,i,n}{(\\qquad)}  = \\frac{1}{(1+i)^n}$$\n"
   ]
  },
  {
   "cell_type": "code",
   "execution_count": 2,
   "metadata": {},
   "outputs": [
    {
     "name": "stdout",
     "output_type": "stream",
     "text": [
      "For a future value of $100.00, an amount of $32.20 should be invested now.\n"
     ]
    }
   ],
   "source": [
    "#Example\n",
    "interest_rate = 0.12 #10% \n",
    "num_periods = 10 # periods years\n",
    "future_value = 100\n",
    "#What is the value of P?\n",
    "PFin_factor = 1/(1+interest_rate)**num_periods\n",
    "present_value = future_value*PFin_factor\n",
    "print(\"For a future value of ${:0.2f}, an amount of ${:0.2f} should be invested now.\".format(future_value,present_value))"
   ]
  },
  {
   "cell_type": "markdown",
   "metadata": {},
   "source": [
    "### Equal-payment series compound amount formula\n",
    "Given A, find F. \n",
    "$$ F = A\\left[\\frac{(1+i)^n-1}{i} \\right]$$\n",
    "\n",
    "which gives rise to the equal-payment series compound amount factor, denoted as $$\\overset{F/A,i,n}{(\\qquad)}  = \\frac{(1+i)^n-1}{i}$$\n"
   ]
  },
  {
   "cell_type": "code",
   "execution_count": 3,
   "metadata": {},
   "outputs": [
    {
     "name": "stdout",
     "output_type": "stream",
     "text": [
      "$10.00 spent each year for 20 years must result in a revenue receipt of $457.62 for an interest rate of 8.0%.\n"
     ]
    }
   ],
   "source": [
    "#Example\n",
    "A = 10\n",
    "i = 0.08 #\n",
    "n = 20\n",
    "FAin_factor = ((1+i)**n - 1)/i\n",
    "F = A*FAin_factor\n",
    "print(\"${:0.2f} spent each year for {} years must result in a revenue receipt of ${:0.2f} for an interest rate of {}%.\".format(A,n,F,i*100))"
   ]
  },
  {
   "cell_type": "markdown",
   "metadata": {},
   "source": [
    "### Equal-payment series sinking-fund Formula\n",
    "\n",
    "$$A = F \\left[ \\frac{i}{(1+i)^n -1 }\\right]$$\n",
    "\n",
    "$$\\overset{A/F,i,n}{(\\qquad)}  = \\frac{i}{(1+i)^n-1}$$\n"
   ]
  },
  {
   "cell_type": "code",
   "execution_count": 4,
   "metadata": {},
   "outputs": [
    {
     "name": "stdout",
     "output_type": "stream",
     "text": [
      "$12.32 must be received each year for 6 years to earn $100, assuming an interest rate of 12.0%\n"
     ]
    }
   ],
   "source": [
    "#Example\n",
    "F = 100\n",
    "n = 6\n",
    "i = 12/100\n",
    "AFin_factor = i/((1+i)**n-1)\n",
    "A = F*AFin_factor\n",
    "print(\"${:0.2f} must be received each year for {} years to earn ${:0.0f}, assuming an interest rate of {}%\".format(A,6,F,i*100))"
   ]
  },
  {
   "cell_type": "markdown",
   "metadata": {},
   "source": [
    "### Equal-payment series capital-recovery formula\n",
    "$$A = P(1+i)^n\\left[\\frac{i}{(1+i)^n-1}\\right]$$\n",
    "\n",
    "$$\\overset{A/P,i,n}{(\\qquad)}  = \\frac{i(1+i)^n}{(1+i)^n-1}$$"
   ]
  },
  {
   "cell_type": "code",
   "execution_count": 5,
   "metadata": {},
   "outputs": [
    {
     "name": "stdout",
     "output_type": "stream",
     "text": [
      "$1.00 can be spent today to capure an annual savings of $0.23 per year over 7 years if the interest rate is 14.00%\n"
     ]
    }
   ],
   "source": [
    "P = 1\n",
    "i = 14/100\n",
    "n = 7\n",
    "APin_factor = (i*(1+i)**n)/((1+i)**n - 1)\n",
    "A = P*APin_factor\n",
    "print(\"${:0.2f} can be spent today to capure an annual savings of ${:0.2f} per year over {} years if the interest rate is {:0.2f}%\".format(P,A,n,i*100))"
   ]
  },
  {
   "cell_type": "markdown",
   "metadata": {},
   "source": [
    "Note: the book example shows $0.1987 in section 8.2.1, which is incorrect. "
   ]
  },
  {
   "cell_type": "markdown",
   "metadata": {},
   "source": [
    "### Equal-payment series present-amount formula\n",
    "$$P = A\\left[\\frac{(1+i)^n-1}{i(1+i)^n}\\right]$$\n",
    "\n",
    "$$\\overset{P/A,i,n}{(\\qquad)}  = \\frac{(1+i)^n-1}{i(1+i)^n}$$"
   ]
  },
  {
   "cell_type": "code",
   "execution_count": 7,
   "metadata": {},
   "outputs": [
    {
     "name": "stdout",
     "output_type": "stream",
     "text": [
      "$64.18 invested today should yield an annual benefit of $10.00 per year for 10 years if the interest rate is 9.00%.\n"
     ]
    }
   ],
   "source": [
    "# Example\n",
    "i=9/100\n",
    "n=10\n",
    "A=10\n",
    "PAin_factor = ((1+i)**n-1)/(i*(1+i)**n)\n",
    "P = A*PAin_factor\n",
    "print(\"${:0.2f} invested today should yield an annual benefit of ${:0.2f} per year for {:d} years if the interest rate is {:0.2f}%.\".format(P,A,n,i*100))"
   ]
  },
  {
   "cell_type": "markdown",
   "metadata": {},
   "source": [
    "### Geometric-Gradient-Series Formula\n",
    "Money flows that increase or decrease over time by a constant percentage, $g$. The magnitude of the value of the $t$th flow is related to $F_1$ as \n",
    "\n",
    "$$ F_t = F_1(1+g)^{t-1} $$\n",
    "\n",
    "The growth-free rate is denoted a $g^\\prime$ and can be calculated as\n",
    "$$ g^\\prime = \\frac{1+i}{1+g}-1$$\n",
    "where $i$ is the interest rate.\n",
    "\n",
    "$$P = \\frac{F_1}{1+g} \\left[ \\frac{(1+g^\\prime)^n-1}{g^\\prime(1+g^\\prime)^n} \\right]$$\n",
    "\n"
   ]
  },
  {
   "cell_type": "code",
   "execution_count": 9,
   "metadata": {},
   "outputs": [
    {
     "data": {
      "text/plain": [
       "0.2999999999999998"
      ]
     },
     "execution_count": 9,
     "metadata": {},
     "output_type": "execute_result"
    }
   ],
   "source": [
    "# Example \n",
    "F_1 = 100\n",
    "g = -10/100 # anticipated decline\n",
    "i = 17/100 # a high interest rate\n",
    "n = 8 #years\n",
    "g_prime = (1+i)/(1+g)-1\n",
    "g_prime"
   ]
  },
  {
   "cell_type": "code",
   "execution_count": 10,
   "metadata": {},
   "outputs": [
    {
     "data": {
      "text/plain": [
       "2.9247017533865827"
      ]
     },
     "execution_count": 10,
     "metadata": {},
     "output_type": "execute_result"
    }
   ],
   "source": [
    "PAgn_factor = ((1+g_prime)**n - 1)/(g_prime*(1+g_prime)**n)\n",
    "PAgn_factor"
   ]
  },
  {
   "cell_type": "code",
   "execution_count": 11,
   "metadata": {},
   "outputs": [
    {
     "data": {
      "text/plain": [
       "32.496686148739805"
      ]
     },
     "execution_count": 11,
     "metadata": {},
     "output_type": "execute_result"
    }
   ],
   "source": [
    "P = A*PAgn_factor/(1+g)\n",
    "P"
   ]
  },
  {
   "cell_type": "markdown",
   "metadata": {},
   "source": [
    "### Equivalence Function Diagrams\n",
    "Plotting the present value as a function of the interest rate can be useful for derermining economic equivalence.\n",
    "We'll plot some relationships to help address some questions.\n",
    "\n",
    "Q1: What interest rate is required to convert a present value of \\\\$1500 into \\\\$5000 10 years later?"
   ]
  },
  {
   "cell_type": "code",
   "execution_count": 12,
   "metadata": {},
   "outputs": [],
   "source": [
    "# Import some plotting capabilities and numerical python\n",
    "import numpy as np\n",
    "import matplotlib.pyplot as plt\n",
    "import matplotlib.ticker as mtick"
   ]
  },
  {
   "cell_type": "code",
   "execution_count": 13,
   "metadata": {},
   "outputs": [
    {
     "data": {
      "image/png": "[encoded data removed]",
      "text/plain": [
       "<Figure size 432x288 with 1 Axes>"
      ]
     },
     "metadata": {
      "needs_background": "light"
     },
     "output_type": "display_data"
    }
   ],
   "source": [
    "# Example from Figure 8.3\n",
    "F = 5000\n",
    "n = 10\n",
    "P_array = []\n",
    "i_array = np.arange(0,16/100,.001)\n",
    "P0 =1500\n",
    "#print(i_array)\n",
    "for i in i_array:\n",
    "    PFin_factor = 1/(1+i)**n \n",
    "    P_array.append(F*PFin_factor)\n",
    "plt.plot(i_array,P_array,label=\"Calculated P\")\n",
    "plt.plot([min(i_array),max(i_array)],[P0,P0],label=\"Given P\")\n",
    "plt.xlabel(\"Interest Rate, $i$\")\n",
    "plt.ylabel(\"Present Value, P in dollars\")\n",
    "plt.grid()\n",
    "plt.legend()\n",
    "plt.title(\"Equivalece Function diagram for $i$\")\n",
    "ax= plt.gca()\n",
    "ax.xaxis.set_major_formatter(mtick.PercentFormatter(1,decimals=0))\n",
    "ax.set_ylim([0,5500]);"
   ]
  },
  {
   "cell_type": "code",
   "execution_count": 14,
   "metadata": {},
   "outputs": [
    {
     "data": {
      "text/plain": [
       "0.32197323659069593"
      ]
     },
     "execution_count": 14,
     "metadata": {},
     "output_type": "execute_result"
    }
   ],
   "source": [
    "#P/F,i,n or P/F,12,10\n",
    "1/(1+.12)**10"
   ]
  },
  {
   "cell_type": "code",
   "execution_count": 15,
   "metadata": {},
   "outputs": [
    {
     "data": {
      "text/plain": [
       "1609.8661829534797"
      ]
     },
     "execution_count": 15,
     "metadata": {},
     "output_type": "execute_result"
    }
   ],
   "source": [
    "#Current present value\n",
    "F*1/(1+.12)**10"
   ]
  },
  {
   "cell_type": "code",
   "execution_count": 16,
   "metadata": {},
   "outputs": [
    {
     "data": {
      "text/plain": [
       "0.2697438095188984"
      ]
     },
     "execution_count": 16,
     "metadata": {},
     "output_type": "execute_result"
    }
   ],
   "source": [
    "#P/F,i,n or P/F,14,10\n",
    "1/(1+.14)**10"
   ]
  },
  {
   "cell_type": "code",
   "execution_count": 17,
   "metadata": {},
   "outputs": [
    {
     "data": {
      "text/plain": [
       "1348.7190475944922"
      ]
     },
     "execution_count": 17,
     "metadata": {},
     "output_type": "execute_result"
    }
   ],
   "source": [
    "# Present value\n",
    "F*1/(1+.14)**10"
   ]
  },
  {
   "cell_type": "markdown",
   "metadata": {},
   "source": [
    "Based on the rough estimation from the graph, the interest rate should be between 12% and 14%.\n",
    "\n",
    "To solve for the actual interest rate needed for a given time, start with the equivalence:\n",
    "$$ P = F \\left[\\frac{1}{(1+i)^n}\\right]$$\n",
    "Multiply both sides by $(1+i)^n$\n",
    "$$ P(1+i)^n = F$$\n",
    "Divide both sided by $P$\n",
    "$$ (1+i)^n = F/P$$\n",
    "Take the logarithm base $e$ of both sides\n",
    "$$n \\log (1+i) = \\log (F/P) $$\n",
    "Divide both sides by $n$\n",
    "$$\\log (1+i) = \\frac{ \\log (F/P)}{n} $$\n",
    "Take the antilog of both sides:\n",
    "$$1+i = \\exp\\left(\\frac{ \\log (F/P)}{n}\\right)$$\n",
    "Solve for i\n",
    "$$i = \\exp\\left(\\frac{ \\log (F/P)}{n}\\right)-1$$\n",
    "which can be reduced to\n",
    "$$ i = (F/P)^{1/n} -1 $$"
   ]
  },
  {
   "cell_type": "code",
   "execution_count": 24,
   "metadata": {},
   "outputs": [
    {
     "name": "stdout",
     "output_type": "stream",
     "text": [
      "The interest rate needed to convert $1500 into $5000 in 10 years is 12.79%.\n"
     ]
    }
   ],
   "source": [
    "P=P0\n",
    "i = (F/P)**(1/n)-1\n",
    "print(\"The interest rate needed to convert ${} into ${} in {} years is {:0.2f}%.\".format(P,F,n,i*100))"
   ]
  },
  {
   "cell_type": "markdown",
   "metadata": {},
   "source": [
    "We can also eveluate the number of periods (years) for needed for a given interest rate.\n",
    "\n",
    "For example, that value of $n$ will double a present value of \\\\$4000 to \\\\$8000 if the interest rate is 8%?"
   ]
  },
  {
   "cell_type": "code",
   "execution_count": 26,
   "metadata": {},
   "outputs": [
    {
     "data": {
      "text/plain": [
       "9.0"
      ]
     },
     "execution_count": 26,
     "metadata": {},
     "output_type": "execute_result"
    }
   ],
   "source": [
    "#Rule of 72:\n",
    "72/8 #years to double at 8% interest"
   ]
  },
  {
   "cell_type": "code",
   "execution_count": 27,
   "metadata": {},
   "outputs": [
    {
     "data": {
      "text/plain": [
       "(0, 8500)"
      ]
     },
     "execution_count": 27,
     "metadata": {},
     "output_type": "execute_result"
    },
    {
     "data": {
      "image/png": "[encoded data removed]",
      "text/plain": [
       "<Figure size 432x288 with 1 Axes>"
      ]
     },
     "metadata": {
      "needs_background": "light"
     },
     "output_type": "display_data"
    }
   ],
   "source": [
    "# Example from Figure 8.4\n",
    "F = 8000\n",
    "i = 0.08\n",
    "P0 = 4000\n",
    "P_array = []\n",
    "n_array = np.arange(1,15)\n",
    "for n in n_array:\n",
    "    PFin_factor = 1/(1+i)**n \n",
    "    P_array.append(F*PFin_factor)\n",
    "plt.plot(n_array,P_array,label=\"Calculated P\")\n",
    "plt.plot([min(n_array),max(n_array)],[P0,P0],label=\"Given P\")\n",
    "plt.xlabel(\"Comounding Periods, $n$\")\n",
    "plt.ylabel(\"Present Value, P in dollars\")\n",
    "plt.grid()\n",
    "plt.legend()\n",
    "plt.title(\"Equivalece Function diagram for $n$\")\n",
    "ax= plt.gca()\n",
    "ax.set_ylim([0,8500])"
   ]
  },
  {
   "cell_type": "markdown",
   "metadata": {},
   "source": [
    "Based on the rough estimation from the graph, the number of years should be between 9 and 10 years.\n",
    "\n",
    "To solve for the actual number of compounding periods, $n$, needed for a given time, start with the equivalence:\n",
    "$$ P = F \\left[\\frac{1}{(1+i)^n}\\right]$$\n",
    "Multiply both sides by $(1+i)^n$\n",
    "$$ P(1+i)^n = F$$\n",
    "Divide both sided by $P$\n",
    "$$ (1+i)^n = F/P$$\n",
    "Take the logarithm base $e$ of both sides\n",
    "$$n \\log (1+i) = \\log (F/P) $$\n",
    "Divide both sides by $\\log (1+i)$\n",
    "$$n = \\frac{ \\log (F/P)}{\\log (1+i)} $$"
   ]
  },
  {
   "cell_type": "code",
   "execution_count": 28,
   "metadata": {},
   "outputs": [
    {
     "name": "stdout",
     "output_type": "stream",
     "text": [
      "The number of years needed to convert $4000 into $8000 with an interest rate of 8.00% is 9.01 years.\n"
     ]
    }
   ],
   "source": [
    "P=P0\n",
    "n = log(F/P)/log(1+i)\n",
    "print(\"The number of years needed to convert ${} into ${} with an interest rate of {:0.2f}% is {:0.2f} years.\".format(P,F,i*100,n))"
   ]
  },
  {
   "cell_type": "markdown",
   "metadata": {},
   "source": [
    "## Evaluating a Single Alternative\n",
    "The scenario is to invest in some energy savings equipment to improve building efficiency.\n",
    "\n",
    "Given a disbursment and savings for a single alternative as shown in the following table:\n",
    "\n",
    "| Year | Disbursment | Savings |\n",
    "| --- | --- | --- |\n",
    "| 0 | 28000 | - |\n",
    "| 1 | - | 9500 |\n",
    "| 2 | - | 9500 |\n",
    "| 2 | 2500 | - |\n",
    "| 3 | - | 9500 |\n",
    "| 4 | - | 9500 |\n",
    "| 4 | - | 8000 |"
   ]
  },
  {
   "cell_type": "markdown",
   "metadata": {},
   "source": [
    "### Present Equivalent Evaluation\n",
    "To calculate a present value for comparison, use the formula \n",
    "$$ PE(i) = \\sum_{t=0}^n F_t(1+i)^{-t} $$"
   ]
  },
  {
   "cell_type": "code",
   "execution_count": null,
   "metadata": {},
   "outputs": [],
   "source": [
    "t_list   = [ 0,     1,    2,     2,    3,    4,    4 ]\n",
    "F_t_list = [-28000, 9500, 9500, -2500, 9500, 9500, 8000]"
   ]
  },
  {
   "cell_type": "code",
   "execution_count": null,
   "metadata": {},
   "outputs": [],
   "source": [
    "i=0.12\n",
    "PE = 0\n",
    "for t,F_t in zip(t_list,F_t_list):\n",
    "    PE += F_t*(1+i)**-t\n",
    "PE"
   ]
  },
  {
   "cell_type": "code",
   "execution_count": null,
   "metadata": {},
   "outputs": [],
   "source": [
    "print(\"The present value of the investment is ${:0.2f}. Since this is greater than zero, it's a desireable undertaking.\".format(PE))"
   ]
  },
  {
   "cell_type": "markdown",
   "metadata": {},
   "source": [
    "### Annual Equivalent Evaluation\n",
    "\n",
    "To calculate an annual equivalent for comparison, use the formula \n",
    "$$ AE(i) = \\left[ \\sum_{t=0}^n F_t(1+i)^{-t}\\right]\\left[ \\frac{i(1+i)^n}{(1+i)^n-1} \\right] $$"
   ]
  },
  {
   "cell_type": "code",
   "execution_count": null,
   "metadata": {},
   "outputs": [],
   "source": [
    "n = 4\n",
    "APin_factor = i*(1+i)**n/((1+i)**n -1)\n",
    "AE = PE*APin_factor\n",
    "AE"
   ]
  },
  {
   "cell_type": "code",
   "execution_count": null,
   "metadata": {},
   "outputs": [],
   "source": [
    "print(\"If ${} is invested now, a {0.0f}% return will be received plus and equivalent of ${0.2f} each year.\".format(F_t_list[0]))"
   ]
  },
  {
   "cell_type": "markdown",
   "metadata": {},
   "source": [
    "### Future Equivalent Evaluation\n",
    "When making a decision based on value, you can compare future equivalent savings to future equivalent costs at a given interest rate. Use the following formula to compute the future equivalent\n",
    "$$ FE(i) = \\sum_{t=0}^n F_t(1+i)^{n-t} $$\n",
    "\n",
    "or \n",
    "$$ FE(i) =  PE(i)\\cdot(1+i)^{n} $$"
   ]
  },
  {
   "cell_type": "code",
   "execution_count": null,
   "metadata": {},
   "outputs": [],
   "source": [
    "FPin_factor = (1+i)**n\n",
    "FPin_factor"
   ]
  },
  {
   "cell_type": "code",
   "execution_count": null,
   "metadata": {},
   "outputs": [],
   "source": [
    "FE = PE*FPin_factor\n",
    "FE"
   ]
  },
  {
   "cell_type": "code",
   "execution_count": null,
   "metadata": {},
   "outputs": [],
   "source": [
    "print(\"Because the future equivalent amount of ${:0.2f} is greater than zero,\\n this is a desirable venture at {:0.1f}% interest rate.\".format(FE,i))"
   ]
  },
  {
   "cell_type": "markdown",
   "metadata": {},
   "source": [
    "### Rate-of-return evaluation\n",
    "The return on investment (ROI) or rate of return is a dimensionless parameter that is widely used in making economic decisions. It is the interest rate that would show a present value equivalence of zero. The algebraic relationship is \n",
    "$$ 0 = PE(i^*) = \\sum_{t=0}^n F_t(1-i^*)^{-t}$$\n",
    "where $i^*$ is the interest rate that satisfies this relationship, which is the rate of return.\n",
    "\n",
    "The equivalent PE, FE, or AE can be set to zero to compute the rate of return.\n",
    "\n",
    "Let's build a function and use the scientific python libary functions to solve. \n",
    "\n",
    "https://docs.scipy.org/doc/scipy/reference/optimize.html"
   ]
  },
  {
   "cell_type": "code",
   "execution_count": null,
   "metadata": {},
   "outputs": [],
   "source": [
    "def PE_rate_of_return(i, F_t_list = F_t_list, t_list = t_list):\n",
    "    \"\"\"\n",
    "    F_t_list is a list of the anticipated cash flows\n",
    "    t_list is the list of the times (periods) corresponding with the cash flows\n",
    "    i is the annual interest rate\n",
    "    \"\"\"\n",
    "    PE = 0\n",
    "    #Check to be sure the cash flows and times have the same number of elements\n",
    "    assert len(F_t_list) == len(t_list)\n",
    "    for t,F_t in zip(t_list, F_t_list):\n",
    "        try:\n",
    "            PE += F_t*(1+i)**(-t)\n",
    "        except ZeroDivisionError:\n",
    "            pass\n",
    "    return PE"
   ]
  },
  {
   "cell_type": "code",
   "execution_count": null,
   "metadata": {},
   "outputs": [],
   "source": [
    "(i,F_t_list,t_list)"
   ]
  },
  {
   "cell_type": "code",
   "execution_count": null,
   "metadata": {},
   "outputs": [],
   "source": [
    "# Calculating at 15%\n",
    "PE_rate_of_return(.15)"
   ]
  },
  {
   "cell_type": "code",
   "execution_count": null,
   "metadata": {},
   "outputs": [],
   "source": [
    "# Book Example is off\n",
    "31982-29800"
   ]
  },
  {
   "cell_type": "code",
   "execution_count": null,
   "metadata": {},
   "outputs": [],
   "source": [
    "n=4\n",
    "i=.15\n",
    "PAin_factor = ((1+i)**n-1)/(i*(1+i)**n)\n",
    "PAin_factor #The book has 2.885"
   ]
  },
  {
   "cell_type": "code",
   "execution_count": null,
   "metadata": {},
   "outputs": [],
   "source": [
    "9500*PAin_factor"
   ]
  },
  {
   "cell_type": "code",
   "execution_count": null,
   "metadata": {},
   "outputs": [],
   "source": [
    "9500*PAin_factor+4574"
   ]
  },
  {
   "cell_type": "code",
   "execution_count": null,
   "metadata": {},
   "outputs": [],
   "source": [
    "PFin_factor = 1/(1+i)**n\n",
    "PFin_factor*8000"
   ]
  },
  {
   "cell_type": "code",
   "execution_count": null,
   "metadata": {},
   "outputs": [],
   "source": [
    "# Calculating at 20%\n",
    "PE_rate_of_return(.2)"
   ]
  },
  {
   "cell_type": "code",
   "execution_count": null,
   "metadata": {},
   "outputs": [],
   "source": [
    "#Book Example is close\n",
    "28450-29736"
   ]
  },
  {
   "cell_type": "code",
   "execution_count": null,
   "metadata": {},
   "outputs": [],
   "source": [
    "#Plot the relationship\n",
    "i_array = np.arange(-.1,1,.01)\n",
    "PE_array = PE_rate_of_return(i_array)\n",
    "plt.plot(i_array,PE_array,label=\"Present Value Equivalent\")\n",
    "plt.plot(0.1781,0,'d',label=\"equation root\")\n",
    "plt.grid()\n",
    "plt.xlabel(\"Interest Rate or Rate of Return\")\n",
    "plt.ylabel(\"Present Value Equivalent\")\n",
    "plt.legend()\n",
    "plt.title(\"Solution for Rate-of-Return Calculation\")\n",
    "ax= plt.gca()\n",
    "ax.xaxis.set_major_formatter(mtick.PercentFormatter(1,decimals=0))\n",
    "#uncomment to zoom in\n",
    "#ax.set_xlim([.15,.20])\n",
    "#ax.set_ylim([-500,500])"
   ]
  },
  {
   "cell_type": "markdown",
   "metadata": {},
   "source": [
    "What is the actual value of the interest rate where the present equivalent is equal to zero? We'll need to find the root of the equation. To do this, let's use a bracketed root finding technique called the Brent method.\n",
    "\n",
    "\n",
    "https://docs.scipy.org/doc/scipy/reference/generated/scipy.optimize.brentq.html#scipy.optimize.brentq"
   ]
  },
  {
   "cell_type": "code",
   "execution_count": null,
   "metadata": {},
   "outputs": [],
   "source": [
    "from scipy.optimize import brentq"
   ]
  },
  {
   "cell_type": "code",
   "execution_count": null,
   "metadata": {},
   "outputs": [],
   "source": [
    "root = brentq(PE_rate_of_return, -.9, 10)\n",
    "print(\"The rate of return is {:0.2f}%\".format(root*100))"
   ]
  },
  {
   "cell_type": "code",
   "execution_count": null,
   "metadata": {},
   "outputs": [],
   "source": [
    "#This should be close to zero\n",
    "PE_rate_of_return(root)"
   ]
  },
  {
   "cell_type": "markdown",
   "metadata": {},
   "source": [
    "### Payout Evaluation\n",
    "We can evaluate a proposed system based on how long it will take to pay for itself in terms of benefit, revenue or savings. Systems with faster payoff times are less risky and more desireable.\n",
    "\n",
    "Using a present equivalent approach, the payout time is determined for the smallest value of $n^*$ in the following:\n",
    "$$ 0\\le PE(n^*) = \\sum_{t=0}^{n^*}F_t(1+i)^{-t}$$\n"
   ]
  },
  {
   "cell_type": "code",
   "execution_count": null,
   "metadata": {},
   "outputs": [],
   "source": [
    "# Create a function to take both i and n as arguments\n",
    "def PE_in(i, n, F_t_list=F_t_list, t_list=t_list):\n",
    "    \"\"\"\n",
    "    F_t_list is a list of the anticipated cash flows\n",
    "    t_list is the list of the times (periods) corresponding with the cash flows\n",
    "    i is the annual interest rate\n",
    "    n is the number of years and should be greater than or equal to the time\n",
    "    \"\"\"\n",
    "    assert len(F_t_list) == len(t_list)\n",
    "    #Check to be sure the cash flows and times have the same number of elements\n",
    "    PE = 0\n",
    "    for t,F_t in zip(t_list, F_t_list):\n",
    "        try:\n",
    "            PE += F_t*(1+i)**(-t)\n",
    "        except ZeroDivisionError:\n",
    "            pass\n",
    "        #Check to see if the number of periods\n",
    "        if t >= n: \n",
    "            break\n",
    "    return PE "
   ]
  },
  {
   "cell_type": "code",
   "execution_count": null,
   "metadata": {},
   "outputs": [],
   "source": [
    "t_list   = [ 0,     1,    2,    2,     3,    4,    4, ]\n",
    "F_t_list = [-28000, 9500, 9500, -2500, 9500, 9500, 8000 ]\n",
    "i = .12\n",
    "PE_list = []\n",
    "n_list = [n for n in range(0,6)]\n",
    "\n",
    "for n in n_list:\n",
    "    PE_list.append(PE_in(i, n, F_t_list, t_list) )\n",
    "plt.plot(n_list,PE_list,'-o')\n",
    "plt.grid()\n",
    "plt.xlabel(\"Years from initial investment\")\n",
    "plt.ylabel(\"Present Equivalent Value\")"
   ]
  },
  {
   "cell_type": "markdown",
   "metadata": {},
   "source": [
    "Note: This example was insipired by Section 8.3.5. However, the book example has a salvage recovery after the short duration of use, which is unreasonable. As such, it is recommended to not include salvage value when computing Payout times."
   ]
  },
  {
   "cell_type": "markdown",
   "metadata": {},
   "source": [
    "### Annual Equivalent Cost of and Asset\n",
    "The cost of an asset is made up of two components: \n",
    "1. the cost of depreciation, and\n",
    "2. the cost of interest on the undepreciated balance.\n",
    "\n",
    "Straight line depreciation means the value of the asset will drop by a constant amount each year, which is calculated as \n",
    "\n",
    "$$ \\delta = \\frac{P-F}{n} $$ where $P$ is the initial cost, $F$ is the salvage value, and $n$ is the useful service life."
   ]
  },
  {
   "cell_type": "code",
   "execution_count": null,
   "metadata": {},
   "outputs": [],
   "source": [
    "# Depreciation Calculation\n",
    "P = 5000 #Initial cost\n",
    "F = 1000 #salvage cost\n",
    "n = 5 # years service life\n",
    "i = .10 # interest rate\n",
    "depreciation = (P-F)/n\n",
    "depreciation"
   ]
  },
  {
   "cell_type": "code",
   "execution_count": null,
   "metadata": {},
   "outputs": [],
   "source": [
    "current_value = P\n",
    "for k in range(1,n+1): #5 years, starting at 1\n",
    "    annual_interest = current_value * i\n",
    "    decrease = annual_interest + depreciation\n",
    "    print(current_value, decrease)\n",
    "    current_value = current_value - depreciation\n",
    "    "
   ]
  },
  {
   "cell_type": "code",
   "execution_count": null,
   "metadata": {},
   "outputs": [],
   "source": [
    "# Annual Equivalent Cost of an Asset\n",
    "APin_factor = (i*(1+i)**n)/((1+i)**n - 1)\n",
    "A = (P-F)*APin_factor + F*i\n",
    "print(\"The annual equivalent cost of ${:0.2f} is the amount an asset \\n must earn each year if the invested capital is recovered with a return.\".format(A))"
   ]
  },
  {
   "cell_type": "code",
   "execution_count": null,
   "metadata": {},
   "outputs": [],
   "source": []
  }
 ],
 "metadata": {
  "kernelspec": {
   "display_name": "Python 3",
   "language": "python",
   "name": "python3"
  },
  "language_info": {
   "codemirror_mode": {
    "name": "ipython",
    "version": 3
   },
   "file_extension": ".py",
   "mimetype": "text/x-python",
   "name": "python",
   "nbconvert_exporter": "python",
   "pygments_lexer": "ipython3",
   "version": "3.7.4"
  }
 },
 "nbformat": 4,
 "nbformat_minor": 2
}
