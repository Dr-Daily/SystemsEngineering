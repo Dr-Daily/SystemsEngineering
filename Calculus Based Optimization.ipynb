{
 "cells": [
  {
   "cell_type": "code",
   "execution_count": 1,
   "metadata": {},
   "outputs": [],
   "source": [
    "import numpy as np\n",
    "import matplotlib.pyplot as plt\n",
    "from scipy import optimize"
   ]
  },
  {
   "cell_type": "code",
   "execution_count": 17,
   "metadata": {},
   "outputs": [],
   "source": [
    "# Define the objective or cost function to minimize\n",
    "# If you are trying to maximize, then multiply by -1\n",
    "def f(x):\n",
    "    return (x-2)**2 + 2"
   ]
  },
  {
   "cell_type": "code",
   "execution_count": 15,
   "metadata": {},
   "outputs": [],
   "source": [
    "# This is optional \n",
    "def f_prime(x):\n",
    "    return 2*(x-2)"
   ]
  },
  {
   "cell_type": "code",
   "execution_count": 16,
   "metadata": {},
   "outputs": [],
   "source": [
    "def f_pprime(x):\n",
    "    return 2"
   ]
  },
  {
   "cell_type": "code",
   "execution_count": 11,
   "metadata": {},
   "outputs": [
    {
     "data": {
      "text/plain": [
       "      fun: -1.9999999999999993\n",
       " hess_inv: array([[0.49999999]])\n",
       "      jac: array([-4.47034836e-08])\n",
       "  message: 'Optimization terminated successfully.'\n",
       "     nfev: 6\n",
       "      nit: 2\n",
       "     njev: 3\n",
       "   status: 0\n",
       "  success: True\n",
       "        x: array([1.99999997])"
      ]
     },
     "execution_count": 11,
     "metadata": {},
     "output_type": "execute_result"
    }
   ],
   "source": [
    "initial_guess = 0\n",
    "result = optimize.minimize(f,initial_guess)\n",
    "result"
   ]
  },
  {
   "cell_type": "code",
   "execution_count": 12,
   "metadata": {},
   "outputs": [],
   "source": [
    "if result.success == True:\n",
    "    min_x = result.x\n",
    "else:\n",
    "    min_x = None"
   ]
  },
  {
   "cell_type": "code",
   "execution_count": 13,
   "metadata": {
    "scrolled": false
   },
   "outputs": [
    {
     "data": {
      "image/png": "[encoded data removed]",
      "text/plain": [
       "<Figure size 432x288 with 1 Axes>"
      ]
     },
     "metadata": {
      "needs_background": "light"
     },
     "output_type": "display_data"
    }
   ],
   "source": [
    "x = np.arange(-4,4,.01)\n",
    "plt.plot(x,f(x),label=\"$f(x)$\")\n",
    "plt.plot(x,f_prime(x),label=\"$f^\\prime(x)$\")\n",
    "if result.success == True:\n",
    "    plt.plot(min_x,f(min_x),'d',label=\"Minimum Point\")\n",
    "plt.grid()\n",
    "plt.xlabel(\"x\")\n",
    "plt.ylabel('y')\n",
    "plt.legend();"
   ]
  },
  {
   "cell_type": "code",
   "execution_count": 18,
   "metadata": {},
   "outputs": [
    {
     "name": "stdout",
     "output_type": "stream",
     "text": [
      "The stationary point is at a minimum.\n"
     ]
    }
   ],
   "source": [
    "if f_pprime(min_x) > 0:\n",
    "    print(\"The stationary point is at a minimum.\")\n",
    "else:\n",
    "    print(\"The stationary point is not at a minimum.\")"
   ]
  }
 ],
 "metadata": {
  "kernelspec": {
   "display_name": "Python 3",
   "language": "python",
   "name": "python3"
  },
  "language_info": {
   "codemirror_mode": {
    "name": "ipython",
    "version": 3
   },
   "file_extension": ".py",
   "mimetype": "text/x-python",
   "name": "python",
   "nbconvert_exporter": "python",
   "pygments_lexer": "ipython3",
   "version": "3.8.5"
  }
 },
 "nbformat": 4,
 "nbformat_minor": 4
}
