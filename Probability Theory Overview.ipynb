{
 "cells": [
  {
   "cell_type": "markdown",
   "metadata": {},
   "source": [
    "# <center> Probability Theory Overview\n",
    "## <center> Systems Engineering and Analysis\n",
    "## <center> <img src=\"https://www.engr.colostate.edu/~jdaily/Systems-EN-CSU-1-C357.svg\" width=\"400\" /> \n",
    "### <center> Prepared by: Dr. Jeremy Daily"
   ]
  },
  {
   "cell_type": "markdown",
   "metadata": {},
   "source": [
    "# Overview\n",
    "\n",
    "This is a Jupyter Notebook that can present structured text through markdown, mathematics through $\\LaTeX$, and operational Python source code. A fast way to run these notebooks is to download and install the Anaconda distribution of Python, which includes most of the math and science libraries needed to work with the tools in this notebook.\n",
    "\n",
    "https://www.anaconda.com/products/individual#Downloads\n",
    "\n",
    "If you are already familiar with Python, you can install the packages individually using pip.\n",
    "```\n",
    "pip install scipy matplotlib jupyter\n",
    "```\n",
    "\n",
    "\n",
    "In this notebook, we will explore the following topics:\n",
    "1. Set theory and using sets built into Python to explore set membership and operations.\n",
    "1. Venn Diagrams and visualizing sets.\n",
    "1. Describing the likelihood of events using probability. \n",
    "1. Calculating event probability using distribution functions.\n",
    "1. Monte Carlo Simulation and the Monty Hall problem."
   ]
  },
  {
   "cell_type": "markdown",
   "metadata": {},
   "source": [
    "# Set Theory\n",
    "Set... A collection of events or outcomes.\n",
    "\n",
    "Notation:\n",
    "\n",
    "$\\{\\cdot\\}$ represents an unordered set\n",
    "\n",
    "$(\\cdot)$ represents an ordered set\n",
    "\n",
    "#### Examples\n",
    "The set of integers: \n",
    "$$\\mathbb{Z}=\\{\\dots, -3, -2, -1, 0, 1, 2, 3, \\dots\\}$$\n",
    "\n",
    "The set of natural numbers:\n",
    "$$\\mathbb{N} = \\{0,1,2,\\dots\\}$$\n",
    "\n",
    "The set of real numbers: $$\\mathbb{R}$$\n",
    "\n",
    "The set of real numbers in 3-d space i.e. $(x,y,z)$: $$\\mathbb{R}^3$$\n",
    "\n",
    "The Null Set or Empty Set: $$\\varnothing=\\{\\}$$"
   ]
  },
  {
   "cell_type": "markdown",
   "metadata": {},
   "source": [
    "### Subsets and inclusion\n",
    "\n",
    "$\\mathbb{Z}_E$ is the set of even integers.\n",
    "\n",
    "$\\mathbb{Z}_O$ is the set of odd integers.\n",
    "\n",
    "$\\mathbb{S} = \\{\\mathbb{Z}_E,\\mathbb{Z}_O\\} = \\mathbb{Z}$\n",
    "\n",
    "Set inclusion:\n",
    "$$\\mathbb{N}\\subset\\mathbb{Z}$$\n",
    "\n",
    "The symbol $\\subset$ means subset or \"is included in.\"\n",
    "\n",
    "$$\\emptyset \\subset \\mathbb{S}$$\n",
    "\n",
    "We have set equality when $A \\subset B$ and $B\\subset A$\n"
   ]
  },
  {
   "cell_type": "markdown",
   "metadata": {},
   "source": [
    "## Sets in Python \n",
    "Python 3 has unordered sets as a data type. We can use this capability to demonstrate some set theory operations and applications.\n",
    "\n",
    "https://docs.python.org/3/library/stdtypes.html#set"
   ]
  },
  {
   "cell_type": "code",
   "execution_count": 1,
   "metadata": {
    "scrolled": true
   },
   "outputs": [
    {
     "name": "stdout",
     "output_type": "stream",
     "text": [
      "setA: {'D', 'A', 'R', 'O', 'L', 'C'}\n",
      "setB: {'L', 'C', 'R', 'O'}\n",
      "Is setA.issubset(setB)? False\n",
      "Is setB.issubset(setA)? True\n",
      "Is setA == setB? False\n"
     ]
    }
   ],
   "source": [
    "# Let's make a couple sets to see if they are equal\n",
    "setA = set(\"COLORADO\")\n",
    "print(\"setA:\",setA)\n",
    "setB = set(\"COLOR\")\n",
    "print(\"setB:\",setB)\n",
    "print(\"Is setA.issubset(setB)?\", setA.issubset(setB))\n",
    "print(\"Is setB.issubset(setA)?\", setB.issubset(setA))\n",
    "print(\"Is setA == setB?\", setA == setB)"
   ]
  },
  {
   "cell_type": "markdown",
   "metadata": {},
   "source": [
    "### Using $\\LaTeX$ to typeset set math\n",
    "Jupyter notebooks can accept $\\LaTeX$ syntax to typeset mathematical expression. There are many on-line resources to learn and reference the $\\LaTeX$ markup. For example:\n",
    "\n",
    "https://oeis.org/wiki/List_of_LaTeX_mathematical_symbols\n",
    "\n",
    "Below is an example. The displayed syntax is preserved using triple ticks ` ``` `\n",
    "\n",
    "```\n",
    "$$A \\supset B$$\n",
    "```\n",
    "$$A \\supset B$$ means A is a superset of B or A contains B."
   ]
  },
  {
   "cell_type": "code",
   "execution_count": 2,
   "metadata": {},
   "outputs": [
    {
     "name": "stdout",
     "output_type": "stream",
     "text": [
      "setA: {'D', 'A', 'R', 'O', 'L', 'C'}\n",
      "setB: {'L', 'C', 'R', 'O'}\n",
      "Is A a superset of B? True\n",
      "Is B a superset of A? False\n"
     ]
    }
   ],
   "source": [
    "# Superset evaluations\n",
    "print(\"setA:\", setA )\n",
    "print(\"setB:\", setB )\n",
    "print(\"Is A a superset of B?\",setA.issuperset(setB) )\n",
    "print(\"Is B a superset of A?\",setB.issuperset(setA) )\n",
    "# B does not contain A"
   ]
  },
  {
   "cell_type": "markdown",
   "metadata": {},
   "source": [
    "#### Set Union\n",
    "The union of two sets is a collection of all the elements in each set, without duplicates.\n",
    "\n",
    "$$A \\cup B$$ \n",
    "is an \"OR\" statement, A or B. This is also equivalent to adding sets together."
   ]
  },
  {
   "cell_type": "code",
   "execution_count": 3,
   "metadata": {},
   "outputs": [
    {
     "name": "stdout",
     "output_type": "stream",
     "text": [
      "setA: {'s', ('tuple', 's', 45), b'bytestring', 45}\n",
      "setB: {'s', 'a', 'u'}\n"
     ]
    }
   ],
   "source": [
    "#declare a set with many data types\n",
    "setA = set([\"s\",45, b'bytestring', ('tuple','s',45),\"s\"] )\n",
    "setB = set(\"usa\")\n",
    "print(\"setA:\", setA)\n",
    "print(\"setB:\", setB)"
   ]
  },
  {
   "cell_type": "code",
   "execution_count": 4,
   "metadata": {},
   "outputs": [
    {
     "data": {
      "text/plain": [
       "{('tuple', 's', 45), 45, 'a', b'bytestring', 's', 'u'}"
      ]
     },
     "execution_count": 4,
     "metadata": {},
     "output_type": "execute_result"
    }
   ],
   "source": [
    "## Union\n",
    "setB.union(setA)"
   ]
  },
  {
   "cell_type": "code",
   "execution_count": 5,
   "metadata": {},
   "outputs": [
    {
     "data": {
      "text/plain": [
       "True"
      ]
     },
     "execution_count": 5,
     "metadata": {},
     "output_type": "execute_result"
    }
   ],
   "source": [
    "# Order doesn't matter for unions\n",
    "setA.union(setB) == setB.union(setA)"
   ]
  },
  {
   "cell_type": "markdown",
   "metadata": {},
   "source": [
    "#### Set Intersection\n",
    "The intersection of two sets is the set of common elements.\n",
    "\n",
    "$$A\\cap B$$\n",
    "\n",
    "is an \"and\" statement, A AND B, which means the elements of the set need to exist in both sets."
   ]
  },
  {
   "cell_type": "code",
   "execution_count": 6,
   "metadata": {},
   "outputs": [
    {
     "data": {
      "text/plain": [
       "{'s'}"
      ]
     },
     "execution_count": 6,
     "metadata": {},
     "output_type": "execute_result"
    }
   ],
   "source": [
    "# Determine common elements of the set with the intersection\n",
    "setA.intersection(setB)"
   ]
  },
  {
   "cell_type": "code",
   "execution_count": 7,
   "metadata": {},
   "outputs": [
    {
     "data": {
      "text/plain": [
       "True"
      ]
     },
     "execution_count": 7,
     "metadata": {},
     "output_type": "execute_result"
    }
   ],
   "source": [
    "# Order doesn't matter for intersections\n",
    "setA.intersection(setB) == setB.intersection(setA)"
   ]
  },
  {
   "cell_type": "code",
   "execution_count": 8,
   "metadata": {},
   "outputs": [
    {
     "data": {
      "text/plain": [
       "{('tuple', 's', 45), 45, 'a', b'bytestring', 'u'}"
      ]
     },
     "execution_count": 8,
     "metadata": {},
     "output_type": "execute_result"
    }
   ],
   "source": [
    "# The symmetric difference is the complement to the intersection\n",
    "setA.symmetric_difference(setB)"
   ]
  },
  {
   "cell_type": "markdown",
   "metadata": {},
   "source": [
    "### Venn Diagrams\n",
    "Venn diagrams are useful in visualizing set membership, intersections, and unions.\n",
    "\n",
    "To run the following block, you'll need to install the matplotlib-venn library.\n",
    "This only needs to be done once. You can install the package by opening the Anaconda  Prompt from the Windows Start Menu.\n",
    "At the prompt enter the following command:\n",
    "```\n",
    " pip install matplotlib-venn\n",
    "```\n",
    "\n",
    "Or, you can use a magic command, as in the following cell.\n",
    "\n",
    "see https://github.com/konstantint/matplotlib-venn for more examples and details.\n",
    "\n",
    "https://pypi.org/project/matplotlib-venn/\n"
   ]
  },
  {
   "cell_type": "code",
   "execution_count": null,
   "metadata": {
    "scrolled": true
   },
   "outputs": [],
   "source": [
    "#%pip install matplotlib_venn"
   ]
  },
  {
   "cell_type": "code",
   "execution_count": 9,
   "metadata": {},
   "outputs": [],
   "source": [
    "# If this import fails, be sure to install the package and restart the kernel.\n",
    "from matplotlib_venn import venn2"
   ]
  },
  {
   "cell_type": "code",
   "execution_count": 10,
   "metadata": {},
   "outputs": [
    {
     "name": "stdout",
     "output_type": "stream",
     "text": [
      "{'s', ('tuple', 's', 45), b'bytestring', 45}\n",
      "{'s', 'a', 'u'}\n"
     ]
    },
    {
     "data": {
      "image/png": "[encoded data removed]",
      "text/plain": [
       "<Figure size 432x288 with 1 Axes>"
      ]
     },
     "metadata": {},
     "output_type": "display_data"
    }
   ],
   "source": [
    "# This example draws circles with the number in A not B, \n",
    "# number in B not A, and number in A and B\n",
    "print(setA)\n",
    "print(setB)\n",
    "venn2([setA,setB]);\n",
    "## Putting a semi colon after venn2(); helps get rid of unnecessary text."
   ]
  },
  {
   "cell_type": "code",
   "execution_count": 11,
   "metadata": {},
   "outputs": [
    {
     "data": {
      "image/png": "[encoded data removed]",
      "text/plain": [
       "<Figure size 432x288 with 1 Axes>"
      ]
     },
     "metadata": {},
     "output_type": "display_data"
    }
   ],
   "source": [
    "# If no elements in a set are in another, then they are mutually exclusive\n",
    "venn2([set(\"0123456789ABCDEF\"),set(\"ZYXWTUV\")]);"
   ]
  },
  {
   "cell_type": "markdown",
   "metadata": {},
   "source": [
    "Events that are **mutually exclusive** are such that their intersection is the empty set:\n",
    "$$ A \\cap B = \\emptyset$$"
   ]
  },
  {
   "cell_type": "markdown",
   "metadata": {},
   "source": [
    "### Compliments\n",
    "The compliment is a \"not\" operation. If all events are contained in a sample space $\\mathbb{S}$, then \n",
    "$$A \\cup \\overline{A} = \\mathbb{S}$$\n",
    "In English: event A and NOT event A are collectively exhaustive events. \n",
    "\n",
    "Keep in mind, event $\\mathbb{S}$ must happen; it is the certain event.\n"
   ]
  },
  {
   "cell_type": "markdown",
   "metadata": {},
   "source": [
    "## Transition to Probability Theory\n",
    "\n",
    "Probability is the science and mathematics of reasoning about uncertain events.\n",
    "\n",
    "The sample space $\\mathbb{S}$ is the set of all possible outcomes of an experiment, which must be mutually exclusive and exhaustive.\n",
    "\n",
    "An event $A$ is a set, where $A\\in\\mathbb{S}$, which can or does occur in an experiment.\n",
    "\n",
    "We conduct an \"experiment\" which results in an event from the sample space. The probability laws explain the likelihood and anticipated frequency of the results of the experiment, as shown in the following sketch by Professor J. Cale.\n",
    "\n",
    "<center> <img src=\"https://www.engr.colostate.edu/~jdaily/ExperimentToProbability.png\" /> \n"
   ]
  },
  {
   "cell_type": "markdown",
   "metadata": {},
   "source": [
    "### Example: Roll of a 6-sided Die\n",
    "All possible outcomes are defined by the discrete set:\n",
    "$$\\mathbb{S}=\\{1,2,3,4,5,6\\}$$\n",
    "Let's define event A as an odd value being rolled. \n",
    "$$ A = \\{1,3,5\\}$$"
   ]
  },
  {
   "cell_type": "code",
   "execution_count": 12,
   "metadata": {},
   "outputs": [],
   "source": [
    "# We'll need to use some of the tools in Numerical Python\n",
    "import numpy as np\n",
    "import matplotlib.pyplot as plt"
   ]
  },
  {
   "cell_type": "code",
   "execution_count": 13,
   "metadata": {},
   "outputs": [
    {
     "data": {
      "text/plain": [
       "{1, 2, 3, 4, 5, 6}"
      ]
     },
     "execution_count": 13,
     "metadata": {},
     "output_type": "execute_result"
    }
   ],
   "source": [
    "#Define the sample space\n",
    "sample_space = set(range(1,7))\n",
    "sample_space"
   ]
  },
  {
   "cell_type": "code",
   "execution_count": 14,
   "metadata": {},
   "outputs": [
    {
     "data": {
      "text/plain": [
       "{1, 3, 5}"
      ]
     },
     "execution_count": 14,
     "metadata": {},
     "output_type": "execute_result"
    }
   ],
   "source": [
    "odds = set([1,3,5])\n",
    "odds"
   ]
  },
  {
   "cell_type": "code",
   "execution_count": 15,
   "metadata": {},
   "outputs": [
    {
     "data": {
      "text/plain": [
       "True"
      ]
     },
     "execution_count": 15,
     "metadata": {},
     "output_type": "execute_result"
    }
   ],
   "source": [
    "#check membership\n",
    "odds.issubset(sample_space)"
   ]
  },
  {
   "cell_type": "code",
   "execution_count": 16,
   "metadata": {},
   "outputs": [
    {
     "data": {
      "text/plain": [
       "{2, 4, 6}"
      ]
     },
     "execution_count": 16,
     "metadata": {},
     "output_type": "execute_result"
    }
   ],
   "source": [
    "#Calculate Odds\n",
    "evens = sample_space.difference(odds)\n",
    "evens"
   ]
  },
  {
   "cell_type": "code",
   "execution_count": 18,
   "metadata": {},
   "outputs": [
    {
     "data": {
      "text/plain": [
       "0.5"
      ]
     },
     "execution_count": 18,
     "metadata": {},
     "output_type": "execute_result"
    }
   ],
   "source": [
    "# With equal likelihood for each member of the set, \n",
    "# then the event probability can be calculated as a ratio\n",
    "P_evens = len(evens)/len(sample_space)\n",
    "P_evens"
   ]
  },
  {
   "cell_type": "code",
   "execution_count": 19,
   "metadata": {},
   "outputs": [
    {
     "data": {
      "text/plain": [
       "0.5"
      ]
     },
     "execution_count": 19,
     "metadata": {},
     "output_type": "execute_result"
    }
   ],
   "source": [
    "P_odds = len(odds)/len(sample_space)\n",
    "P_odds"
   ]
  },
  {
   "cell_type": "code",
   "execution_count": 20,
   "metadata": {},
   "outputs": [
    {
     "data": {
      "text/plain": [
       "array([1, 2, 3, 4, 5, 6])"
      ]
     },
     "execution_count": 20,
     "metadata": {},
     "output_type": "execute_result"
    }
   ],
   "source": [
    "labels, counts = np.unique(sorted(sample_space), return_counts=True)\n",
    "labels"
   ]
  },
  {
   "cell_type": "code",
   "execution_count": 21,
   "metadata": {},
   "outputs": [
    {
     "data": {
      "text/plain": [
       "array([1, 1, 1, 1, 1, 1], dtype=int64)"
      ]
     },
     "execution_count": 21,
     "metadata": {},
     "output_type": "execute_result"
    }
   ],
   "source": [
    "counts"
   ]
  },
  {
   "cell_type": "code",
   "execution_count": 22,
   "metadata": {},
   "outputs": [
    {
     "name": "stderr",
     "output_type": "stream",
     "text": [
      "C:\\Users\\Jeremy\\Anaconda3\\lib\\site-packages\\ipykernel_launcher.py:1: UserWarning: In Matplotlib 3.3 individual lines on a stem plot will be added as a LineCollection instead of individual lines. This significantly improves the performance of a stem plot. To remove this warning and switch to the new behaviour, set the \"use_line_collection\" keyword argument to True.\n",
      "  \"\"\"Entry point for launching an IPython kernel.\n"
     ]
    },
    {
     "data": {
      "text/plain": [
       "Text(0.5, 1.0, 'Occurences for 1 die')"
      ]
     },
     "execution_count": 22,
     "metadata": {},
     "output_type": "execute_result"
    },
    {
     "data": {
      "image/png": "[encoded data removed]",
      "text/plain": [
       "<Figure size 432x288 with 1 Axes>"
      ]
     },
     "metadata": {
      "needs_background": "light"
     },
     "output_type": "display_data"
    }
   ],
   "source": [
    "plt.stem(labels,counts)\n",
    "plt.xlabel(\"Event Space\")\n",
    "plt.ylabel(\"Different combinations for event\")\n",
    "plt.title(\"Occurences for 1 die\")"
   ]
  },
  {
   "cell_type": "markdown",
   "metadata": {},
   "source": [
    "### Discrete Uniform Probability Law\n",
    "\n",
    "If we have a sample space $\\mathbb{S}$ with $|\\mathbb{S}|$ equally likely outcomes, and an event A takes place in that sample space, then\n",
    "\n",
    "$$P(A) = \\frac{|A|}{|\\mathbb{S}|}$$\n",
    "\n",
    "where $|\\cdot|$ represents the cardinality or count of the event.\n",
    "\n",
    "So, the probability of rolling an odd is \n",
    "\n",
    "$$ P(\\mathrm{odd}) = \\frac{3}{6} = 0.5 $$\n",
    "\n",
    "What about rolling 2 dice? What's the probability of getting a value less than 6?"
   ]
  },
  {
   "cell_type": "code",
   "execution_count": 23,
   "metadata": {},
   "outputs": [
    {
     "name": "stdout",
     "output_type": "stream",
     "text": [
      "There are 36 values in the sample space\n",
      "There are 11 mutually exhaustive and exclusive events in the sample space.\n"
     ]
    }
   ],
   "source": [
    "sample_space = set()\n",
    "dice_totals = []\n",
    "events = set()\n",
    "for die1 in range(1,7):\n",
    "    for die2 in range(1,7):\n",
    "        sample_space.add( (die1,die2) ) # order matters for a tuple\n",
    "        dice_totals.append(die1+die2)\n",
    "        events.add( die1+die2 )\n",
    "print(\"There are {} values in the sample space\".format(len(sample_space)))\n",
    "print(\"There are {} mutually exhaustive and exclusive events in the sample space.\".format(len(events)))"
   ]
  },
  {
   "cell_type": "code",
   "execution_count": 24,
   "metadata": {},
   "outputs": [
    {
     "data": {
      "text/plain": [
       "array([ 2,  3,  4,  5,  6,  7,  8,  9, 10, 11, 12])"
      ]
     },
     "execution_count": 24,
     "metadata": {},
     "output_type": "execute_result"
    }
   ],
   "source": [
    "# Use the numerical python unique function to determine the distributions.\n",
    "labels, counts = np.unique(dice_totals, return_counts=True)\n",
    "labels"
   ]
  },
  {
   "cell_type": "code",
   "execution_count": 25,
   "metadata": {},
   "outputs": [
    {
     "data": {
      "text/plain": [
       "array([1, 2, 3, 4, 5, 6, 5, 4, 3, 2, 1], dtype=int64)"
      ]
     },
     "execution_count": 25,
     "metadata": {},
     "output_type": "execute_result"
    }
   ],
   "source": [
    "counts"
   ]
  },
  {
   "cell_type": "code",
   "execution_count": 26,
   "metadata": {},
   "outputs": [
    {
     "name": "stderr",
     "output_type": "stream",
     "text": [
      "C:\\Users\\Jeremy\\Anaconda3\\lib\\site-packages\\ipykernel_launcher.py:2: UserWarning: In Matplotlib 3.3 individual lines on a stem plot will be added as a LineCollection instead of individual lines. This significantly improves the performance of a stem plot. To remove this warning and switch to the new behaviour, set the \"use_line_collection\" keyword argument to True.\n",
      "  \n"
     ]
    },
    {
     "data": {
      "text/plain": [
       "Text(0.5, 1.0, 'Frequency distribution for 2 dice')"
      ]
     },
     "execution_count": 26,
     "metadata": {},
     "output_type": "execute_result"
    },
    {
     "data": {
      "image/png": "[encoded data removed]",
      "text/plain": [
       "<Figure size 432x288 with 1 Axes>"
      ]
     },
     "metadata": {
      "needs_background": "light"
     },
     "output_type": "display_data"
    }
   ],
   "source": [
    "# Plot the space using a stem plot\n",
    "plt.stem(labels,counts)\n",
    "plt.xlabel(\"Event Space\")\n",
    "plt.ylabel(\"Different combinations for event\")\n",
    "plt.title(\"Frequency distribution for 2 dice\")"
   ]
  },
  {
   "cell_type": "markdown",
   "metadata": {},
   "source": [
    "Generally, if events are are disjoint, then \n",
    "$$ P(\\underset{n}{\\cup} A_i) = \\sum_{i=1}^n P(A_i) $$\n",
    "In other words, if the events are independent, then the probability of the set of the events is the sum of the probability of the individual events. This leads to a discussion of the axioms of probability.\n"
   ]
  },
  {
   "cell_type": "code",
   "execution_count": 27,
   "metadata": {},
   "outputs": [
    {
     "data": {
      "text/plain": [
       "0.2777777777777778"
      ]
     },
     "execution_count": 27,
     "metadata": {},
     "output_type": "execute_result"
    }
   ],
   "source": [
    "#Probability of getting less than 6.\n",
    "# The first 4 counts represent the independent combinations less than 6.\n",
    "counts[:4].sum()/counts.sum()"
   ]
  },
  {
   "cell_type": "code",
   "execution_count": 28,
   "metadata": {},
   "outputs": [
    {
     "data": {
      "text/plain": [
       "0.2777777777777778"
      ]
     },
     "execution_count": 28,
     "metadata": {},
     "output_type": "execute_result"
    }
   ],
   "source": [
    "(1+2+3+4)/36"
   ]
  },
  {
   "cell_type": "code",
   "execution_count": 29,
   "metadata": {},
   "outputs": [
    {
     "data": {
      "text/plain": [
       "0.2777777777777778"
      ]
     },
     "execution_count": 29,
     "metadata": {},
     "output_type": "execute_result"
    }
   ],
   "source": [
    "10/36"
   ]
  },
  {
   "cell_type": "markdown",
   "metadata": {},
   "source": [
    "## Conditional Probability\n",
    "Does the probability change if we know one of the die will show a known value?\n",
    "\n",
    "What's the probability of getting less than 6 if one die shows 3?\n",
    "\n",
    "This is conditional probability.\n",
    "\n",
    "$$ P(A|B) = \\frac{P(A \\cap B)}{P(B)}$$\n",
    "\n",
    "which says the probability of Event A given that Event B has already taken place is the probability of Event A and Event B divided by the probability of Event B.\n",
    "\n",
    "For this example, Event B is one of the dice showing 3 dots and $P(B) = 2/6=1/3$ (2 dice at 1/6 probability). Event A is getting less than 6 for the dice counts. This means  $ A \\cap B$ is the intersection of getting less than 6 and one die showing 3. \n",
    "\n",
    "For this to work, event A can mean the other die must show either a 1 or 2. So $P(A) = 1/3$.\n",
    "\n",
    "Since the events are **independent**, the intersection can be computed with multiplication.\n",
    "\n",
    " $$ P(A \\cap B ) = P(A) P(B) = \\frac{1}{3}\\times\\frac{1}{3} = \\frac{1}{9}$$\n",
    "\n",
    "Therefore, the probability of getting a 6 or less with 2 dice when a 3 is already rolled is:\n",
    "\n",
    "$$ P(A|B) = \\frac{P(A \\cap B)}{P(B)} = \\frac{1/9}{1/3} = \\frac{1}{3}$$\n"
   ]
  },
  {
   "cell_type": "code",
   "execution_count": 30,
   "metadata": {},
   "outputs": [
    {
     "data": {
      "text/plain": [
       "0.3333333333333333"
      ]
     },
     "execution_count": 30,
     "metadata": {},
     "output_type": "execute_result"
    }
   ],
   "source": [
    "# Numerical calulation\n",
    "(1/3) * (1/3) / (1/3)"
   ]
  },
  {
   "cell_type": "code",
   "execution_count": 31,
   "metadata": {},
   "outputs": [],
   "source": [
    "#Let's simulate tossing the dice\n",
    "from scipy.stats import randint"
   ]
  },
  {
   "cell_type": "code",
   "execution_count": 42,
   "metadata": {},
   "outputs": [],
   "source": [
    "N=10000000\n",
    "die1 = randint.rvs(1,7,size=N)\n",
    "die2 = randint.rvs(1,7,size=N)\n",
    "toss = die1+die2"
   ]
  },
  {
   "cell_type": "code",
   "execution_count": 43,
   "metadata": {},
   "outputs": [
    {
     "data": {
      "text/plain": [
       "array([7, 8, 9, ..., 8, 9, 5])"
      ]
     },
     "execution_count": 43,
     "metadata": {},
     "output_type": "execute_result"
    }
   ],
   "source": [
    "toss"
   ]
  },
  {
   "cell_type": "code",
   "execution_count": 44,
   "metadata": {},
   "outputs": [
    {
     "data": {
      "text/plain": [
       "array([False, False, False, ..., False, False,  True])"
      ]
     },
     "execution_count": 44,
     "metadata": {},
     "output_type": "execute_result"
    }
   ],
   "source": [
    "# We can get a 1 (or True) everywhere the toss is less than 6\n",
    "toss < 6"
   ]
  },
  {
   "cell_type": "code",
   "execution_count": 45,
   "metadata": {},
   "outputs": [
    {
     "data": {
      "text/plain": [
       "0.16663345"
      ]
     },
     "execution_count": 45,
     "metadata": {},
     "output_type": "execute_result"
    }
   ],
   "source": [
    "#Compute how often one die has a 3\n",
    "((die1==3).sum() + (die1==2).sum() )/(2*N)"
   ]
  },
  {
   "cell_type": "code",
   "execution_count": 46,
   "metadata": {},
   "outputs": [
    {
     "data": {
      "text/plain": [
       "0.2776019"
      ]
     },
     "execution_count": 46,
     "metadata": {},
     "output_type": "execute_result"
    }
   ],
   "source": [
    "#Determine the frequency of getting less than a 6\n",
    "# Sum all the 1's and divide by the sample space\n",
    "(toss < 6).sum()/N\n",
    "#Should be close to 0.277777777"
   ]
  },
  {
   "cell_type": "code",
   "execution_count": 47,
   "metadata": {},
   "outputs": [
    {
     "data": {
      "text/plain": [
       "555626"
      ]
     },
     "execution_count": 47,
     "metadata": {},
     "output_type": "execute_result"
    }
   ],
   "source": [
    "#Compute the intersection \n",
    "die1_is_3_and_lt_6 = (die1==3)*(toss<6)\n",
    "die1_is_3_and_lt_6.sum()"
   ]
  },
  {
   "cell_type": "code",
   "execution_count": 48,
   "metadata": {},
   "outputs": [
    {
     "data": {
      "text/plain": [
       "0.333347332146234"
      ]
     },
     "execution_count": 48,
     "metadata": {},
     "output_type": "execute_result"
    }
   ],
   "source": [
    "#Caculate the intersection divided by the reduced sample space. \n",
    "die1_is_3_and_lt_6.sum()/(die1==3).sum()\n",
    "#should be close to 0.33333333"
   ]
  },
  {
   "cell_type": "markdown",
   "metadata": {},
   "source": [
    "## Axioms of Probability\n",
    "\n",
    "The mathematical theory of probability is derived from the following 3 axioms:\n",
    "\n",
    "(Axioms are fundamental assumptions not subject to proofs.)\n",
    "\n",
    "1. For every event contained in a sample space, the probability of the event is greater than or equal to zero.\n",
    "$$\\forall E \\subset \\mathbb{S}, P(E)\\ge0$$ \n",
    "\n",
    "2. The probability of the certain event, $\\mathbb{S}$ is 1.\n",
    "$$P(\\mathbb{S}) = 1$$\n",
    "\n",
    "3. Given two mutually exclusive events, the probability of both happening is the sum of their individual probabilities \n",
    "$$ P(E_1 \\cup E_2) = P(E_1) + P(E_2) $$\n",
    "\n",
    "Combining axioms 1 and 2 gives the well-known fact that probabilities are between zero and one.\n",
    "\n",
    "$$ 0\\le P(E)\\le 1$$\n",
    "\n",
    "AND operations are intersections, and OR operations are unions. If the events are mutually exclusive, then we could add for a union and subtract for an intersection. However, when events are not mutually exclusive, we have to use the following:\n",
    "\n",
    "$$P(A\\cup B) = P(A) + P(B) - P(A\\cap B)$$\n",
    "\n",
    "When A and B are mutually exclusive, then the intersection is zero, which gives the third axiom of probability."
   ]
  },
  {
   "cell_type": "markdown",
   "metadata": {},
   "source": [
    "### Airplane Detection Problem\n",
    "If an aircraft is present, the radar detects it 99% of the time.\n",
    "If an aircraft is not present, then the radar gives a false alarm 10% of the time. \n",
    "\n",
    "There's only a 5% chance the aircraft is actually there. \n",
    "\n",
    "Events - A:{aircraft present}, B:{radar detects} \n",
    "\n",
    "Q1: What's the probability of no aircraft present and we get a false alarm?\n",
    "\n",
    "$$P(\\overline{A} \\cap B) = P(\\overline{A})P(B|\\overline{A})$$\n",
    "$$P(\\overline{A} \\cap B) = (0.95)(0.10) = 0.095$$\n",
    "\n",
    "Q2: What's the probability of an aircraft present and with no alarm?\n",
    "\n",
    "$$P(A \\cap \\overline{B}) = P(A)P(\\overline{B}|A)$$\n",
    "$$P(A \\cap \\overline{B}) = (0.05)(0.01) = 0.0005$$"
   ]
  },
  {
   "cell_type": "code",
   "execution_count": 49,
   "metadata": {},
   "outputs": [],
   "source": [
    "P_BgivenA = 0.99\n",
    "P_A = 0.05\n",
    "P_notA = 1-P_A\n",
    "P_notBgivenA = 1 - P_BgivenA\n",
    "P_Bgiven_notA = .10\n",
    "P_notBgiven_notA = 1 - P_Bgiven_notA"
   ]
  },
  {
   "cell_type": "code",
   "execution_count": 50,
   "metadata": {},
   "outputs": [
    {
     "data": {
      "text/plain": [
       "0.095"
      ]
     },
     "execution_count": 50,
     "metadata": {},
     "output_type": "execute_result"
    }
   ],
   "source": [
    "# Q1\n",
    "P_notA*P_Bgiven_notA"
   ]
  },
  {
   "cell_type": "code",
   "execution_count": 51,
   "metadata": {},
   "outputs": [
    {
     "data": {
      "text/plain": [
       "0.0005000000000000004"
      ]
     },
     "execution_count": 51,
     "metadata": {},
     "output_type": "execute_result"
    }
   ],
   "source": [
    "#Q2\n",
    "P_A*P_notBgivenA"
   ]
  },
  {
   "cell_type": "markdown",
   "metadata": {},
   "source": [
    "### Total Probability\n",
    "The law of total probability says you can sum all the mutually exclusive probabilities to get the total.\n",
    "\n",
    "$$P(B) = P(B|A)P(A) + P(B|\\overline{A})P(\\overline{A}) $$\n",
    "\n",
    "For this problem, the total probability is\n",
    "$$P(B) = (0.99)(0.05) + (0.10)(0.95) = 0.1445$$\n",
    "\n"
   ]
  },
  {
   "cell_type": "code",
   "execution_count": 52,
   "metadata": {},
   "outputs": [
    {
     "data": {
      "text/plain": [
       "0.14450000000000002"
      ]
     },
     "execution_count": 52,
     "metadata": {},
     "output_type": "execute_result"
    }
   ],
   "source": [
    "P_B = P_BgivenA*P_A + P_Bgiven_notA*P_notA\n",
    "P_B"
   ]
  },
  {
   "cell_type": "markdown",
   "metadata": {},
   "source": [
    "### Bayes Rule\n",
    "$$ P(A|B) = \\frac{P(A)P(B|A)}{P(B)}$$\n",
    "Q3: What is the probability the aircraft is actually present without a detection event?\n",
    "\n",
    "$$ P(A|B) = \\frac{(0.05)(0.99)}{0.1445} = 0.342$$"
   ]
  },
  {
   "cell_type": "code",
   "execution_count": 53,
   "metadata": {},
   "outputs": [
    {
     "data": {
      "text/plain": [
       "0.34256055363321797"
      ]
     },
     "execution_count": 53,
     "metadata": {},
     "output_type": "execute_result"
    }
   ],
   "source": [
    "P_AgivenB = P_A*P_BgivenA/P_B\n",
    "P_AgivenB"
   ]
  },
  {
   "cell_type": "markdown",
   "metadata": {},
   "source": [
    "## Probability for Random Variables\n",
    "\n",
    "Events in the samples space $\\mathbb{S}$ can be mapped to random variables $\\mathbf{X}$. An specific instance of a random variable is written as the lowercase (i.e. $x$ where $x\\in\\mathbf{X}$). For example, a die landing with a marking showing two dots is the event that gets mapped to the discrete value of $x=2$. The sample space for $\\mathbf{X}$ is $\\mathbb{S}=\\{1,2,3,4,5,6\\}$.\n",
    "\n",
    "### Discrete Random Variables\n",
    "Discrete variables use a probability mass function (PMF) to describe the probability of certain events in the \n",
    "sample space. The PMF is defined as $$P_\\mathbf{X}(x) := P(\\{\\mathbf{X}=x\\})$$\n",
    "\n",
    "For a discrete random variables $\\mathbf{X}$:\n",
    "\n",
    "\n",
    "$$ P(\\{\\mathbf{X} = x_i\\}) = p(x_i) $$\n",
    "\n",
    "$$ 0\\le p(x_i) \\le 1 $$\n",
    "\n",
    "$$ \\sum_{all x_i}p(x_i) = 1 $$\n",
    "\n",
    "Here, $p(x_i)$ are the individual mass function values.\n",
    "\n",
    "We'll often use distributions of the probability to describe the random variable. If the distribution and its parameters are known, then the random variable is fully defined. Many times, the challenge is to define the distribution in practical engineering problems.\n",
    "\n",
    "Let's examine a discrete distribution built from a Bernoulli trial that models two tosses of a fair coin. The events are $\\mathbb{S}=\\{HH, HT, TH, TT\\}$. The random variable is the number of heads that show. With two tosses, you can have 3 outcomes: x=0, x=1, and x=2. The sample space has a size of 4. \n",
    "\n",
    "A Bernoulli trial is a discrete random variable with only 2 independent outcomes: success or failure. The probability of success is $p$ and the probability of failure is $1-p$. For a fair coin, $p=0.5$.\n",
    "\n",
    "When we combine many Bernoulli trials, we get a Binomial Distribution. \n",
    "$$ P_\\mathbf{X}(k) = {n \\choose k} p^k (1-p)^{n-k}$$ where  $k = 0,1,2,\\dots,n$ and  ${n\\choose k} = \\frac{n!}{k!(n-k)!}$ is the binomial coefficient.\n",
    "\n",
    "This distribution is built into Scientific Python: \n",
    "\n",
    "https://docs.scipy.org/doc/scipy/reference/generated/scipy.stats.binom.html"
   ]
  },
  {
   "cell_type": "code",
   "execution_count": 54,
   "metadata": {},
   "outputs": [],
   "source": [
    "from scipy.stats import binom"
   ]
  },
  {
   "cell_type": "code",
   "execution_count": 55,
   "metadata": {},
   "outputs": [
    {
     "name": "stdout",
     "output_type": "stream",
     "text": [
      "0 0.25\n",
      "1 0.5\n",
      "2 0.25\n"
     ]
    }
   ],
   "source": [
    "#Two fair coins\n",
    "for k in range(3):\n",
    "    print(k,binom.pmf(k, n=2, p=0.5, loc=0))"
   ]
  },
  {
   "cell_type": "code",
   "execution_count": 59,
   "metadata": {},
   "outputs": [
    {
     "name": "stdout",
     "output_type": "stream",
     "text": [
      "[-1  0  1  2  3  4  5  6  7  8  9 10 11]\n",
      "[0.00000000e+00 6.04661760e-03 4.03107840e-02 1.20932352e-01\n",
      " 2.14990848e-01 2.50822656e-01 2.00658125e-01 1.11476736e-01\n",
      " 4.24673280e-02 1.06168320e-02 1.57286400e-03 1.04857600e-04\n",
      " 0.00000000e+00]\n"
     ]
    },
    {
     "name": "stderr",
     "output_type": "stream",
     "text": [
      "C:\\Users\\Jeremy\\Anaconda3\\lib\\site-packages\\ipykernel_launcher.py:9: UserWarning: In Matplotlib 3.3 individual lines on a stem plot will be added as a LineCollection instead of individual lines. This significantly improves the performance of a stem plot. To remove this warning and switch to the new behaviour, set the \"use_line_collection\" keyword argument to True.\n",
      "  if __name__ == '__main__':\n"
     ]
    },
    {
     "data": {
      "text/plain": [
       "Text(0.5, 1.0, 'Binomial Distribution of 10 Coin Tosses')"
      ]
     },
     "execution_count": 59,
     "metadata": {},
     "output_type": "execute_result"
    },
    {
     "data": {
      "image/png": "[encoded data removed]",
      "text/plain": [
       "<Figure size 432x288 with 1 Axes>"
      ]
     },
     "metadata": {
      "needs_background": "light"
     },
     "output_type": "display_data"
    }
   ],
   "source": [
    "#What about 10 coins?\n",
    "# uset the percent point function to get the whole space\n",
    "n = 10 #Number of trials\n",
    "p = 0.4 #probability of success (success = head)\n",
    "x = np.arange(-1,n+2)\n",
    "pmf_values =  binom.pmf(x, n, p)\n",
    "print(x)\n",
    "print(pmf_values)\n",
    "plt.stem(x,pmf_values)\n",
    "plt.xlabel(\"Number of Heads\")\n",
    "plt.ylabel(\"Probability Mass Function\")\n",
    "plt.title(\"Binomial Distribution of {} Coin Tosses\".format(n))"
   ]
  },
  {
   "cell_type": "code",
   "execution_count": 60,
   "metadata": {},
   "outputs": [
    {
     "name": "stdout",
     "output_type": "stream",
     "text": [
      "mean     4.0\n",
      "variance 2.4\n",
      "skewness 0.12909944487358052\n",
      "kurtosis -0.1833333333333334\n"
     ]
    }
   ],
   "source": [
    "#We can calculate the moments of the distribution too.\n",
    "mean, var, skew, kurt = binom.stats(n, p, moments='mvsk')\n",
    "print('mean    ',mean)\n",
    "print('variance',var)\n",
    "print('skewness',skew)\n",
    "print('kurtosis',kurt)\n",
    "# Change n and p to see how they affect the expected values and moments."
   ]
  },
  {
   "cell_type": "markdown",
   "metadata": {},
   "source": [
    "#### Poisson Distribution\n",
    "Another common discrete distribution for modeling \"rare\" events is the Poisson distribution.\n",
    "\n",
    "https://en.wikipedia.org/wiki/Poisson_distribution\n",
    "\n",
    "https://docs.scipy.org/doc/scipy/reference/generated/scipy.stats.poisson.html\n",
    "\n",
    "Let's explore:"
   ]
  },
  {
   "cell_type": "code",
   "execution_count": 61,
   "metadata": {},
   "outputs": [],
   "source": [
    "from scipy.stats import poisson"
   ]
  },
  {
   "cell_type": "code",
   "execution_count": 63,
   "metadata": {},
   "outputs": [
    {
     "name": "stdout",
     "output_type": "stream",
     "text": [
      "mean     20.4\n",
      "variance 20.4\n",
      "skewness 0.22140372138502384\n",
      "kurtosis 0.04901960784313726\n"
     ]
    }
   ],
   "source": [
    "# Define the shape parameter\n",
    "mu = 20.4\n",
    "mean, var, skew, kurt = poisson.stats(mu, moments='mvsk')\n",
    "print('mean    ',mean)\n",
    "print('variance',var)\n",
    "print('skewness',skew)\n",
    "print('kurtosis',kurt)"
   ]
  },
  {
   "cell_type": "code",
   "execution_count": 64,
   "metadata": {},
   "outputs": [
    {
     "name": "stdout",
     "output_type": "stream",
     "text": [
      "[ 6.  7.  8.  9. 10. 11. 12. 13. 14. 15. 16. 17. 18. 19. 20. 21. 22. 23.\n",
      " 24. 25. 26. 27. 28. 29. 30. 31. 32. 33. 34. 35. 36. 37. 38. 39. 40.]\n",
      "[1.38306018e-04 4.03063252e-04 1.02781129e-03 2.32970560e-03\n",
      " 4.75259942e-03 8.81391165e-03 1.49836498e-02 2.35128043e-02\n",
      " 3.42615148e-02 4.65956602e-02 5.94094667e-02 7.12913601e-02\n",
      " 8.07968748e-02 8.67503287e-02 8.84853353e-02 8.59571828e-02\n",
      " 7.97057514e-02 7.06955360e-02 6.00912056e-02 4.90344238e-02\n",
      " 3.84731633e-02 2.90686122e-02 2.11785603e-02 1.48980218e-02\n",
      " 1.01306548e-02 6.66662445e-03 4.24997309e-03 2.62725609e-03\n",
      " 1.57635365e-03 9.18788987e-04 5.20647092e-04 2.87059478e-04\n",
      " 1.54105614e-04 8.06090907e-05 4.11106362e-05]\n",
      "PMF total:  0.9999080321251357\n"
     ]
    },
    {
     "name": "stderr",
     "output_type": "stream",
     "text": [
      "C:\\Users\\Jeremy\\Anaconda3\\lib\\site-packages\\ipykernel_launcher.py:8: UserWarning: In Matplotlib 3.3 individual lines on a stem plot will be added as a LineCollection instead of individual lines. This significantly improves the performance of a stem plot. To remove this warning and switch to the new behaviour, set the \"use_line_collection\" keyword argument to True.\n",
      "  \n"
     ]
    },
    {
     "data": {
      "image/png": "[encoded data removed]",
      "text/plain": [
       "<Figure size 432x288 with 1 Axes>"
      ]
     },
     "metadata": {
      "needs_background": "light"
     },
     "output_type": "display_data"
    }
   ],
   "source": [
    "x = np.arange(poisson.ppf(0.0001, mu),\n",
    "              poisson.ppf(0.9999, mu) + 2)\n",
    "\n",
    "pmf_values =  poisson.pmf(x,mu)\n",
    "print(x)\n",
    "print(pmf_values)\n",
    "print(\"PMF total: \", pmf_values.sum())\n",
    "plt.stem(x, pmf_values,label='Poisson PMF')\n",
    "plt.legend()\n",
    "#plt.grid()\n",
    "plt.xlabel(\"x value\")\n",
    "plt.ylabel(\"Probability Mass Function\")\n",
    "plt.title(\"Poisson Distribution with $\\mu = {}$\".format(mu));"
   ]
  },
  {
   "cell_type": "markdown",
   "metadata": {},
   "source": [
    "## Expected Values\n",
    "The mean value of a distribution is its expected value. The expected value is known as the first moment as its formula reflects a moment calculation from mechanics. \n",
    "\n",
    "\n",
    "$$ \\mu = E(y) = \\sum_{all y} y_i p(y_i)$$ for discrete variables. Here $E$ denotes the expected value operator.\n",
    "\n",
    "The second moment is known as the variance. It is calculated with the expected value operator: \n",
    "\n",
    "$$ \\sigma^2 = E[(y-\\mu)^2]$$\n",
    "\n",
    "The standard deviation, $\\sigma$, is the square root of the variance."
   ]
  },
  {
   "cell_type": "code",
   "execution_count": 65,
   "metadata": {},
   "outputs": [
    {
     "data": {
      "text/plain": [
       "20.368897881635057"
      ]
     },
     "execution_count": 65,
     "metadata": {},
     "output_type": "execute_result"
    }
   ],
   "source": [
    "# Example of computing the expected value for the variance\n",
    "((x-mu)**2*pmf_values).sum()\n",
    "# This should be close to the variance from the moment generation routine."
   ]
  },
  {
   "cell_type": "markdown",
   "metadata": {},
   "source": [
    "### Continuous Random Variables\n",
    "In discrete systems, the event could be defined as a single value. However, the probability of an exact value happening for a continuous variable is zero. Therefore, meaningful events are described as intervals. \n",
    "\n",
    "$$ \\mathrm{probability} = P(a\\leq x \\leq b)$$\n",
    "where x is the the value from the random variable, $\\mathbf{X}$, $a$ is the lower limit, and $b$ is the upper limit. Often the limits are $a=-\\infty$ or $b=\\infty$.\n",
    "\n",
    "Let's say Event A is the value of x being less than 1.5 for a random variable $\\mathbf{X}$ described using a Normal Distribution with a mean of $\\mu=0.5$ and a standard deviation of $\\sigma = 1.2$. The event is written as \n",
    "\n",
    "$$ x<1.5$$\n",
    "\n",
    "we can write the probability of this event as\n",
    "\n",
    "$$ P(x<1.5) $$\n",
    "\n",
    "The compliment of this event is \n",
    "\n",
    "$$ x \\geq 1.5$$\n",
    "\n",
    "and the probability of the compliment is \n",
    "\n",
    "$$ P(x \\geq 1.5)$$\n",
    "\n",
    "The sample space is the set of real numbers and x exists in $\\mathbb{R}$  ($x \\in \\mathbb{R}$).\n",
    "Since the total probability is 1 and $x \\in \\mathbb{R}$, then P(Event A and not Event A) = 1, or\n",
    "\n",
    "$$ P([x<1.5] \\cup [x\\geq 1.5]) = 1$$ "
   ]
  },
  {
   "cell_type": "code",
   "execution_count": 66,
   "metadata": {},
   "outputs": [],
   "source": [
    "# Import the normal distribution\n",
    "from scipy.stats import norm"
   ]
  },
  {
   "cell_type": "code",
   "execution_count": 67,
   "metadata": {},
   "outputs": [
    {
     "data": {
      "text/plain": [
       "<matplotlib.legend.Legend at 0x1bec535d808>"
      ]
     },
     "execution_count": 67,
     "metadata": {},
     "output_type": "execute_result"
    },
    {
     "data": {
      "image/png": "[encoded data removed]",
      "text/plain": [
       "<Figure size 432x288 with 1 Axes>"
      ]
     },
     "metadata": {
      "needs_background": "light"
     },
     "output_type": "display_data"
    }
   ],
   "source": [
    "X1 = 1.5\n",
    "x = np.linspace(-5,6,1000)\n",
    "mu = 0.5\n",
    "sigma = 1.2\n",
    "y = norm.pdf(x, mu, sigma)\n",
    "plt.plot(x,y ,label=\"Normal Dist.\")\n",
    "plt.grid()\n",
    "plt.fill_between(x, 0, y, where = x < X1, color='yellow', label=\"Event\")\n",
    "plt.fill_between(x, 0, y, where = x >= X1, color='green', label=\"Compliment\");\n",
    "plt.legend()"
   ]
  },
  {
   "cell_type": "markdown",
   "metadata": {},
   "source": [
    "### Calculating the event probability\n",
    "There are two functions used to calculate probabilities of events based on probability distribution functions.\n",
    "\n",
    "The first is called the cumulative probability function and the second is the survival function. \n",
    "\n",
    "See https://docs.scipy.org/doc/scipy/reference/generated/scipy.stats.norm.html \n",
    "\n",
    "Let's see how these work. "
   ]
  },
  {
   "cell_type": "code",
   "execution_count": 68,
   "metadata": {},
   "outputs": [
    {
     "data": {
      "text/plain": [
       "0.7976716190363569"
      ]
     },
     "execution_count": 68,
     "metadata": {},
     "output_type": "execute_result"
    }
   ],
   "source": [
    "# Calculate the probability of x < 1.5\n",
    "norm.cdf(1.5,mu, sigma)"
   ]
  },
  {
   "cell_type": "code",
   "execution_count": 69,
   "metadata": {},
   "outputs": [
    {
     "data": {
      "text/plain": [
       "0.20232838096364308"
      ]
     },
     "execution_count": 69,
     "metadata": {},
     "output_type": "execute_result"
    }
   ],
   "source": [
    "# Calculate the probability of x >= 1.5 using the survival function\n",
    "norm.sf(1.5,mu,sigma)"
   ]
  },
  {
   "cell_type": "code",
   "execution_count": 70,
   "metadata": {},
   "outputs": [
    {
     "data": {
      "text/plain": [
       "0.20232838096364314"
      ]
     },
     "execution_count": 70,
     "metadata": {},
     "output_type": "execute_result"
    }
   ],
   "source": [
    "# Calculate the probability of x >= 1.5 using the cumulative distribution function\n",
    "1-norm.cdf(1.5,mu,sigma)"
   ]
  },
  {
   "cell_type": "code",
   "execution_count": 71,
   "metadata": {},
   "outputs": [
    {
     "data": {
      "text/plain": [
       "1.0"
      ]
     },
     "execution_count": 71,
     "metadata": {},
     "output_type": "execute_result"
    }
   ],
   "source": [
    "# The total probability is the probability of all the events. \n",
    "norm.cdf(1.5,mu,sigma) + norm.sf(1.5,mu,sigma)"
   ]
  },
  {
   "cell_type": "code",
   "execution_count": 72,
   "metadata": {},
   "outputs": [
    {
     "data": {
      "image/png": "[encoded data removed]",
      "text/plain": [
       "<Figure size 432x288 with 2 Axes>"
      ]
     },
     "metadata": {
      "needs_background": "light"
     },
     "output_type": "display_data"
    }
   ],
   "source": [
    "#Visualize the CDF and SF\n",
    "#%matplotlib notebook\n",
    "plt.plot(x,norm.cdf(x,mu,sigma),label=\"Cumulative Dist. Funct\")\n",
    "plt.plot(x,norm.sf(x,mu,sigma),label=\"Survival Funct.\")\n",
    "ax = plt.gca()\n",
    "handles, labels = ax.get_legend_handles_labels()\n",
    "plt.grid()\n",
    "plt.ylabel(\"Probability\")\n",
    "plt.xlabel('x')\n",
    "plt.title(\"Normal Distribution with $\\mu$ = {} and $\\sigma$ = {}\".format(mu,sigma))\n",
    "newYaxis = plt.twinx()\n",
    "plt.plot(x,norm.pdf(x,mu,sigma),'r:',label=\"Density Funct.\")\n",
    "plt.ylabel(\"Prob. Density\")\n",
    "new_ax = plt.gca()\n",
    "new_handles, new_labels = new_ax.get_legend_handles_labels()\n",
    "plt.legend(handles+new_handles, labels+new_labels, loc=\"center right\");\n",
    "plt.savefig('Normal(0.5,1.2).pdf')"
   ]
  },
  {
   "cell_type": "markdown",
   "metadata": {},
   "source": [
    "### Exponential Distribution\n",
    "There are many distributions in the SciPy.stats library. One example is the exponential distribution that may describe the survivability of electrical components.\n",
    "\n",
    "$$ \n",
    "f_\\mathbf{X}(x) = \\left\\{ \n",
    "\\begin{array}{l} \n",
    "\\lambda e^{-\\lambda x} & x \\ge 0 \\\\\n",
    "0 & x \\lt 0\n",
    "\\end{array} \\right.\n",
    "$$\n",
    "\n",
    "According to https://docs.scipy.org/doc/scipy/reference/generated/scipy.stats.expon.html, the parameterization of $\\lambda$ corresponds to using `scale = 1 / lambda`.\n",
    "\n"
   ]
  },
  {
   "cell_type": "code",
   "execution_count": 73,
   "metadata": {},
   "outputs": [],
   "source": [
    "from scipy.stats import expon"
   ]
  },
  {
   "cell_type": "code",
   "execution_count": 74,
   "metadata": {},
   "outputs": [
    {
     "name": "stdout",
     "output_type": "stream",
     "text": [
      "mean     2.5\n",
      "variance 6.25\n",
      "skewness 2.0\n",
      "kurtosis 6.0\n"
     ]
    }
   ],
   "source": [
    "lamb = .4 #lambda is a protected python function\n",
    "mean, var, skew, kurt = expon.stats(scale = 1/lamb, moments='mvsk')\n",
    "print('mean    ',mean)\n",
    "print('variance',var)\n",
    "print('skewness',skew)\n",
    "print('kurtosis',kurt)"
   ]
  },
  {
   "cell_type": "markdown",
   "metadata": {},
   "source": [
    "### Expectation\n",
    "In general, we have expectation for continuous random variables as\n",
    "\n",
    "$$\\mu = E(y) = \\int_{-\\infty}^{\\infty} y f(y) dy$$ for continuous random variables. It can be shown that for an exponential distribution,\n",
    "\n",
    "$$E[y] = \\mu = \\frac{1}{\\lambda}$$\n",
    "\n",
    "\n",
    "Also, the second moment is the variance. It is calculated with the expected value operator: \n",
    "$$ \\sigma^2 = E[(y-\\mu)^2]$$\n",
    "\n",
    "or\n",
    "\n",
    "$$ \\sigma^2 = \\int_{-\\infty}^{\\infty} (y-\\mu)^2 f(y) dy$$\n",
    "\n",
    "Also, it can be shown that the variance for the exponential distribution is\n",
    "\n",
    "$$\\sigma^2 = \\frac{1}{\\lambda^2}$$"
   ]
  },
  {
   "cell_type": "code",
   "execution_count": 77,
   "metadata": {},
   "outputs": [
    {
     "data": {
      "image/png": "[encoded data removed]",
      "text/plain": [
       "<Figure size 432x288 with 1 Axes>"
      ]
     },
     "metadata": {
      "needs_background": "light"
     },
     "output_type": "display_data"
    }
   ],
   "source": [
    "x = np.linspace(expon.ppf(0.00000001),\n",
    "\n",
    "                expon.ppf(0.99999999), 10000)\n",
    "y = expon.pdf(x,scale=1/lamb)\n",
    "plt.plot(x,y ,label=\"Exp. Dist.\")\n",
    "plt.legend()\n",
    "plt.grid()"
   ]
  },
  {
   "cell_type": "code",
   "execution_count": 78,
   "metadata": {},
   "outputs": [
    {
     "data": {
      "text/plain": [
       "0.999369083877615"
      ]
     },
     "execution_count": 78,
     "metadata": {},
     "output_type": "execute_result"
    }
   ],
   "source": [
    "#numerical integration to estimate total probability\n",
    "dx = x[18] - x[17]\n",
    "sum = 0\n",
    "for i in range(len(y)-1):\n",
    "    sum += dx*(y[i]+y[i+1])/2 #trapezoid rule\n",
    "sum"
   ]
  },
  {
   "cell_type": "code",
   "execution_count": 79,
   "metadata": {},
   "outputs": [
    {
     "data": {
      "text/plain": [
       "2.5"
      ]
     },
     "execution_count": 79,
     "metadata": {},
     "output_type": "execute_result"
    }
   ],
   "source": [
    "# mean value:\n",
    "1/lamb"
   ]
  },
  {
   "cell_type": "code",
   "execution_count": 80,
   "metadata": {},
   "outputs": [
    {
     "data": {
      "text/plain": [
       "6.249999999999999"
      ]
     },
     "execution_count": 80,
     "metadata": {},
     "output_type": "execute_result"
    }
   ],
   "source": [
    "# variance\n",
    "1/lamb**2"
   ]
  },
  {
   "cell_type": "code",
   "execution_count": 81,
   "metadata": {},
   "outputs": [
    {
     "data": {
      "image/png": "[encoded data removed]",
      "text/plain": [
       "<Figure size 432x288 with 1 Axes>"
      ]
     },
     "metadata": {
      "needs_background": "light"
     },
     "output_type": "display_data"
    }
   ],
   "source": [
    "# Simulate the distribution\n",
    "N = 100000\n",
    "exp_samples = expon.rvs(scale = 1/lamb, size=N)\n",
    "vals, bins, patches = plt.hist(exp_samples,bins=100,density=True, label=\"Simulated PDF\")\n",
    "y = expon.pdf(bins,scale=1/lamb)\n",
    "plt.plot(bins,y,label=\"Theoretical PDF\")\n",
    "plt.legend();\n",
    "ax = plt.gca()\n",
    "ax.set_xlim([0,12])\n",
    "plt.xlabel(\"x value\")\n",
    "plt.ylabel(\"Probability Density Function\")\n",
    "plt.title(\"Comparison of simulated and theoretical\\nexponential distributions with $\\lambda = {}$\".format(lamb));"
   ]
  },
  {
   "cell_type": "markdown",
   "metadata": {},
   "source": [
    "## Monte Carlo Simulation\n",
    "Combining random variables using analytical methods can become intractable. Often we can get decent results by simulating the random variables and performing multiple calculations and analyzing the results in aggregate. \n",
    "\n",
    "What's the distribution look like if added  $k$ exponential distributions together?\n",
    "\n",
    "$$ \\mathbf{X} \\sim \\sum_{i=1}^k \\mathbf{Y}_i $$ where $\\mathbf{Y}_i \\sim \\mathrm{Expon}(\\lambda)$.\n",
    "\n",
    "What if these exponential distribution represent noise source distributions? This is an example of the central limit theorem."
   ]
  },
  {
   "cell_type": "code",
   "execution_count": 85,
   "metadata": {},
   "outputs": [
    {
     "data": {
      "text/plain": [
       "Text(0.5, 1.0, 'Comparison of simulated result to a normal distribution')"
      ]
     },
     "execution_count": 85,
     "metadata": {},
     "output_type": "execute_result"
    },
    {
     "data": {
      "image/png": "[encoded data removed]",
      "text/plain": [
       "<Figure size 432x288 with 1 Axes>"
      ]
     },
     "metadata": {
      "needs_background": "light"
     },
     "output_type": "display_data"
    }
   ],
   "source": [
    "# Try changing the num_dists from 1 to 200. As the number increases, the \n",
    "N = 100000\n",
    "num_dists = 200\n",
    "Z = expon.rvs(scale=1/lamb, size=N)\n",
    "for i in range(1,num_dists):\n",
    "    Z += expon.rvs(scale=1/lamb, size=N)\n",
    "vals, bins, patches = plt.hist(Z, bins=100, density=True, label=\"Estimated PDF\")\n",
    "y = norm.pdf(bins,loc=Z.mean(),scale=Z.std())\n",
    "plt.plot(bins,y,label=\"Normal PDF\")\n",
    "plt.legend()\n",
    "plt.xlabel(\"Result Value\")\n",
    "plt.ylabel(\"Probability Density Function\")\n",
    "plt.title(\"Comparison of simulated result to a normal distribution\")"
   ]
  },
  {
   "cell_type": "code",
   "execution_count": 86,
   "metadata": {},
   "outputs": [
    {
     "data": {
      "text/plain": [
       "500.0340273799941"
      ]
     },
     "execution_count": 86,
     "metadata": {},
     "output_type": "execute_result"
    }
   ],
   "source": [
    "# Mean value calculated from samples\n",
    "Z.mean()"
   ]
  },
  {
   "cell_type": "code",
   "execution_count": 87,
   "metadata": {},
   "outputs": [
    {
     "data": {
      "text/plain": [
       "500.0"
      ]
     },
     "execution_count": 87,
     "metadata": {},
     "output_type": "execute_result"
    }
   ],
   "source": [
    "# Theoretical mean\n",
    "num_dists/lamb"
   ]
  },
  {
   "cell_type": "code",
   "execution_count": 88,
   "metadata": {},
   "outputs": [
    {
     "data": {
      "text/plain": [
       "1242.3184281607817"
      ]
     },
     "execution_count": 88,
     "metadata": {},
     "output_type": "execute_result"
    }
   ],
   "source": [
    "# Variance from simulation\n",
    "Z.var()"
   ]
  },
  {
   "cell_type": "code",
   "execution_count": 89,
   "metadata": {},
   "outputs": [
    {
     "data": {
      "text/plain": [
       "1249.9999999999998"
      ]
     },
     "execution_count": 89,
     "metadata": {},
     "output_type": "execute_result"
    }
   ],
   "source": [
    "# Theoretical variance\n",
    "num_dists/lamb**2"
   ]
  },
  {
   "cell_type": "markdown",
   "metadata": {},
   "source": [
    "### Intro to Monty Hall Problem\n",
    "\n",
    "Monty Hall was a game show host in the 1970's. A brain teaser was named after his show. \n",
    "\n",
    "[Monty Hall Wiki](https://en.wikipedia.org/wiki/Monty_Hall_problem)\n",
    "\n",
    "[Brooklyn99 Monty Hall](https://www.youtube.com/watch?v=QGxyIQzLeUc) is a sitcom discussing the Monty Hall Problem"
   ]
  },
  {
   "cell_type": "code",
   "execution_count": 90,
   "metadata": {},
   "outputs": [
    {
     "name": "stdout",
     "output_type": "stream",
     "text": [
      "[1, 1, 2, 3, 3, 1, 3, 1, 2, 3, 3, 2, 1, 2, 2, 1, 1, 2, 1, 2]\n"
     ]
    }
   ],
   "source": [
    "#Let's Introduce the Monty Hall Problem Simulation\n",
    "import random\n",
    "prize_doors = []\n",
    "N = 100000\n",
    "for i in range (N):\n",
    "    prize_doors.append(random.randint(1,3))\n",
    "print (prize_doors[:20])"
   ]
  },
  {
   "cell_type": "code",
   "execution_count": 91,
   "metadata": {
    "scrolled": true
   },
   "outputs": [
    {
     "name": "stdout",
     "output_type": "stream",
     "text": [
      "Winning Ratio: 0.66612\n",
      "Loosing Ratio: 0.33388\n"
     ]
    }
   ],
   "source": [
    "#If a contestent switches after picking the correct door initially,\n",
    "# then they lose. Otherwise, it will be a win. \n",
    "loss = 0\n",
    "win = 0\n",
    "for i in range (N):\n",
    "    contestant_choice = random.randint(1,3)\n",
    "    if contestant_choice == prize_doors[i]:\n",
    "        loss +=1\n",
    "    else:\n",
    "        win +=1\n",
    "print(\"Winning Ratio:\", win/N)\n",
    "print(\"Loosing Ratio:\", loss/N)"
   ]
  },
  {
   "cell_type": "markdown",
   "metadata": {},
   "source": [
    "Conclusion: Always switch to improve your odds when playing \"Let's Make a Deal.\""
   ]
  },
  {
   "cell_type": "markdown",
   "metadata": {},
   "source": [
    "## Summary\n",
    "In this notebook, we explored the following topics:\n",
    "1. Set theory and using sets built into Python to explore set membership and operations.\n",
    "2. Venn diagrams and visualizing sets.\n",
    "3. Describing the likelihood of events using probability. \n",
    "3. Discrete and continuous distribution functions.\n",
    "4. Calculating event probability using distribution functions.\n",
    "5. Monte Carlo Simulation and the Monty Hall problem."
   ]
  },
  {
   "cell_type": "code",
   "execution_count": null,
   "metadata": {},
   "outputs": [],
   "source": []
  }
 ],
 "metadata": {
  "kernelspec": {
   "display_name": "Python 3",
   "language": "python",
   "name": "python3"
  },
  "language_info": {
   "codemirror_mode": {
    "name": "ipython",
    "version": 3
   },
   "file_extension": ".py",
   "mimetype": "text/x-python",
   "name": "python",
   "nbconvert_exporter": "python",
   "pygments_lexer": "ipython3",
   "version": "3.7.4"
  },
  "latex_envs": {
   "LaTeX_envs_menu_present": true,
   "autoclose": false,
   "autocomplete": true,
   "bibliofile": "biblio.bib",
   "cite_by": "apalike",
   "current_citInitial": 1,
   "eqLabelWithNumbers": true,
   "eqNumInitial": 1,
   "hotkeys": {
    "equation": "Ctrl-E",
    "itemize": "Ctrl-I"
   },
   "labels_anchors": false,
   "latex_user_defs": false,
   "report_style_numbering": false,
   "user_envs_cfg": false
  }
 },
 "nbformat": 4,
 "nbformat_minor": 4
}
