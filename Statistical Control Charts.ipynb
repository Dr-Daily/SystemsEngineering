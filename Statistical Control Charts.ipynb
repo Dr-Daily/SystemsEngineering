{
 "cells": [
  {
   "cell_type": "markdown",
   "metadata": {},
   "source": [
    "# <center> Statistical Control Charts\n",
    "## <center> Systems Engineering and Analysis\n",
    "## <center> <img src=\"https://www.engr.colostate.edu/~jdaily/Systems-EN-CSU-1-C357.svg\" width=\"400\" /> \n",
    "### <center> Prepared by: Dr. Jeremy Daily"
   ]
  },
  {
   "cell_type": "markdown",
   "metadata": {},
   "source": [
    "This notebook demonstrates a Monte Carlo method for constructing the $\\overline{X}$ and $R$ Charts."
   ]
  },
  {
   "cell_type": "code",
   "execution_count": 1,
   "metadata": {},
   "outputs": [],
   "source": [
    "from scipy.stats import uniform, norm\n",
    "import numpy as np\n",
    "from math import sqrt"
   ]
  },
  {
   "cell_type": "code",
   "execution_count": 2,
   "metadata": {},
   "outputs": [],
   "source": [
    "# Generate an example process\n",
    "m = 100000 #the number of rows in Table 11.1. If this number is big, we'll get convergence.\n",
    "n = 6 # The number of columns in Table 11.1. This is the sample size.\n",
    "N = m*n\n",
    "location = 20 #mean\n",
    "scale = 10 #standard deviation\n",
    "process_samples = norm.rvs(location,scale,size=N)"
   ]
  },
  {
   "cell_type": "code",
   "execution_count": 3,
   "metadata": {},
   "outputs": [
    {
     "data": {
      "text/plain": [
       "19.984186431091555"
      ]
     },
     "execution_count": 3,
     "metadata": {},
     "output_type": "execute_result"
    }
   ],
   "source": [
    "# This should match the theoretical mean\n",
    "np.mean(process_samples)"
   ]
  },
  {
   "cell_type": "code",
   "execution_count": 4,
   "metadata": {},
   "outputs": [
    {
     "name": "stdout",
     "output_type": "stream",
     "text": [
      "Theoretical moments: \n",
      " mean = 20.0\n",
      " var = 100.0\n",
      " skewness = 0.0\n",
      " kurtosis = 0.0\n"
     ]
    }
   ],
   "source": [
    "mean, var, skew, kurt = norm.stats(location,scale,moments='mvsk')\n",
    "print(f\"Theoretical moments: \\n mean = {mean}\\n var = {var}\\n skewness = {skew}\\n kurtosis = {kurt}\")"
   ]
  },
  {
   "cell_type": "code",
   "execution_count": 5,
   "metadata": {},
   "outputs": [
    {
     "data": {
      "text/plain": [
       "25.481706997023498"
      ]
     },
     "execution_count": 5,
     "metadata": {},
     "output_type": "execute_result"
    }
   ],
   "source": [
    "#Estimate the process mean\n",
    "x_bar = np.mean(process_samples[:n])\n",
    "x_bar"
   ]
  },
  {
   "cell_type": "code",
   "execution_count": 6,
   "metadata": {},
   "outputs": [
    {
     "data": {
      "text/plain": [
       "19.085697065438932"
      ]
     },
     "execution_count": 6,
     "metadata": {},
     "output_type": "execute_result"
    }
   ],
   "source": [
    "R = max(process_samples[:n])-min(process_samples[:n])\n",
    "R"
   ]
  },
  {
   "cell_type": "code",
   "execution_count": 7,
   "metadata": {},
   "outputs": [
    {
     "name": "stdout",
     "output_type": "stream",
     "text": [
      "x_bar_bar = 19.98418643109148\n",
      "R_bar = 25.33399063248031\n"
     ]
    }
   ],
   "source": [
    "#Calculate Eq 11.1 and 11.2\n",
    "sum_x_bar = 0\n",
    "sum_R = 0\n",
    "for i in range(m):\n",
    "    x_bar = np.mean(process_samples[n*i:n*(i+1)]) \n",
    "    sum_x_bar += x_bar\n",
    "    R = max(process_samples[n*i:n*(i+1)])-min(process_samples[n*i:n*(i+1)])\n",
    "    sum_R += R\n",
    "x_bar_bar = sum_x_bar/m #Eq 11.1\n",
    "print(f\"x_bar_bar = {x_bar_bar}\")\n",
    "R_bar = sum_R/m #Eq 11.2\n",
    "print(f\"R_bar = {R_bar}\")"
   ]
  },
  {
   "cell_type": "code",
   "execution_count": 8,
   "metadata": {},
   "outputs": [
    {
     "data": {
      "text/plain": [
       "19.984186431091555"
      ]
     },
     "execution_count": 8,
     "metadata": {},
     "output_type": "execute_result"
    }
   ],
   "source": [
    "#compare to overall average. The overall average is x_bar_bar\n",
    "np.mean(process_samples)"
   ]
  },
  {
   "cell_type": "code",
   "execution_count": 9,
   "metadata": {},
   "outputs": [
    {
     "data": {
      "text/plain": [
       "9.996996619619495"
      ]
     },
     "execution_count": 9,
     "metadata": {},
     "output_type": "execute_result"
    }
   ],
   "source": [
    "#Estimate the standard deviation of the overall process samples\n",
    "std=np.std(process_samples,ddof=1)\n",
    "std"
   ]
  },
  {
   "cell_type": "code",
   "execution_count": 10,
   "metadata": {},
   "outputs": [
    {
     "data": {
      "text/plain": [
       "99.9399414126836"
      ]
     },
     "execution_count": 10,
     "metadata": {},
     "output_type": "execute_result"
    }
   ],
   "source": [
    "# Variance is the standard deviation squared\n",
    "std**2"
   ]
  },
  {
   "cell_type": "code",
   "execution_count": 11,
   "metadata": {},
   "outputs": [
    {
     "data": {
      "text/plain": [
       "6"
      ]
     },
     "execution_count": 11,
     "metadata": {},
     "output_type": "execute_result"
    }
   ],
   "source": [
    "n"
   ]
  },
  {
   "cell_type": "code",
   "execution_count": 12,
   "metadata": {},
   "outputs": [
    {
     "data": {
      "text/plain": [
       "2.534160167940976"
      ]
     },
     "execution_count": 12,
     "metadata": {},
     "output_type": "execute_result"
    }
   ],
   "source": [
    "#Simulated result for d2\n",
    "d2 = R_bar/std\n",
    "d2"
   ]
  },
  {
   "cell_type": "code",
   "execution_count": 13,
   "metadata": {},
   "outputs": [
    {
     "data": {
      "text/plain": [
       "2.533399063248031"
      ]
     },
     "execution_count": 13,
     "metadata": {},
     "output_type": "execute_result"
    }
   ],
   "source": [
    "#Theoretical variance\n",
    "R_bar/sqrt(var)"
   ]
  },
  {
   "cell_type": "markdown",
   "metadata": {},
   "source": [
    "The table value for n=6 is 2.534. This is just one example. You can change the value of n at the beginning and run all the cells again. Or, you can put the equations in a loop and iterate through the different values of n."
   ]
  },
  {
   "cell_type": "code",
   "execution_count": 14,
   "metadata": {},
   "outputs": [
    {
     "name": "stdout",
     "output_type": "stream",
     "text": [
      "Table 11.2: Factors for the Construction of Xbar and R Charts\n",
      "n\td2\tA2\tD3\tD4\n",
      "---\t---\t---\t---\t---\n",
      "2\t1.133\t1.872\t0.000\t3.266\n",
      "3\t1.694\t1.023\t0.000\t2.577\n",
      "4\t2.061\t0.728\t0.000\t2.280\n",
      "5\t2.324\t0.577\t0.000\t2.115\n",
      "6\t2.535\t0.483\t0.000\t2.007\n",
      "7\t2.705\t0.419\t0.074\t1.926\n",
      "8\t2.848\t0.372\t0.135\t1.865\n",
      "9\t2.971\t0.337\t0.184\t1.816\n",
      "10\t3.077\t0.308\t0.223\t1.777\n"
     ]
    }
   ],
   "source": [
    "# Calculate d2 in table 11.2 using a Monte Carlo Method\n",
    "#nlist = [n for n in range(2,11)]\n",
    "print(\"Table 11.2: Factors for the Construction of Xbar and R Charts\")\n",
    "print(\"n\\td2\\tA2\\tD3\\tD4\")\n",
    "print(\"---\\t---\\t---\\t---\\t---\")\n",
    "N = m*10 #Use the previous m and calculate the overall number of samples for n=10\n",
    "process_samples = norm.rvs(location,scale,size=N)\n",
    "std=np.std(process_samples,ddof=1)\n",
    "#Iterate through the n values.\n",
    "for n in range(2,11):\n",
    "    #Calculate the R_bar statistics, since it depends on the sample size, n\n",
    "    sum_R = 0\n",
    "    sum_R_squared = 0\n",
    "    for i in range(m):\n",
    "        R = max(process_samples[n*i:n*(i+1)])-min(process_samples[n*i:n*(i+1)])\n",
    "        sum_R += R\n",
    "        sum_R_squared += R**2\n",
    "    R_bar = sum_R/m #Eq 11.2\n",
    "    R_std = sqrt(m*sum_R_squared - sum_R**2)/m #Standard deviation of R\n",
    "    \n",
    "    d2 = R_bar/std #manipulate Eq 11.3\n",
    "    A2 = 3/(d2*sqrt(n)) #Close to Eq 11.4\n",
    "    \n",
    "    # Lower range bounds can't be negative. \n",
    "    D3 = max(0,(R_bar - 3*R_std)/R_bar) #Lower bound from manipulating Eq 11.8\n",
    "    D4 = (R_bar + 3*R_std)/R_bar #Upper bound from manipulating Eq 11.7\n",
    "    \n",
    "    print(\"{}\\t{:.3f}\\t{:.3f}\\t{:.3f}\\t{:.3f}\".format(n,d2,A2,D3,D4))"
   ]
  },
  {
   "cell_type": "markdown",
   "metadata": {},
   "source": [
    "This table, calculated with the Monte Carlo simulation method, should match at least 3 digits on each entry of Table 11.2."
   ]
  },
  {
   "cell_type": "code",
   "execution_count": null,
   "metadata": {},
   "outputs": [],
   "source": []
  }
 ],
 "metadata": {
  "kernelspec": {
   "display_name": "Python 3",
   "language": "python",
   "name": "python3"
  },
  "language_info": {
   "codemirror_mode": {
    "name": "ipython",
    "version": 3
   },
   "file_extension": ".py",
   "mimetype": "text/x-python",
   "name": "python",
   "nbconvert_exporter": "python",
   "pygments_lexer": "ipython3",
   "version": "3.8.5"
  },
  "latex_envs": {
   "LaTeX_envs_menu_present": true,
   "autoclose": false,
   "autocomplete": true,
   "bibliofile": "biblio.bib",
   "cite_by": "apalike",
   "current_citInitial": 1,
   "eqLabelWithNumbers": true,
   "eqNumInitial": 1,
   "hotkeys": {
    "equation": "Ctrl-E",
    "itemize": "Ctrl-I"
   },
   "labels_anchors": false,
   "latex_user_defs": false,
   "report_style_numbering": false,
   "user_envs_cfg": false
  }
 },
 "nbformat": 4,
 "nbformat_minor": 4
}
