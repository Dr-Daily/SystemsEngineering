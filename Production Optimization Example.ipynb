{
 "cells": [
  {
   "cell_type": "markdown",
   "metadata": {},
   "source": [
    "# <center> Production Optimization Example\n",
    "## <center> Systems Engineering and Analysis\n",
    "## <center> <img src=\"https://www.engr.colostate.edu/~jdaily/Systems-EN-CSU-1-C357.svg\" width=\"400\" /> \n",
    "### <center> Prepared by: Dr. Jeremy Daily"
   ]
  },
  {
   "cell_type": "markdown",
   "metadata": {},
   "source": [
    "### Constrained Optimization with Linear Constraints\n",
    "This is the example from Section 9.5 in B&F.\n",
    "See Table 9.11 for the input data for the problem."
   ]
  },
  {
   "cell_type": "code",
   "execution_count": 28,
   "metadata": {},
   "outputs": [],
   "source": [
    "import numpy as np\n",
    "from scipy import optimize"
   ]
  },
  {
   "cell_type": "markdown",
   "metadata": {},
   "source": [
    "We'll use the minimize function from the optimize module of the scipy library.\n",
    "\n",
    "https://docs.scipy.org/doc/scipy/reference/generated/scipy.optimize.minimize.html"
   ]
  },
  {
   "cell_type": "code",
   "execution_count": 39,
   "metadata": {},
   "outputs": [],
   "source": [
    "# Define a cost function. In this case we want to maximize profit,\n",
    "# so we have to make the cost-function negative to convert it to a \n",
    "# minimization problem supported by scipy.optimize.minimize\n",
    "def cost_function(x):\n",
    "    \"\"\"\n",
    "    Pass in a vector of length 2 representing the design variables.\n",
    "    \"\"\"\n",
    "    nA = x[0]\n",
    "    nB = x[1]\n",
    "    #Make sure it is negative so we can minimize the function to \n",
    "    # determine maximum profits\n",
    "    return -(nA*0.60 + nB*0.70)"
   ]
  },
  {
   "cell_type": "code",
   "execution_count": 40,
   "metadata": {},
   "outputs": [],
   "source": [
    "#Initial guess as to the quanity of each A and B.\n",
    "x0 = np.array([1,1])"
   ]
  },
  {
   "cell_type": "code",
   "execution_count": 41,
   "metadata": {},
   "outputs": [],
   "source": [
    "# Specify the bounds on the design variables.\n",
    "# In this case, we don't want to produce negative quantities.\n",
    "bounds = optimize.Bounds([0,0],[np.inf, np.inf])"
   ]
  },
  {
   "cell_type": "markdown",
   "metadata": {},
   "source": [
    "Linear constraints have a matrix form:\n",
    "$$\\mathbf{A}\\vec{x}\\le\\vec{c}$$\n",
    "In this case,\n",
    "$$A = \\begin{bmatrix}\n",
    "2.4 & 3 \\\\\n",
    "0 & 2.5 \\\\\n",
    "5 & 0 \\\\\n",
    "\\end{bmatrix}$$\n",
    "and \n",
    "$$ \\vec{c} = \\begin{Bmatrix} 1200 \\\\600\\\\1500 \\end{Bmatrix}$$"
   ]
  },
  {
   "cell_type": "code",
   "execution_count": 42,
   "metadata": {},
   "outputs": [
    {
     "name": "stdout",
     "output_type": "stream",
     "text": [
      "[[2.4 3. ]\n",
      " [0.  2.5]\n",
      " [5.  0. ]]\n"
     ]
    }
   ],
   "source": [
    "# Build a constraints array\n",
    "A = np.array([[2.4,3],[0,2.5],[5,0]])\n",
    "# Assign lower and upper bounds to the Ax product.\n",
    "constraints = optimize.LinearConstraint(A,[0,0,0],[1200,600,1500])\n",
    "print(A)"
   ]
  },
  {
   "cell_type": "code",
   "execution_count": 43,
   "metadata": {},
   "outputs": [
    {
     "data": {
      "text/plain": [
       "array([5.4, 2.5, 5. ])"
      ]
     },
     "execution_count": 43,
     "metadata": {},
     "output_type": "execute_result"
    }
   ],
   "source": [
    "# Check to see the constraint calculation\n",
    "A.dot(x0)"
   ]
  },
  {
   "cell_type": "code",
   "execution_count": 44,
   "metadata": {},
   "outputs": [
    {
     "data": {
      "text/plain": [
       "     fun: -291.99999999968236\n",
       "     jac: array([-0.59999847, -0.70000076])\n",
       " message: 'Optimization terminated successfully'\n",
       "    nfev: 39\n",
       "     nit: 13\n",
       "    njev: 13\n",
       "  status: 0\n",
       " success: True\n",
       "       x: array([300., 160.])"
      ]
     },
     "execution_count": 44,
     "metadata": {},
     "output_type": "execute_result"
    }
   ],
   "source": [
    "# Calculate a solution\n",
    "sol = optimize.minimize(cost_function, x0, bounds=bounds, constraints=constraints)\n",
    "sol"
   ]
  },
  {
   "cell_type": "markdown",
   "metadata": {},
   "source": [
    "Note the solution is nA = 300 and nB = 160. The algorithm is satisfied that it found a minimum. Try changing the objective function by removing the - and try again. What happens?"
   ]
  },
  {
   "cell_type": "code",
   "execution_count": 45,
   "metadata": {},
   "outputs": [
    {
     "data": {
      "text/plain": [
       "array([1200.,  400., 1500.])"
      ]
     },
     "execution_count": 45,
     "metadata": {},
     "output_type": "execute_result"
    }
   ],
   "source": [
    "# Compute the constraints\n",
    "A.dot(sol.x)"
   ]
  },
  {
   "cell_type": "code",
   "execution_count": 47,
   "metadata": {},
   "outputs": [
    {
     "name": "stdout",
     "output_type": "stream",
     "text": [
      "For maximum profit, produce 300 of A and 160 of B.\n"
     ]
    }
   ],
   "source": [
    "print(\"For maximum profit, produce {:.0f} of A and {:.0f} of B.\".format(sol.x[0],sol.x[1]))"
   ]
  }
 ],
 "metadata": {
  "kernelspec": {
   "display_name": "Python 3",
   "language": "python",
   "name": "python3"
  },
  "language_info": {
   "codemirror_mode": {
    "name": "ipython",
    "version": 3
   },
   "file_extension": ".py",
   "mimetype": "text/x-python",
   "name": "python",
   "nbconvert_exporter": "python",
   "pygments_lexer": "ipython3",
   "version": "3.8.5"
  }
 },
 "nbformat": 4,
 "nbformat_minor": 4
}
