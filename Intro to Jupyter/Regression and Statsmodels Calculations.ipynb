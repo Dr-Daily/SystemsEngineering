{
 "cells": [
  {
   "cell_type": "markdown",
   "metadata": {},
   "source": [
    "# <center> Module 6c - Regression and Statsmodels Calculations\n",
    "## <center> ENGR 581A5: Design and Analysis of Engineering Experiments\n",
    "## <center> <img src=\"https://www.engr.colostate.edu/~jdaily/Systems-EN-CSU-1-C357.svg\" width=\"600\" /> \n",
    "### <center> Instructor: Dr. Jeremy Daily"
   ]
  },
  {
   "cell_type": "code",
   "execution_count": 1,
   "metadata": {},
   "outputs": [],
   "source": [
    "# Use pandas data frames to work with the data\n",
    "import numpy as np\n",
    "import pandas as pd\n",
    "import matplotlib.pyplot as plt\n",
    "from scipy.stats import t, f, probplot"
   ]
  },
  {
   "cell_type": "code",
   "execution_count": 2,
   "metadata": {},
   "outputs": [
    {
     "data": {
      "text/html": [
       "<div>\n",
       "<style scoped>\n",
       "    .dataframe tbody tr th:only-of-type {\n",
       "        vertical-align: middle;\n",
       "    }\n",
       "\n",
       "    .dataframe tbody tr th {\n",
       "        vertical-align: top;\n",
       "    }\n",
       "\n",
       "    .dataframe thead th {\n",
       "        text-align: right;\n",
       "    }\n",
       "</style>\n",
       "<table border=\"1\" class=\"dataframe\">\n",
       "  <thead>\n",
       "    <tr style=\"text-align: right;\">\n",
       "      <th></th>\n",
       "      <th>y</th>\n",
       "      <th>rpm</th>\n",
       "      <th>x1</th>\n",
       "      <th>x2</th>\n",
       "    </tr>\n",
       "  </thead>\n",
       "  <tbody>\n",
       "    <tr>\n",
       "      <th>0</th>\n",
       "      <td>225</td>\n",
       "      <td>2000</td>\n",
       "      <td>90</td>\n",
       "      <td>100</td>\n",
       "    </tr>\n",
       "    <tr>\n",
       "      <th>1</th>\n",
       "      <td>212</td>\n",
       "      <td>1800</td>\n",
       "      <td>94</td>\n",
       "      <td>95</td>\n",
       "    </tr>\n",
       "    <tr>\n",
       "      <th>2</th>\n",
       "      <td>229</td>\n",
       "      <td>2400</td>\n",
       "      <td>88</td>\n",
       "      <td>110</td>\n",
       "    </tr>\n",
       "    <tr>\n",
       "      <th>3</th>\n",
       "      <td>222</td>\n",
       "      <td>1900</td>\n",
       "      <td>91</td>\n",
       "      <td>96</td>\n",
       "    </tr>\n",
       "    <tr>\n",
       "      <th>4</th>\n",
       "      <td>219</td>\n",
       "      <td>1600</td>\n",
       "      <td>86</td>\n",
       "      <td>100</td>\n",
       "    </tr>\n",
       "    <tr>\n",
       "      <th>5</th>\n",
       "      <td>278</td>\n",
       "      <td>2500</td>\n",
       "      <td>96</td>\n",
       "      <td>110</td>\n",
       "    </tr>\n",
       "    <tr>\n",
       "      <th>6</th>\n",
       "      <td>246</td>\n",
       "      <td>3000</td>\n",
       "      <td>94</td>\n",
       "      <td>98</td>\n",
       "    </tr>\n",
       "    <tr>\n",
       "      <th>7</th>\n",
       "      <td>237</td>\n",
       "      <td>3200</td>\n",
       "      <td>90</td>\n",
       "      <td>100</td>\n",
       "    </tr>\n",
       "    <tr>\n",
       "      <th>8</th>\n",
       "      <td>233</td>\n",
       "      <td>2800</td>\n",
       "      <td>88</td>\n",
       "      <td>105</td>\n",
       "    </tr>\n",
       "    <tr>\n",
       "      <th>9</th>\n",
       "      <td>224</td>\n",
       "      <td>3400</td>\n",
       "      <td>86</td>\n",
       "      <td>97</td>\n",
       "    </tr>\n",
       "    <tr>\n",
       "      <th>10</th>\n",
       "      <td>223</td>\n",
       "      <td>1800</td>\n",
       "      <td>90</td>\n",
       "      <td>100</td>\n",
       "    </tr>\n",
       "    <tr>\n",
       "      <th>11</th>\n",
       "      <td>230</td>\n",
       "      <td>2500</td>\n",
       "      <td>89</td>\n",
       "      <td>104</td>\n",
       "    </tr>\n",
       "  </tbody>\n",
       "</table>\n",
       "</div>"
      ],
      "text/plain": [
       "      y   rpm  x1   x2\n",
       "0   225  2000  90  100\n",
       "1   212  1800  94   95\n",
       "2   229  2400  88  110\n",
       "3   222  1900  91   96\n",
       "4   219  1600  86  100\n",
       "5   278  2500  96  110\n",
       "6   246  3000  94   98\n",
       "7   237  3200  90  100\n",
       "8   233  2800  88  105\n",
       "9   224  3400  86   97\n",
       "10  223  1800  90  100\n",
       "11  230  2500  89  104"
      ]
     },
     "execution_count": 2,
     "metadata": {},
     "output_type": "execute_result"
    }
   ],
   "source": [
    "#Example: Montgomery Problem 10.7 Horsepower,RPM,Octane,Compression\n",
    "dataframe = pd.DataFrame(  [[225,2000,90,100],\n",
    "                            [212,1800,94,95],\n",
    "                            [229,2400,88,110],\n",
    "                            [222,1900,91,96],\n",
    "                            [219,1600,86,100],\n",
    "                            [278,2500,96,110],\n",
    "                            [246,3000,94,98],\n",
    "                            [237,3200,90,100],\n",
    "                            [233,2800,88,105],\n",
    "                            [224,3400,86,97],\n",
    "                            [223,1800,90,100],\n",
    "                            [230,2500,89,104]],columns=['y','rpm','x1','x2'])\n",
    "dataframe"
   ]
  },
  {
   "cell_type": "markdown",
   "metadata": {},
   "source": [
    "Let's assume a linear model:\n",
    "$$y=\\beta_0+\\beta_1x_1+\\beta_2x_2+\\beta_3x_1^2+\\beta_4x_2^2+\\beta_5x_1x_2+\\epsilon$$ \n",
    "\n",
    "Notice this is linear in the parameters, even though is is a multi-variate quadratic function."
   ]
  },
  {
   "cell_type": "code",
   "execution_count": 3,
   "metadata": {},
   "outputs": [
    {
     "data": {
      "text/plain": [
       "array([[1.0000e+00, 9.0000e+01, 1.0000e+02, 8.1000e+03, 1.0000e+04,\n",
       "        9.0000e+03],\n",
       "       [1.0000e+00, 9.4000e+01, 9.5000e+01, 8.8360e+03, 9.0250e+03,\n",
       "        8.9300e+03],\n",
       "       [1.0000e+00, 8.8000e+01, 1.1000e+02, 7.7440e+03, 1.2100e+04,\n",
       "        9.6800e+03],\n",
       "       [1.0000e+00, 9.1000e+01, 9.6000e+01, 8.2810e+03, 9.2160e+03,\n",
       "        8.7360e+03],\n",
       "       [1.0000e+00, 8.6000e+01, 1.0000e+02, 7.3960e+03, 1.0000e+04,\n",
       "        8.6000e+03],\n",
       "       [1.0000e+00, 9.6000e+01, 1.1000e+02, 9.2160e+03, 1.2100e+04,\n",
       "        1.0560e+04],\n",
       "       [1.0000e+00, 9.4000e+01, 9.8000e+01, 8.8360e+03, 9.6040e+03,\n",
       "        9.2120e+03],\n",
       "       [1.0000e+00, 9.0000e+01, 1.0000e+02, 8.1000e+03, 1.0000e+04,\n",
       "        9.0000e+03],\n",
       "       [1.0000e+00, 8.8000e+01, 1.0500e+02, 7.7440e+03, 1.1025e+04,\n",
       "        9.2400e+03],\n",
       "       [1.0000e+00, 8.6000e+01, 9.7000e+01, 7.3960e+03, 9.4090e+03,\n",
       "        8.3420e+03],\n",
       "       [1.0000e+00, 9.0000e+01, 1.0000e+02, 8.1000e+03, 1.0000e+04,\n",
       "        9.0000e+03],\n",
       "       [1.0000e+00, 8.9000e+01, 1.0400e+02, 7.9210e+03, 1.0816e+04,\n",
       "        9.2560e+03]])"
      ]
     },
     "execution_count": 3,
     "metadata": {},
     "output_type": "execute_result"
    }
   ],
   "source": [
    "x1 = dataframe['x1']\n",
    "x2 = dataframe['x2']\n",
    "X = np.array([np.ones(np.shape(x1)),\n",
    "              x1,\n",
    "              x2,\n",
    "              x1**2,\n",
    "              x2**2,\n",
    "              x1*x2]).transpose()\n",
    "X"
   ]
  },
  {
   "cell_type": "code",
   "execution_count": 4,
   "metadata": {},
   "outputs": [
    {
     "data": {
      "text/plain": [
       "array([[225],\n",
       "       [212],\n",
       "       [229],\n",
       "       [222],\n",
       "       [219],\n",
       "       [278],\n",
       "       [246],\n",
       "       [237],\n",
       "       [233],\n",
       "       [224],\n",
       "       [223],\n",
       "       [230]], dtype=int64)"
      ]
     },
     "execution_count": 4,
     "metadata": {},
     "output_type": "execute_result"
    }
   ],
   "source": [
    "Y = np.array([dataframe['y']]).transpose()\n",
    "Y"
   ]
  },
  {
   "cell_type": "code",
   "execution_count": 5,
   "metadata": {},
   "outputs": [
    {
     "data": {
      "text/plain": [
       "array([[1.20000000e+01, 1.08200000e+03, 1.21500000e+03, 9.76700000e+04,\n",
       "        1.23295000e+05, 1.09556000e+05],\n",
       "       [1.08200000e+03, 9.76700000e+04, 1.09556000e+05, 8.82650000e+06,\n",
       "        1.11181800e+07, 9.88984000e+06],\n",
       "       [1.21500000e+03, 1.09556000e+05, 1.23295000e+05, 9.88984000e+06,\n",
       "        1.25404650e+07, 1.11181800e+07],\n",
       "       [9.76700000e+04, 8.82650000e+06, 9.88984000e+06, 7.98572354e+08,\n",
       "        1.00373964e+09, 8.93802776e+08],\n",
       "       [1.23295000e+05, 1.11181800e+07, 1.25404650e+07, 1.00373964e+09,\n",
       "        1.27850786e+09, 1.13095405e+09],\n",
       "       [1.09556000e+05, 9.88984000e+06, 1.11181800e+07, 8.93802776e+08,\n",
       "        1.13095405e+09, 1.00373964e+09]])"
      ]
     },
     "execution_count": 5,
     "metadata": {},
     "output_type": "execute_result"
    }
   ],
   "source": [
    "#Start calculating the pseudo inverse\n",
    "np.dot(X.transpose(),X)"
   ]
  },
  {
   "cell_type": "code",
   "execution_count": 6,
   "metadata": {},
   "outputs": [
    {
     "data": {
      "text/plain": [
       "2575459374365918.5"
      ]
     },
     "execution_count": 6,
     "metadata": {},
     "output_type": "execute_result"
    }
   ],
   "source": [
    "#Compute the determinant\n",
    "np.linalg.det(np.dot(X.transpose(),X))"
   ]
  },
  {
   "cell_type": "code",
   "execution_count": 7,
   "metadata": {},
   "outputs": [
    {
     "data": {
      "text/plain": [
       "6"
      ]
     },
     "execution_count": 7,
     "metadata": {},
     "output_type": "execute_result"
    }
   ],
   "source": [
    "# Compute the rank of the matrix. If this doesn't equal the number of columns, then it is rank deficient\n",
    "np.linalg.matrix_rank(X)"
   ]
  },
  {
   "cell_type": "code",
   "execution_count": 8,
   "metadata": {},
   "outputs": [
    {
     "data": {
      "text/plain": [
       "(12, 6)"
      ]
     },
     "execution_count": 8,
     "metadata": {},
     "output_type": "execute_result"
    }
   ],
   "source": [
    "#Compare the rank to the shape. The last numbers should match\n",
    "np.shape(X)"
   ]
  },
  {
   "cell_type": "code",
   "execution_count": 9,
   "metadata": {},
   "outputs": [
    {
     "data": {
      "text/plain": [
       "array([[ 7.61931273e+04, -1.24046009e+03, -3.80033366e+02,\n",
       "         6.38447249e+00,  1.50632706e+00,  7.33029749e-01],\n",
       "       [-1.24046009e+03,  4.77818869e+01, -1.80006946e+01,\n",
       "        -3.04242559e-01,  5.63628664e-02,  7.14016072e-02],\n",
       "       [-3.80033366e+02, -1.80006946e+01,  2.31134246e+01,\n",
       "         1.43900635e-01, -7.83687295e-02, -7.70196196e-02],\n",
       "       [ 6.38447250e+00, -3.04242559e-01,  1.43900635e-01,\n",
       "         2.06790638e-03, -3.99124861e-04, -6.84807852e-04],\n",
       "       [ 1.50632706e+00,  5.63628664e-02, -7.83687295e-02,\n",
       "        -3.99124861e-04,  3.16119654e-04,  1.47541100e-04],\n",
       "       [ 7.33029749e-01,  7.14016072e-02, -7.70196196e-02,\n",
       "        -6.84807852e-04,  1.47541100e-04,  5.13162628e-04]])"
      ]
     },
     "execution_count": 9,
     "metadata": {},
     "output_type": "execute_result"
    }
   ],
   "source": [
    "XTXinv = np.linalg.inv(np.dot(X.transpose(),X))\n",
    "XTXinv"
   ]
  },
  {
   "cell_type": "code",
   "execution_count": 10,
   "metadata": {},
   "outputs": [
    {
     "data": {
      "text/plain": [
       "array([[ 2.90031521e+03],\n",
       "       [-7.24090613e+01],\n",
       "       [ 7.19465597e+00],\n",
       "       [ 2.37411544e-01],\n",
       "       [-1.68223761e-01],\n",
       "       [ 3.20680547e-01]])"
      ]
     },
     "execution_count": 10,
     "metadata": {},
     "output_type": "execute_result"
    }
   ],
   "source": [
    "#Inversion is now possible, so we can calculate the parameters for least-squares\n",
    "beta = np.dot(np.dot(XTXinv,np.transpose(X)),Y)\n",
    "beta"
   ]
  },
  {
   "cell_type": "code",
   "execution_count": 11,
   "metadata": {},
   "outputs": [
    {
     "data": {
      "text/plain": [
       "array([[229.88610177],\n",
       "       [220.58200238],\n",
       "       [226.92514707],\n",
       "       [218.89767073],\n",
       "       [224.11240118],\n",
       "       [279.32133082],\n",
       "       [235.19632659],\n",
       "       [229.88610177],\n",
       "       [230.69297022],\n",
       "       [219.21309524],\n",
       "       [229.88610177],\n",
       "       [233.40075116]])"
      ]
     },
     "execution_count": 11,
     "metadata": {},
     "output_type": "execute_result"
    }
   ],
   "source": [
    "# Determine the expected observations based on the model\n",
    "y_hat = np.dot(X,beta)\n",
    "y_hat"
   ]
  },
  {
   "cell_type": "code",
   "execution_count": 12,
   "metadata": {},
   "outputs": [
    {
     "data": {
      "text/plain": [
       "array([[-4.88610177],\n",
       "       [-8.58200238],\n",
       "       [ 2.07485293],\n",
       "       [ 3.10232927],\n",
       "       [-5.11240118],\n",
       "       [-1.32133082],\n",
       "       [10.80367341],\n",
       "       [ 7.11389823],\n",
       "       [ 2.30702978],\n",
       "       [ 4.78690476],\n",
       "       [-6.88610177],\n",
       "       [-3.40075116]])"
      ]
     },
     "execution_count": 12,
     "metadata": {},
     "output_type": "execute_result"
    }
   ],
   "source": [
    "# Determine the residuals\n",
    "resid = Y - y_hat\n",
    "resid"
   ]
  },
  {
   "cell_type": "code",
   "execution_count": 13,
   "metadata": {},
   "outputs": [
    {
     "data": {
      "text/plain": [
       "array([[393.88403486]])"
      ]
     },
     "execution_count": 13,
     "metadata": {},
     "output_type": "execute_result"
    }
   ],
   "source": [
    "SSE = np.dot(resid.transpose(),resid)\n",
    "SSE"
   ]
  },
  {
   "cell_type": "code",
   "execution_count": 14,
   "metadata": {},
   "outputs": [
    {
     "data": {
      "text/plain": [
       "231.5"
      ]
     },
     "execution_count": 14,
     "metadata": {},
     "output_type": "execute_result"
    }
   ],
   "source": [
    "y_bar = Y.mean()\n",
    "y_bar"
   ]
  },
  {
   "cell_type": "code",
   "execution_count": 15,
   "metadata": {},
   "outputs": [
    {
     "data": {
      "text/plain": [
       "2778"
      ]
     },
     "execution_count": 15,
     "metadata": {},
     "output_type": "execute_result"
    }
   ],
   "source": [
    "y_ddot = Y.sum()\n",
    "y_ddot"
   ]
  },
  {
   "cell_type": "code",
   "execution_count": 16,
   "metadata": {},
   "outputs": [
    {
     "data": {
      "text/plain": [
       "12"
      ]
     },
     "execution_count": 16,
     "metadata": {},
     "output_type": "execute_result"
    }
   ],
   "source": [
    "#Determine the number of samples\n",
    "n = len(Y) \n",
    "n"
   ]
  },
  {
   "cell_type": "code",
   "execution_count": 17,
   "metadata": {},
   "outputs": [
    {
     "data": {
      "text/plain": [
       "array([[2817.11596576]])"
      ]
     },
     "execution_count": 17,
     "metadata": {},
     "output_type": "execute_result"
    }
   ],
   "source": [
    "SSR = np.dot((y_hat-y_bar).transpose(),(y_hat-y_bar))\n",
    "SSR"
   ]
  },
  {
   "cell_type": "code",
   "execution_count": 18,
   "metadata": {},
   "outputs": [
    {
     "data": {
      "text/plain": [
       "array([[2817.11629286]])"
      ]
     },
     "execution_count": 18,
     "metadata": {},
     "output_type": "execute_result"
    }
   ],
   "source": [
    "SSR = np.dot(y_hat.transpose(),y_hat) - y_ddot**2/n\n",
    "SSR"
   ]
  },
  {
   "cell_type": "code",
   "execution_count": 19,
   "metadata": {},
   "outputs": [
    {
     "data": {
      "text/plain": [
       "array([[3211.]])"
      ]
     },
     "execution_count": 19,
     "metadata": {},
     "output_type": "execute_result"
    }
   ],
   "source": [
    "SST = np.dot(Y.transpose(),Y) - y_ddot**2/n\n",
    "SST"
   ]
  },
  {
   "cell_type": "code",
   "execution_count": 20,
   "metadata": {},
   "outputs": [
    {
     "data": {
      "text/plain": [
       "True"
      ]
     },
     "execution_count": 20,
     "metadata": {},
     "output_type": "execute_result"
    }
   ],
   "source": [
    "np.allclose(SST,SSR+SSE)"
   ]
  },
  {
   "cell_type": "code",
   "execution_count": 21,
   "metadata": {},
   "outputs": [
    {
     "data": {
      "text/plain": [
       "6"
      ]
     },
     "execution_count": 21,
     "metadata": {},
     "output_type": "execute_result"
    }
   ],
   "source": [
    "p = len(beta) #regression dof\n",
    "p"
   ]
  },
  {
   "cell_type": "code",
   "execution_count": 22,
   "metadata": {},
   "outputs": [
    {
     "data": {
      "text/plain": [
       "6"
      ]
     },
     "execution_count": 22,
     "metadata": {},
     "output_type": "execute_result"
    }
   ],
   "source": [
    "dof_resid = n - p \n",
    "dof_resid"
   ]
  },
  {
   "cell_type": "code",
   "execution_count": 23,
   "metadata": {},
   "outputs": [
    {
     "data": {
      "text/plain": [
       "array([[563.42325857]])"
      ]
     },
     "execution_count": 23,
     "metadata": {},
     "output_type": "execute_result"
    }
   ],
   "source": [
    "MSR = SSR/(p-1)\n",
    "MSR"
   ]
  },
  {
   "cell_type": "code",
   "execution_count": 24,
   "metadata": {},
   "outputs": [
    {
     "data": {
      "text/plain": [
       "array([[65.64733914]])"
      ]
     },
     "execution_count": 24,
     "metadata": {},
     "output_type": "execute_result"
    }
   ],
   "source": [
    "MSE = SSE/dof_resid\n",
    "MSE"
   ]
  },
  {
   "cell_type": "code",
   "execution_count": 25,
   "metadata": {},
   "outputs": [
    {
     "data": {
      "text/plain": [
       "array([[8.58257571]])"
      ]
     },
     "execution_count": 25,
     "metadata": {},
     "output_type": "execute_result"
    }
   ],
   "source": [
    "F_o = MSR/MSE\n",
    "F_o"
   ]
  },
  {
   "cell_type": "code",
   "execution_count": null,
   "metadata": {},
   "outputs": [],
   "source": []
  },
  {
   "cell_type": "code",
   "execution_count": 26,
   "metadata": {},
   "outputs": [
    {
     "data": {
      "text/plain": [
       "array([[0.87733291]])"
      ]
     },
     "execution_count": 26,
     "metadata": {},
     "output_type": "execute_result"
    }
   ],
   "source": [
    "R_squared = 1 - SSE/SST\n",
    "R_squared"
   ]
  },
  {
   "cell_type": "code",
   "execution_count": 27,
   "metadata": {},
   "outputs": [
    {
     "data": {
      "text/plain": [
       "array([[0.77511033]])"
      ]
     },
     "execution_count": 27,
     "metadata": {},
     "output_type": "execute_result"
    }
   ],
   "source": [
    "R_squared_adj = 1 - ((n-1)/(n-p))*(1 - R_squared)\n",
    "R_squared_adj"
   ]
  },
  {
   "cell_type": "code",
   "execution_count": 28,
   "metadata": {},
   "outputs": [
    {
     "data": {
      "text/plain": [
       "array([[ 5.00187607e+06, -8.14329042e+04, -2.49481793e+04,\n",
       "         4.19123631e+02,  9.88863632e+01,  4.81214526e+01],\n",
       "       [-8.14329043e+04,  3.13675373e+03, -1.18169770e+03,\n",
       "        -1.99727144e+01,  3.70007220e+00,  4.68732553e+00],\n",
       "       [-2.49481792e+04, -1.18169770e+03,  1.51733482e+03,\n",
       "         9.44669377e+00, -5.14469857e+00, -5.05613309e+00],\n",
       "       [ 4.19123631e+02, -1.99727145e+01,  9.44669377e+00,\n",
       "         1.35752552e-01, -2.62014851e-02, -4.49558133e-02],\n",
       "       [ 9.88863631e+01,  3.70007221e+00, -5.14469857e+00,\n",
       "        -2.62014851e-02,  2.07524141e-02,  9.68568060e-03],\n",
       "       [ 4.81214525e+01,  4.68732553e+00, -5.05613309e+00,\n",
       "        -4.49558133e-02,  9.68568061e-03,  3.36877611e-02]])"
      ]
     },
     "execution_count": 28,
     "metadata": {},
     "output_type": "execute_result"
    }
   ],
   "source": [
    "# Covariance matrix\n",
    "cov = MSE*XTXinv\n",
    "cov"
   ]
  },
  {
   "cell_type": "code",
   "execution_count": 29,
   "metadata": {},
   "outputs": [
    {
     "data": {
      "text/plain": [
       "array([2.23648744e+03, 5.60067294e+01, 3.89529822e+01, 3.68446131e-01,\n",
       "       1.44056982e-01, 1.83542260e-01])"
      ]
     },
     "execution_count": 29,
     "metadata": {},
     "output_type": "execute_result"
    }
   ],
   "source": [
    "#Standard errors for the coeffiecients are the diagnonals\n",
    "std_errs = np.sqrt(np.diag(cov))\n",
    "std_errs"
   ]
  },
  {
   "cell_type": "code",
   "execution_count": 30,
   "metadata": {},
   "outputs": [
    {
     "data": {
      "text/plain": [
       "-0.4936482415643485"
      ]
     },
     "execution_count": 30,
     "metadata": {},
     "output_type": "execute_result"
    }
   ],
   "source": [
    "#Correlation coeffs\n",
    "rho = np.zeros(np.shape(cov))\n",
    "for i in range(0,len(std_errs)):\n",
    "    for j in range(i,len(std_errs)):\n",
    "        rho[i][j] = cov[i][j]/std_errs[i]/std_errs[j]\n",
    "        rho[j][i] = cov[i][j]/std_errs[i]/std_errs[j] #symmetric\n",
    "rho[3,4]"
   ]
  },
  {
   "cell_type": "code",
   "execution_count": 31,
   "metadata": {},
   "outputs": [
    {
     "data": {
      "text/plain": [
       "True"
      ]
     },
     "execution_count": 31,
     "metadata": {},
     "output_type": "execute_result"
    }
   ],
   "source": [
    "#Compute the hat matrix that maps observations to fitted values\n",
    "hat_matrix = np.dot(np.dot(X,XTXinv),X.transpose())\n",
    "# Test the hat matrix relationship\n",
    "np.allclose(y_hat, np.dot(hat_matrix,Y))"
   ]
  },
  {
   "cell_type": "code",
   "execution_count": 32,
   "metadata": {},
   "outputs": [
    {
     "data": {
      "text/plain": [
       "14536.179534466113"
      ]
     },
     "execution_count": 32,
     "metadata": {},
     "output_type": "execute_result"
    }
   ],
   "source": [
    "press = ((resid.flatten()/(1-np.diag(hat_matrix)))**2).sum()\n",
    "press"
   ]
  },
  {
   "cell_type": "code",
   "execution_count": 33,
   "metadata": {},
   "outputs": [
    {
     "data": {
      "text/plain": [
       "array([[-3.52699456]])"
      ]
     },
     "execution_count": 33,
     "metadata": {},
     "output_type": "execute_result"
    }
   ],
   "source": [
    "R_squared_press = 1 - press/SST\n",
    "R_squared_press"
   ]
  },
  {
   "cell_type": "code",
   "execution_count": 34,
   "metadata": {},
   "outputs": [
    {
     "data": {
      "text/plain": [
       "Text(0, 0.5, 'Scaled Residual')"
      ]
     },
     "execution_count": 34,
     "metadata": {},
     "output_type": "execute_result"
    },
    {
     "data": {
      "image/png": "[encoded data removed]",
      "text/plain": [
       "<Figure size 432x288 with 1 Axes>"
      ]
     },
     "metadata": {
      "needs_background": "light"
     },
     "output_type": "display_data"
    }
   ],
   "source": [
    "studentized_residuals = resid.flatten() / np.sqrt( MSE[0]*(1 - np.diag(hat_matrix)) )\n",
    "plt.plot(studentized_residuals,'o',label='Studentized $\\epsilon$')\n",
    "plt.legend()\n",
    "plt.grid()\n",
    "plt.xlabel('Residual Index')\n",
    "plt.ylabel('Scaled Residual')"
   ]
  },
  {
   "cell_type": "code",
   "execution_count": 35,
   "metadata": {},
   "outputs": [
    {
     "data": {
      "text/plain": [
       "array([-1.80265719, -1.50092544, -0.96490641, -0.93627277, -0.68465891,\n",
       "       -0.48239266,  0.33714082,  0.56840348,  0.71825328,  0.99682611,\n",
       "        1.02598138,  1.92769269])"
      ]
     },
     "execution_count": 35,
     "metadata": {},
     "output_type": "execute_result"
    },
    {
     "data": {
      "image/png": "[encoded data removed]",
      "text/plain": [
       "<Figure size 432x288 with 1 Axes>"
      ]
     },
     "metadata": {
      "needs_background": "light"
     },
     "output_type": "display_data"
    }
   ],
   "source": [
    "plt.plot(y_hat,studentized_residuals,'o',label='Studentized $\\epsilon$')\n",
    "plt.legend()\n",
    "plt.grid()\n",
    "plt.xlabel('Fitted Value')\n",
    "plt.ylabel('Scaled Residual')\n",
    "np.sort(studentized_residuals)"
   ]
  },
  {
   "cell_type": "code",
   "execution_count": 36,
   "metadata": {},
   "outputs": [
    {
     "data": {
      "text/plain": [
       "Text(0, 0.5, 'Residual Residual')"
      ]
     },
     "execution_count": 36,
     "metadata": {},
     "output_type": "execute_result"
    },
    {
     "data": {
      "image/png": "[encoded data removed]",
      "text/plain": [
       "<Figure size 432x288 with 1 Axes>"
      ]
     },
     "metadata": {
      "needs_background": "light"
     },
     "output_type": "display_data"
    }
   ],
   "source": [
    "result = probplot(resid.flatten(),sparams=dof_resid,dist='t',plot=plt)\n",
    "plt.grid()\n",
    "plt.xlabel('Theoretical Quantiles')\n",
    "plt.ylabel('Residual Residual')"
   ]
  },
  {
   "cell_type": "code",
   "execution_count": 37,
   "metadata": {},
   "outputs": [
    {
     "data": {
      "text/plain": [
       "array([[8.10230456]])"
      ]
     },
     "execution_count": 37,
     "metadata": {},
     "output_type": "execute_result"
    }
   ],
   "source": [
    "#Compute the estimate of the standard deviation\n",
    "std_resid = np.sqrt(MSE)\n",
    "std_resid"
   ]
  },
  {
   "cell_type": "code",
   "execution_count": 38,
   "metadata": {},
   "outputs": [
    {
     "data": {
      "text/plain": [
       "array([ 1.29681712, -1.29286359,  0.18470103,  0.6443589 , -1.16775847,\n",
       "        1.74717554])"
      ]
     },
     "execution_count": 38,
     "metadata": {},
     "output_type": "execute_result"
    }
   ],
   "source": [
    "t_stats = beta.flatten()/std_errs\n",
    "t_stats"
   ]
  },
  {
   "cell_type": "code",
   "execution_count": 39,
   "metadata": {},
   "outputs": [
    {
     "data": {
      "text/plain": [
       "array([0.24232929, 0.24360675, 0.85954842, 0.54317571, 0.28720438,\n",
       "       0.13120209])"
      ]
     },
     "execution_count": 39,
     "metadata": {},
     "output_type": "execute_result"
    }
   ],
   "source": [
    "# Two sided test on the parameters\n",
    "p_values = 2*t.sf(np.abs(t_stats),dof_resid)\n",
    "p_values"
   ]
  },
  {
   "cell_type": "markdown",
   "metadata": {},
   "source": [
    "## Compare results to statsmodels\n",
    "https://www.statsmodels.org/stable/index.html\n",
    "\n",
    "We'll go through the capabilities in the linear regression of the stats models library and tie it back to our \"hand\" calculations.\n",
    "\n",
    "https://www.statsmodels.org/stable/regression.html"
   ]
  },
  {
   "cell_type": "code",
   "execution_count": 40,
   "metadata": {},
   "outputs": [],
   "source": [
    "import statsmodels.api as sm\n",
    "import statsmodels.formula.api as smf"
   ]
  },
  {
   "cell_type": "code",
   "execution_count": 41,
   "metadata": {},
   "outputs": [
    {
     "name": "stderr",
     "output_type": "stream",
     "text": [
      "C:\\ProgramData\\Anaconda3\\lib\\site-packages\\scipy\\stats\\stats.py:1603: UserWarning: kurtosistest only valid for n>=20 ... continuing anyway, n=12\n",
      "  warnings.warn(\"kurtosistest only valid for n>=20 ... continuing \"\n"
     ]
    },
    {
     "data": {
      "text/html": [
       "<table class=\"simpletable\">\n",
       "<caption>OLS Regression Results</caption>\n",
       "<tr>\n",
       "  <th>Dep. Variable:</th>            <td>y</td>        <th>  R-squared:         </th> <td>   0.877</td>\n",
       "</tr>\n",
       "<tr>\n",
       "  <th>Model:</th>                   <td>OLS</td>       <th>  Adj. R-squared:    </th> <td>   0.775</td>\n",
       "</tr>\n",
       "<tr>\n",
       "  <th>Method:</th>             <td>Least Squares</td>  <th>  F-statistic:       </th> <td>   8.583</td>\n",
       "</tr>\n",
       "<tr>\n",
       "  <th>Date:</th>             <td>Thu, 11 Mar 2021</td> <th>  Prob (F-statistic):</th>  <td>0.0105</td> \n",
       "</tr>\n",
       "<tr>\n",
       "  <th>Time:</th>                 <td>16:38:52</td>     <th>  Log-Likelihood:    </th> <td> -37.974</td>\n",
       "</tr>\n",
       "<tr>\n",
       "  <th>No. Observations:</th>      <td>    12</td>      <th>  AIC:               </th> <td>   87.95</td>\n",
       "</tr>\n",
       "<tr>\n",
       "  <th>Df Residuals:</th>          <td>     6</td>      <th>  BIC:               </th> <td>   90.86</td>\n",
       "</tr>\n",
       "<tr>\n",
       "  <th>Df Model:</th>              <td>     5</td>      <th>                     </th>     <td> </td>   \n",
       "</tr>\n",
       "<tr>\n",
       "  <th>Covariance Type:</th>      <td>nonrobust</td>    <th>                     </th>     <td> </td>   \n",
       "</tr>\n",
       "</table>\n",
       "<table class=\"simpletable\">\n",
       "<tr>\n",
       "       <td></td>         <th>coef</th>     <th>std err</th>      <th>t</th>      <th>P>|t|</th>  <th>[0.025</th>    <th>0.975]</th>  \n",
       "</tr>\n",
       "<tr>\n",
       "  <th>Intercept</th>  <td> 2900.3152</td> <td> 2236.487</td> <td>    1.297</td> <td> 0.242</td> <td>-2572.172</td> <td> 8372.803</td>\n",
       "</tr>\n",
       "<tr>\n",
       "  <th>x1</th>         <td>  -72.4091</td> <td>   56.007</td> <td>   -1.293</td> <td> 0.244</td> <td> -209.453</td> <td>   64.634</td>\n",
       "</tr>\n",
       "<tr>\n",
       "  <th>x2</th>         <td>    7.1947</td> <td>   38.953</td> <td>    0.185</td> <td> 0.860</td> <td>  -88.120</td> <td>  102.509</td>\n",
       "</tr>\n",
       "<tr>\n",
       "  <th>x1:x2</th>      <td>    0.3207</td> <td>    0.184</td> <td>    1.747</td> <td> 0.131</td> <td>   -0.128</td> <td>    0.770</td>\n",
       "</tr>\n",
       "<tr>\n",
       "  <th>pow(x1, 2)</th> <td>    0.2374</td> <td>    0.368</td> <td>    0.644</td> <td> 0.543</td> <td>   -0.664</td> <td>    1.139</td>\n",
       "</tr>\n",
       "<tr>\n",
       "  <th>pow(x2, 2)</th> <td>   -0.1682</td> <td>    0.144</td> <td>   -1.168</td> <td> 0.287</td> <td>   -0.521</td> <td>    0.184</td>\n",
       "</tr>\n",
       "</table>\n",
       "<table class=\"simpletable\">\n",
       "<tr>\n",
       "  <th>Omnibus:</th>       <td> 0.642</td> <th>  Durbin-Watson:     </th> <td>   1.392</td>\n",
       "</tr>\n",
       "<tr>\n",
       "  <th>Prob(Omnibus):</th> <td> 0.726</td> <th>  Jarque-Bera (JB):  </th> <td>   0.607</td>\n",
       "</tr>\n",
       "<tr>\n",
       "  <th>Skew:</th>          <td> 0.235</td> <th>  Prob(JB):          </th> <td>   0.738</td>\n",
       "</tr>\n",
       "<tr>\n",
       "  <th>Kurtosis:</th>      <td> 2.004</td> <th>  Cond. No.          </th> <td>1.53e+07</td>\n",
       "</tr>\n",
       "</table><br/><br/>Notes:<br/>[1] Standard Errors assume that the covariance matrix of the errors is correctly specified.<br/>[2] The condition number is large, 1.53e+07. This might indicate that there are<br/>strong multicollinearity or other numerical problems."
      ],
      "text/plain": [
       "<class 'statsmodels.iolib.summary.Summary'>\n",
       "\"\"\"\n",
       "                            OLS Regression Results                            \n",
       "==============================================================================\n",
       "Dep. Variable:                      y   R-squared:                       0.877\n",
       "Model:                            OLS   Adj. R-squared:                  0.775\n",
       "Method:                 Least Squares   F-statistic:                     8.583\n",
       "Date:                Thu, 11 Mar 2021   Prob (F-statistic):             0.0105\n",
       "Time:                        16:38:52   Log-Likelihood:                -37.974\n",
       "No. Observations:                  12   AIC:                             87.95\n",
       "Df Residuals:                       6   BIC:                             90.86\n",
       "Df Model:                           5                                         \n",
       "Covariance Type:            nonrobust                                         \n",
       "==============================================================================\n",
       "                 coef    std err          t      P>|t|      [0.025      0.975]\n",
       "------------------------------------------------------------------------------\n",
       "Intercept   2900.3152   2236.487      1.297      0.242   -2572.172    8372.803\n",
       "x1           -72.4091     56.007     -1.293      0.244    -209.453      64.634\n",
       "x2             7.1947     38.953      0.185      0.860     -88.120     102.509\n",
       "x1:x2          0.3207      0.184      1.747      0.131      -0.128       0.770\n",
       "pow(x1, 2)     0.2374      0.368      0.644      0.543      -0.664       1.139\n",
       "pow(x2, 2)    -0.1682      0.144     -1.168      0.287      -0.521       0.184\n",
       "==============================================================================\n",
       "Omnibus:                        0.642   Durbin-Watson:                   1.392\n",
       "Prob(Omnibus):                  0.726   Jarque-Bera (JB):                0.607\n",
       "Skew:                           0.235   Prob(JB):                        0.738\n",
       "Kurtosis:                       2.004   Cond. No.                     1.53e+07\n",
       "==============================================================================\n",
       "\n",
       "Notes:\n",
       "[1] Standard Errors assume that the covariance matrix of the errors is correctly specified.\n",
       "[2] The condition number is large, 1.53e+07. This might indicate that there are\n",
       "strong multicollinearity or other numerical problems.\n",
       "\"\"\""
      ]
     },
     "execution_count": 41,
     "metadata": {},
     "output_type": "execute_result"
    }
   ],
   "source": [
    "# Fit regression model \n",
    "results = smf.ols('y ~ x1*x2 + pow(x1,2) + pow(x2,2)', data=dataframe).fit()\n",
    "# Inspect the results\n",
    "results.summary()"
   ]
  },
  {
   "cell_type": "code",
   "execution_count": 42,
   "metadata": {},
   "outputs": [
    {
     "data": {
      "text/plain": [
       "0     229.886102\n",
       "1     220.582002\n",
       "2     226.925147\n",
       "3     218.897671\n",
       "4     224.112401\n",
       "5     279.321331\n",
       "6     235.196327\n",
       "7     229.886102\n",
       "8     230.692970\n",
       "9     219.213095\n",
       "10    229.886102\n",
       "11    233.400751\n",
       "dtype: float64"
      ]
     },
     "execution_count": 42,
     "metadata": {},
     "output_type": "execute_result"
    }
   ],
   "source": [
    "results.fittedvalues"
   ]
  },
  {
   "cell_type": "code",
   "execution_count": 43,
   "metadata": {},
   "outputs": [
    {
     "data": {
      "text/plain": [
       "array([[229.88610177],\n",
       "       [220.58200238],\n",
       "       [226.92514707],\n",
       "       [218.89767073],\n",
       "       [224.11240118],\n",
       "       [279.32133082],\n",
       "       [235.19632659],\n",
       "       [229.88610177],\n",
       "       [230.69297022],\n",
       "       [219.21309524],\n",
       "       [229.88610177],\n",
       "       [233.40075116]])"
      ]
     },
     "execution_count": 43,
     "metadata": {},
     "output_type": "execute_result"
    }
   ],
   "source": [
    "y_hat"
   ]
  },
  {
   "cell_type": "code",
   "execution_count": 44,
   "metadata": {},
   "outputs": [
    {
     "data": {
      "text/plain": [
       "True"
      ]
     },
     "execution_count": 44,
     "metadata": {},
     "output_type": "execute_result"
    }
   ],
   "source": [
    "np.allclose(y_hat.flatten(),results.fittedvalues)"
   ]
  },
  {
   "cell_type": "code",
   "execution_count": 45,
   "metadata": {},
   "outputs": [
    {
     "data": {
      "text/plain": [
       "array([[5.97605654]])"
      ]
     },
     "execution_count": 45,
     "metadata": {},
     "output_type": "execute_result"
    }
   ],
   "source": [
    "np.log(SSE)"
   ]
  },
  {
   "cell_type": "markdown",
   "metadata": {},
   "source": [
    "### Likelihood\n",
    "Given a linear model:\n",
    "$$y=[X]\\beta +\\epsilon$$\n",
    "Assume the residuals are distributed as independent guassian noise:\n",
    "$$ \\epsilon \\sim N(0,\\sigma^2)$$\n",
    "Theoretical, joint probability density (no correlation):\n",
    "$$\\prod_{i=1}^{n}p(y|x_i,\\beta,\\sigma^2) = \\prod_{i=1}^{n}\\frac{1}{\\sqrt{2\\pi\\sigma^2}}e^{-\\frac{\\epsilon_i^2}{2\\sigma^2}}$$\n",
    "If estimated values for the parametersa are used, $\\hat{\\beta}, s^2$, then the likelihood function is defined:\n",
    "$$\\prod_{i=1}^{n}p(y|x_i,\\hat{\\beta},s^2) = \\prod_{i=1}^{n}\\frac{1}{\\sqrt{2\\pi s^2}}e^{-\\frac{(y_i - \\hat{y}_i)^2}{2s^2}}$$\n",
    "where $$\\hat{y} = [X]\\hat{\\beta}$$ and $s^2 = SSE/n$ is the population variance used as an estimator. It is much easier to work with the natural log of the likelihood, so\n",
    "$$ L(\\hat{\\beta},s^2) = \\log\\left(\\prod_{i=1}^{n}\\frac{1}{\\sqrt{2\\pi s^2}}e^{-\\frac{(y_i - \\hat{y}_i)^2}{2s^2}}\\right)$$\n",
    "$$ L(\\hat{\\beta},s^2) = \\sum_{i=1}^{n}\\log\\left(\\frac{1}{\\sqrt{2\\pi s^2}}e^{-\\frac{(y_i - \\hat{y}_i)^2}{2s^2}}\\right)$$\n",
    "$$ L(\\hat{\\beta},s^2) = \\sum_{i=1}^{n}\\log\\left(\\frac{1}{\\sqrt{2\\pi s^2}}\\right)+\\log\\left(e^{-\\frac{(y_i - \\hat{y}_i)^2}{2s^2}}\\right)$$\n",
    "$$ L(\\hat{\\beta},s^2) = \\sum_{i=1}^{n} \\left( -\\frac{1}{2}(\\log 2\\pi + 2 \\log s) - \\frac{(y_i - \\hat{y}_i)^2}{2s^2}\\right)$$\n",
    "$$ L(\\hat{\\beta},s^2) =   -\\frac{n}{2}\\log 2\\pi - n \\log s - \\frac{1}{2s^2}\\sum_{i=1}^{n}(y_i - \\hat{y}_i)^2$$\n",
    "This is the log-liklihood function. If the estimate for $s^2 = \\frac{\\sum_{i=1}^{n}(y_i - \\hat{y}_i)^2}{n}$, then\n",
    "$$ L(\\hat{\\beta},s^2) =   -\\frac{n}{2}\\log 2\\pi - n \\log s - \\frac{\\sum_{i=1}^{n}(y_i - \\hat{y}_i)^2}{2\\frac{\\sum_{i=1}^{n}(y_i - \\hat{y}_i)^2}{n}}$$\n",
    "$$ L(\\hat{\\beta},s^2) =   -\\frac{n}{2}\\log 2\\pi - n \\log s - \\frac{n}{2}$$"
   ]
  },
  {
   "cell_type": "code",
   "execution_count": 46,
   "metadata": {},
   "outputs": [
    {
     "data": {
      "text/plain": [
       "-37.97416172905245"
      ]
     },
     "execution_count": 46,
     "metadata": {},
     "output_type": "execute_result"
    }
   ],
   "source": [
    "s = np.sqrt(SSE/n)[0][0]\n",
    "llf = -n/2 * np.log(2*np.pi) - n*np.log(s) - n/2\n",
    "llf"
   ]
  },
  {
   "cell_type": "code",
   "execution_count": 47,
   "metadata": {},
   "outputs": [
    {
     "data": {
      "text/plain": [
       "-37.97416172905234"
      ]
     },
     "execution_count": 47,
     "metadata": {},
     "output_type": "execute_result"
    }
   ],
   "source": [
    "results.llf"
   ]
  },
  {
   "cell_type": "code",
   "execution_count": 48,
   "metadata": {},
   "outputs": [
    {
     "data": {
      "text/plain": [
       "87.94832345810468"
      ]
     },
     "execution_count": 48,
     "metadata": {},
     "output_type": "execute_result"
    }
   ],
   "source": [
    "results.aic"
   ]
  },
  {
   "cell_type": "code",
   "execution_count": 49,
   "metadata": {},
   "outputs": [
    {
     "data": {
      "text/plain": [
       "87.94832345810468"
      ]
     },
     "execution_count": 49,
     "metadata": {},
     "output_type": "execute_result"
    }
   ],
   "source": [
    "-2*results.llf + 2*(n - p)"
   ]
  },
  {
   "cell_type": "code",
   "execution_count": 50,
   "metadata": {},
   "outputs": [
    {
     "data": {
      "text/plain": [
       "90.85776335683269"
      ]
     },
     "execution_count": 50,
     "metadata": {},
     "output_type": "execute_result"
    }
   ],
   "source": [
    "results.bic"
   ]
  },
  {
   "cell_type": "code",
   "execution_count": 51,
   "metadata": {},
   "outputs": [
    {
     "data": {
      "text/plain": [
       "90.85776335683269"
      ]
     },
     "execution_count": 51,
     "metadata": {},
     "output_type": "execute_result"
    }
   ],
   "source": [
    "-2*results.llf + np.log(n)*(n - p)"
   ]
  },
  {
   "cell_type": "code",
   "execution_count": 52,
   "metadata": {},
   "outputs": [
    {
     "data": {
      "text/plain": [
       "Intercept     2236.487439\n",
       "x1              56.006729\n",
       "x2              38.952982\n",
       "x1:x2            0.183542\n",
       "pow(x1, 2)       0.368446\n",
       "pow(x2, 2)       0.144057\n",
       "dtype: float64"
      ]
     },
     "execution_count": 52,
     "metadata": {},
     "output_type": "execute_result"
    }
   ],
   "source": [
    "# The standard errors of the parameter estimates\n",
    "results.bse"
   ]
  },
  {
   "cell_type": "code",
   "execution_count": 53,
   "metadata": {},
   "outputs": [
    {
     "data": {
      "text/plain": [
       "array([2.23648744e+03, 5.60067294e+01, 3.89529822e+01, 3.68446131e-01,\n",
       "       1.44056982e-01, 1.83542260e-01])"
      ]
     },
     "execution_count": 53,
     "metadata": {},
     "output_type": "execute_result"
    }
   ],
   "source": [
    "std_errs"
   ]
  },
  {
   "cell_type": "code",
   "execution_count": 54,
   "metadata": {},
   "outputs": [
    {
     "data": {
      "text/plain": [
       "True"
      ]
     },
     "execution_count": 54,
     "metadata": {},
     "output_type": "execute_result"
    }
   ],
   "source": [
    "np.allclose(np.sort(results.bse),np.sort(std_errs))"
   ]
  },
  {
   "cell_type": "code",
   "execution_count": 55,
   "metadata": {},
   "outputs": [
    {
     "data": {
      "text/plain": [
       "Intercept     1350.713178\n",
       "x1              39.854716\n",
       "x2              29.559185\n",
       "x1:x2            0.148823\n",
       "pow(x1, 2)       0.291643\n",
       "pow(x2, 2)       0.099584\n",
       "dtype: float64"
      ]
     },
     "execution_count": 55,
     "metadata": {},
     "output_type": "execute_result"
    }
   ],
   "source": [
    "results.HC0_se"
   ]
  },
  {
   "cell_type": "code",
   "execution_count": 56,
   "metadata": {},
   "outputs": [
    {
     "data": {
      "text/plain": [
       "array([1.35071318e+03, 3.98547164e+01, 2.95591853e+01, 2.91642898e-01,\n",
       "       9.95844404e-02, 1.48822570e-01])"
      ]
     },
     "execution_count": 56,
     "metadata": {},
     "output_type": "execute_result"
    }
   ],
   "source": [
    "S = resid.flatten()**2\n",
    "cov_hc0 = np.dot(np.dot(XTXinv,X.T),np.dot(np.diag(S), np.dot(X,XTXinv)))\n",
    "hc0 = np.sqrt(np.diag(cov_hc0))\n",
    "hc0"
   ]
  },
  {
   "cell_type": "code",
   "execution_count": 57,
   "metadata": {},
   "outputs": [
    {
     "data": {
      "text/plain": [
       "True"
      ]
     },
     "execution_count": 57,
     "metadata": {},
     "output_type": "execute_result"
    }
   ],
   "source": [
    "np.allclose(np.sort(results.HC0_se),np.sort(hc0))"
   ]
  },
  {
   "cell_type": "code",
   "execution_count": 58,
   "metadata": {},
   "outputs": [
    {
     "data": {
      "text/plain": [
       "True"
      ]
     },
     "execution_count": 58,
     "metadata": {},
     "output_type": "execute_result"
    }
   ],
   "source": [
    "np.allclose(np.sort(results.cov_HC0.flatten()),np.sort(cov_hc0.flatten()))"
   ]
  },
  {
   "cell_type": "code",
   "execution_count": 59,
   "metadata": {},
   "outputs": [
    {
     "data": {
      "text/plain": [
       "Intercept     1910.196896\n",
       "x1              56.363080\n",
       "x2              41.803001\n",
       "x1:x2            0.210467\n",
       "pow(x1, 2)       0.412445\n",
       "pow(x2, 2)       0.140834\n",
       "dtype: float64"
      ]
     },
     "execution_count": 59,
     "metadata": {},
     "output_type": "execute_result"
    }
   ],
   "source": [
    "results.HC1_se"
   ]
  },
  {
   "cell_type": "code",
   "execution_count": 60,
   "metadata": {},
   "outputs": [
    {
     "data": {
      "text/plain": [
       "array([1.91019690e+03, 5.63630804e+01, 4.18030007e+01, 4.12445342e-01,\n",
       "       1.40833666e-01, 2.10466897e-01])"
      ]
     },
     "execution_count": 60,
     "metadata": {},
     "output_type": "execute_result"
    }
   ],
   "source": [
    "S = resid.flatten()**2 * (n / (n - p))\n",
    "cov_hc1 = np.dot(np.dot(XTXinv,X.T),np.dot(np.diag(S), np.dot(X,XTXinv)))\n",
    "hc1 = np.sqrt(np.diag(cov_hc1))\n",
    "hc1"
   ]
  },
  {
   "cell_type": "code",
   "execution_count": 61,
   "metadata": {},
   "outputs": [
    {
     "data": {
      "text/plain": [
       "True"
      ]
     },
     "execution_count": 61,
     "metadata": {},
     "output_type": "execute_result"
    }
   ],
   "source": [
    "np.allclose(np.sort(results.HC1_se),np.sort(hc1))"
   ]
  },
  {
   "cell_type": "code",
   "execution_count": 62,
   "metadata": {},
   "outputs": [
    {
     "data": {
      "text/plain": [
       "array([2.37260198e+03, 5.92801529e+01, 4.54122838e+01, 4.18752900e-01,\n",
       "       1.53008442e-01, 2.48462433e-01])"
      ]
     },
     "execution_count": 62,
     "metadata": {},
     "output_type": "execute_result"
    }
   ],
   "source": [
    "I = np.eye(len(hat_matrix))\n",
    "S = resid.flatten()**2 / np.diag((I-hat_matrix))\n",
    "cov_hc2 = np.dot(np.dot(XTXinv,X.T),np.dot(np.diag(S), np.dot(X,XTXinv)))\n",
    "hc2 = np.sqrt(np.diag(cov_hc2))\n",
    "hc2"
   ]
  },
  {
   "cell_type": "code",
   "execution_count": 63,
   "metadata": {},
   "outputs": [
    {
     "data": {
      "text/plain": [
       "Intercept     2372.601951\n",
       "x1              59.280153\n",
       "x2              45.412284\n",
       "x1:x2            0.248462\n",
       "pow(x1, 2)       0.418753\n",
       "pow(x2, 2)       0.153008\n",
       "dtype: float64"
      ]
     },
     "execution_count": 63,
     "metadata": {},
     "output_type": "execute_result"
    }
   ],
   "source": [
    "results.HC2_se"
   ]
  },
  {
   "cell_type": "code",
   "execution_count": 64,
   "metadata": {},
   "outputs": [
    {
     "data": {
      "text/plain": [
       "True"
      ]
     },
     "execution_count": 64,
     "metadata": {},
     "output_type": "execute_result"
    }
   ],
   "source": [
    "np.allclose(np.sort(results.HC2_se),np.sort(hc2))"
   ]
  },
  {
   "cell_type": "code",
   "execution_count": 65,
   "metadata": {},
   "outputs": [
    {
     "data": {
      "text/plain": [
       "Intercept     12882.931151\n",
       "x1              176.506628\n",
       "x2              132.395909\n",
       "x1:x2             1.015063\n",
       "pow(x1, 2)        0.704148\n",
       "pow(x2, 2)        0.295213\n",
       "dtype: float64"
      ]
     },
     "execution_count": 65,
     "metadata": {},
     "output_type": "execute_result"
    }
   ],
   "source": [
    "results.HC3_se"
   ]
  },
  {
   "cell_type": "code",
   "execution_count": 66,
   "metadata": {},
   "outputs": [
    {
     "data": {
      "text/plain": [
       "array([1.28829316e+04, 1.76506633e+02, 1.32395913e+02, 7.04147662e-01,\n",
       "       2.95213198e-01, 1.01506348e+00])"
      ]
     },
     "execution_count": 66,
     "metadata": {},
     "output_type": "execute_result"
    }
   ],
   "source": [
    "S = resid.flatten()**2 / np.diag((I-hat_matrix))**2\n",
    "cov_hc3 = np.dot(np.dot(XTXinv,X.T),np.dot(np.diag(S), np.dot(X,XTXinv)))\n",
    "hc3 = np.sqrt(np.diag(cov_hc3))\n",
    "hc3"
   ]
  },
  {
   "cell_type": "code",
   "execution_count": 67,
   "metadata": {},
   "outputs": [
    {
     "data": {
      "text/plain": [
       "True"
      ]
     },
     "execution_count": 67,
     "metadata": {},
     "output_type": "execute_result"
    }
   ],
   "source": [
    "np.allclose(np.sort(results.HC3_se),np.sort(hc3))"
   ]
  },
  {
   "cell_type": "code",
   "execution_count": 68,
   "metadata": {},
   "outputs": [
    {
     "data": {
      "text/plain": [
       "3211.0"
      ]
     },
     "execution_count": 68,
     "metadata": {},
     "output_type": "execute_result"
    }
   ],
   "source": [
    "results.centered_tss"
   ]
  },
  {
   "cell_type": "code",
   "execution_count": 69,
   "metadata": {},
   "outputs": [
    {
     "data": {
      "text/plain": [
       "array([[3211.]])"
      ]
     },
     "execution_count": 69,
     "metadata": {},
     "output_type": "execute_result"
    }
   ],
   "source": [
    "SST"
   ]
  },
  {
   "cell_type": "code",
   "execution_count": 70,
   "metadata": {},
   "outputs": [
    {
     "data": {
      "text/plain": [
       "646318.0"
      ]
     },
     "execution_count": 70,
     "metadata": {},
     "output_type": "execute_result"
    }
   ],
   "source": [
    "results.uncentered_tss"
   ]
  },
  {
   "cell_type": "code",
   "execution_count": 71,
   "metadata": {},
   "outputs": [
    {
     "data": {
      "text/plain": [
       "array([[646318]], dtype=int64)"
      ]
     },
     "execution_count": 71,
     "metadata": {},
     "output_type": "execute_result"
    }
   ],
   "source": [
    "np.dot(Y.transpose(),Y)"
   ]
  },
  {
   "cell_type": "code",
   "execution_count": 72,
   "metadata": {},
   "outputs": [
    {
     "data": {
      "text/plain": [
       "2817.1159651351973"
      ]
     },
     "execution_count": 72,
     "metadata": {},
     "output_type": "execute_result"
    }
   ],
   "source": [
    "results.ess"
   ]
  },
  {
   "cell_type": "code",
   "execution_count": 73,
   "metadata": {},
   "outputs": [
    {
     "data": {
      "text/plain": [
       "array([[2817.11629286]])"
      ]
     },
     "execution_count": 73,
     "metadata": {},
     "output_type": "execute_result"
    }
   ],
   "source": [
    "SSR"
   ]
  },
  {
   "cell_type": "code",
   "execution_count": 74,
   "metadata": {},
   "outputs": [
    {
     "data": {
      "text/plain": [
       "array([3.07440613e+09, 6.63183145e+06, 2.69624945e+03, 1.74234102e+02,\n",
       "       1.31207466e-05, 2.04931382e-02])"
      ]
     },
     "execution_count": 74,
     "metadata": {},
     "output_type": "execute_result"
    }
   ],
   "source": [
    "(vals,vects) = np.linalg.eig(np.dot(X.transpose(),X))\n",
    "vals"
   ]
  },
  {
   "cell_type": "code",
   "execution_count": 75,
   "metadata": {},
   "outputs": [
    {
     "data": {
      "text/plain": [
       "array([3.07440613e+09, 6.63183145e+06, 2.69624945e+03, 1.74234102e+02,\n",
       "       2.04931386e-02, 1.31207384e-05])"
      ]
     },
     "execution_count": 75,
     "metadata": {},
     "output_type": "execute_result"
    }
   ],
   "source": [
    "results.eigenvals"
   ]
  },
  {
   "cell_type": "code",
   "execution_count": 76,
   "metadata": {},
   "outputs": [
    {
     "data": {
      "text/plain": [
       "15307401.712950852"
      ]
     },
     "execution_count": 76,
     "metadata": {},
     "output_type": "execute_result"
    }
   ],
   "source": [
    "results.condition_number"
   ]
  },
  {
   "cell_type": "code",
   "execution_count": 77,
   "metadata": {},
   "outputs": [
    {
     "data": {
      "text/plain": [
       "15307396.935416425"
      ]
     },
     "execution_count": 77,
     "metadata": {},
     "output_type": "execute_result"
    }
   ],
   "source": [
    "cond_matrix = vals.max()/vals.min()\n",
    "np.sqrt(cond_matrix)"
   ]
  },
  {
   "cell_type": "code",
   "execution_count": 78,
   "metadata": {},
   "outputs": [
    {
     "data": {
      "text/plain": [
       "14.369802688032545"
      ]
     },
     "execution_count": 78,
     "metadata": {},
     "output_type": "execute_result"
    }
   ],
   "source": [
    "# This is the number of digits of accuracy loss in precision\n",
    "np.log10(cond_matrix)"
   ]
  },
  {
   "cell_type": "code",
   "execution_count": 79,
   "metadata": {},
   "outputs": [
    {
     "data": {
      "text/plain": [
       "True"
      ]
     },
     "execution_count": 79,
     "metadata": {},
     "output_type": "execute_result"
    }
   ],
   "source": [
    "np.allclose(np.sort(vals),np.sort(results.eigenvals))"
   ]
  },
  {
   "cell_type": "code",
   "execution_count": 80,
   "metadata": {},
   "outputs": [
    {
     "data": {
      "text/plain": [
       "393.88403486480297"
      ]
     },
     "execution_count": 80,
     "metadata": {},
     "output_type": "execute_result"
    }
   ],
   "source": [
    "results.ssr"
   ]
  },
  {
   "cell_type": "code",
   "execution_count": 81,
   "metadata": {},
   "outputs": [
    {
     "data": {
      "text/plain": [
       "array([[393.88403486]])"
      ]
     },
     "execution_count": 81,
     "metadata": {},
     "output_type": "execute_result"
    }
   ],
   "source": [
    "SSE"
   ]
  },
  {
   "cell_type": "code",
   "execution_count": 82,
   "metadata": {},
   "outputs": [
    {
     "data": {
      "text/plain": [
       "Intercept     1.296817\n",
       "x1           -1.292864\n",
       "x2            0.184701\n",
       "x1:x2         1.747176\n",
       "pow(x1, 2)    0.644359\n",
       "pow(x2, 2)   -1.167758\n",
       "dtype: float64"
      ]
     },
     "execution_count": 82,
     "metadata": {},
     "output_type": "execute_result"
    }
   ],
   "source": [
    "results.tvalues"
   ]
  },
  {
   "cell_type": "code",
   "execution_count": 83,
   "metadata": {},
   "outputs": [
    {
     "data": {
      "text/plain": [
       "Intercept     0.242329\n",
       "x1            0.243607\n",
       "x2            0.859548\n",
       "x1:x2         0.131202\n",
       "pow(x1, 2)    0.543176\n",
       "pow(x2, 2)    0.287204\n",
       "dtype: float64"
      ]
     },
     "execution_count": 83,
     "metadata": {},
     "output_type": "execute_result"
    }
   ],
   "source": [
    "results.pvalues"
   ]
  },
  {
   "cell_type": "code",
   "execution_count": 84,
   "metadata": {},
   "outputs": [
    {
     "data": {
      "text/plain": [
       "array([0.24232929, 0.24360675, 0.85954842, 0.54317571, 0.28720438,\n",
       "       0.13120209])"
      ]
     },
     "execution_count": 84,
     "metadata": {},
     "output_type": "execute_result"
    }
   ],
   "source": [
    "p_values"
   ]
  },
  {
   "cell_type": "code",
   "execution_count": 85,
   "metadata": {},
   "outputs": [
    {
     "data": {
      "text/plain": [
       "563.4231930270395"
      ]
     },
     "execution_count": 85,
     "metadata": {},
     "output_type": "execute_result"
    }
   ],
   "source": [
    "results.mse_model"
   ]
  },
  {
   "cell_type": "code",
   "execution_count": 86,
   "metadata": {},
   "outputs": [
    {
     "data": {
      "text/plain": [
       "array([[563.42325857]])"
      ]
     },
     "execution_count": 86,
     "metadata": {},
     "output_type": "execute_result"
    }
   ],
   "source": [
    "MSR"
   ]
  },
  {
   "cell_type": "code",
   "execution_count": 87,
   "metadata": {},
   "outputs": [
    {
     "data": {
      "text/plain": [
       "65.64733914413382"
      ]
     },
     "execution_count": 87,
     "metadata": {},
     "output_type": "execute_result"
    }
   ],
   "source": [
    "results.mse_resid"
   ]
  },
  {
   "cell_type": "code",
   "execution_count": 88,
   "metadata": {},
   "outputs": [
    {
     "data": {
      "text/plain": [
       "array([[65.64733914]])"
      ]
     },
     "execution_count": 88,
     "metadata": {},
     "output_type": "execute_result"
    }
   ],
   "source": [
    "MSE"
   ]
  },
  {
   "cell_type": "code",
   "execution_count": 89,
   "metadata": {},
   "outputs": [
    {
     "data": {
      "text/plain": [
       "291.90909090909093"
      ]
     },
     "execution_count": 89,
     "metadata": {},
     "output_type": "execute_result"
    }
   ],
   "source": [
    "results.mse_total"
   ]
  },
  {
   "cell_type": "code",
   "execution_count": 90,
   "metadata": {},
   "outputs": [
    {
     "data": {
      "text/plain": [
       "12.0"
      ]
     },
     "execution_count": 90,
     "metadata": {},
     "output_type": "execute_result"
    }
   ],
   "source": [
    "results.nobs"
   ]
  },
  {
   "cell_type": "code",
   "execution_count": 91,
   "metadata": {},
   "outputs": [
    {
     "data": {
      "text/plain": [
       "[<matplotlib.lines.Line2D at 0x17f5a47aa60>]"
      ]
     },
     "execution_count": 91,
     "metadata": {},
     "output_type": "execute_result"
    },
    {
     "data": {
      "image/png": "[encoded data removed]",
      "text/plain": [
       "<Figure size 432x288 with 1 Axes>"
      ]
     },
     "metadata": {
      "needs_background": "light"
     },
     "output_type": "display_data"
    }
   ],
   "source": [
    "plt.plot(results.wresid,'d')\n",
    "plt.plot(results.resid,'^')\n",
    "plt.plot(resid,'o')"
   ]
  },
  {
   "cell_type": "code",
   "execution_count": 92,
   "metadata": {},
   "outputs": [
    {
     "data": {
      "text/plain": [
       "True"
      ]
     },
     "execution_count": 92,
     "metadata": {},
     "output_type": "execute_result"
    }
   ],
   "source": [
    "results.use_t"
   ]
  },
  {
   "cell_type": "code",
   "execution_count": 93,
   "metadata": {},
   "outputs": [
    {
     "data": {
      "text/plain": [
       "[<matplotlib.lines.Line2D at 0x17f5b2b8a60>]"
      ]
     },
     "execution_count": 93,
     "metadata": {},
     "output_type": "execute_result"
    },
    {
     "data": {
      "image/png": "[encoded data removed]",
      "text/plain": [
       "<Figure size 432x288 with 1 Axes>"
      ]
     },
     "metadata": {
      "needs_background": "light"
     },
     "output_type": "display_data"
    }
   ],
   "source": [
    "plt.plot(resid/np.sqrt(MSE),'o')\n",
    "plt.plot(studentized_residuals,'d')\n",
    "plt.plot(results.resid_pearson,'rx')\n"
   ]
  },
  {
   "cell_type": "code",
   "execution_count": 94,
   "metadata": {},
   "outputs": [
    {
     "data": {
      "text/plain": [
       "array([[0.01048318]])"
      ]
     },
     "execution_count": 94,
     "metadata": {},
     "output_type": "execute_result"
    }
   ],
   "source": [
    "f.sf(F_o,p-1,dof_resid)"
   ]
  },
  {
   "cell_type": "code",
   "execution_count": 95,
   "metadata": {},
   "outputs": [
    {
     "data": {
      "text/plain": [
       "0.010483181925541315"
      ]
     },
     "execution_count": 95,
     "metadata": {},
     "output_type": "execute_result"
    }
   ],
   "source": [
    "results.f_pvalue"
   ]
  },
  {
   "cell_type": "code",
   "execution_count": 96,
   "metadata": {},
   "outputs": [
    {
     "data": {
      "text/plain": [
       "65.64733914413382"
      ]
     },
     "execution_count": 96,
     "metadata": {},
     "output_type": "execute_result"
    }
   ],
   "source": [
    "results.scale"
   ]
  },
  {
   "cell_type": "code",
   "execution_count": 97,
   "metadata": {},
   "outputs": [
    {
     "data": {
      "text/plain": [
       "array([[65.64733914]])"
      ]
     },
     "execution_count": 97,
     "metadata": {},
     "output_type": "execute_result"
    }
   ],
   "source": [
    "SSE/(n-p)"
   ]
  },
  {
   "cell_type": "code",
   "execution_count": 98,
   "metadata": {},
   "outputs": [
    {
     "data": {
      "text/html": [
       "<div>\n",
       "<style scoped>\n",
       "    .dataframe tbody tr th:only-of-type {\n",
       "        vertical-align: middle;\n",
       "    }\n",
       "\n",
       "    .dataframe tbody tr th {\n",
       "        vertical-align: top;\n",
       "    }\n",
       "\n",
       "    .dataframe thead th {\n",
       "        text-align: right;\n",
       "    }\n",
       "</style>\n",
       "<table border=\"1\" class=\"dataframe\">\n",
       "  <thead>\n",
       "    <tr style=\"text-align: right;\">\n",
       "      <th></th>\n",
       "      <th>x1</th>\n",
       "      <th>x2</th>\n",
       "    </tr>\n",
       "  </thead>\n",
       "  <tbody>\n",
       "    <tr>\n",
       "      <th>0</th>\n",
       "      <td>90.166667</td>\n",
       "      <td>85.500000</td>\n",
       "    </tr>\n",
       "    <tr>\n",
       "      <th>1</th>\n",
       "      <td>90.166667</td>\n",
       "      <td>85.858586</td>\n",
       "    </tr>\n",
       "    <tr>\n",
       "      <th>2</th>\n",
       "      <td>90.166667</td>\n",
       "      <td>86.217172</td>\n",
       "    </tr>\n",
       "    <tr>\n",
       "      <th>3</th>\n",
       "      <td>90.166667</td>\n",
       "      <td>86.575758</td>\n",
       "    </tr>\n",
       "    <tr>\n",
       "      <th>4</th>\n",
       "      <td>90.166667</td>\n",
       "      <td>86.934343</td>\n",
       "    </tr>\n",
       "    <tr>\n",
       "      <th>...</th>\n",
       "      <td>...</td>\n",
       "      <td>...</td>\n",
       "    </tr>\n",
       "    <tr>\n",
       "      <th>95</th>\n",
       "      <td>90.166667</td>\n",
       "      <td>119.565657</td>\n",
       "    </tr>\n",
       "    <tr>\n",
       "      <th>96</th>\n",
       "      <td>90.166667</td>\n",
       "      <td>119.924242</td>\n",
       "    </tr>\n",
       "    <tr>\n",
       "      <th>97</th>\n",
       "      <td>90.166667</td>\n",
       "      <td>120.282828</td>\n",
       "    </tr>\n",
       "    <tr>\n",
       "      <th>98</th>\n",
       "      <td>90.166667</td>\n",
       "      <td>120.641414</td>\n",
       "    </tr>\n",
       "    <tr>\n",
       "      <th>99</th>\n",
       "      <td>90.166667</td>\n",
       "      <td>121.000000</td>\n",
       "    </tr>\n",
       "  </tbody>\n",
       "</table>\n",
       "<p>100 rows × 2 columns</p>\n",
       "</div>"
      ],
      "text/plain": [
       "           x1          x2\n",
       "0   90.166667   85.500000\n",
       "1   90.166667   85.858586\n",
       "2   90.166667   86.217172\n",
       "3   90.166667   86.575758\n",
       "4   90.166667   86.934343\n",
       "..        ...         ...\n",
       "95  90.166667  119.565657\n",
       "96  90.166667  119.924242\n",
       "97  90.166667  120.282828\n",
       "98  90.166667  120.641414\n",
       "99  90.166667  121.000000\n",
       "\n",
       "[100 rows x 2 columns]"
      ]
     },
     "execution_count": 98,
     "metadata": {},
     "output_type": "execute_result"
    }
   ],
   "source": [
    "new_vars = pd.DataFrame()\n",
    "N=100\n",
    "new_vars['x1'] = np.ones(N)*dataframe[\"x1\"].mean()\n",
    "new_vars['x2'] = np.linspace(.9*min(dataframe[\"x2\"]),1.1*max(dataframe[\"x2\"]),N)\n",
    "new_vars"
   ]
  },
  {
   "cell_type": "code",
   "execution_count": 99,
   "metadata": {},
   "outputs": [],
   "source": [
    "new_y = results.predict(new_vars)"
   ]
  },
  {
   "cell_type": "code",
   "execution_count": 100,
   "metadata": {},
   "outputs": [
    {
     "data": {
      "text/plain": [
       "[<matplotlib.lines.Line2D at 0x17f5b31fdc0>]"
      ]
     },
     "execution_count": 100,
     "metadata": {},
     "output_type": "execute_result"
    },
    {
     "data": {
      "image/png": "[encoded data removed]",
      "text/plain": [
       "<Figure size 432x288 with 1 Axes>"
      ]
     },
     "metadata": {
      "needs_background": "light"
     },
     "output_type": "display_data"
    }
   ],
   "source": [
    "plt.plot(dataframe['x2'],dataframe['y'],'o')\n",
    "plt.plot(new_vars['x2'],new_y)"
   ]
  },
  {
   "cell_type": "code",
   "execution_count": 101,
   "metadata": {},
   "outputs": [
    {
     "data": {
      "text/html": [
       "<div>\n",
       "<style scoped>\n",
       "    .dataframe tbody tr th:only-of-type {\n",
       "        vertical-align: middle;\n",
       "    }\n",
       "\n",
       "    .dataframe tbody tr th {\n",
       "        vertical-align: top;\n",
       "    }\n",
       "\n",
       "    .dataframe thead th {\n",
       "        text-align: right;\n",
       "    }\n",
       "</style>\n",
       "<table border=\"1\" class=\"dataframe\">\n",
       "  <thead>\n",
       "    <tr style=\"text-align: right;\">\n",
       "      <th></th>\n",
       "      <th>Intercept</th>\n",
       "      <th>x1</th>\n",
       "      <th>x2</th>\n",
       "      <th>x1:x2</th>\n",
       "      <th>pow(x1, 2)</th>\n",
       "      <th>pow(x2, 2)</th>\n",
       "    </tr>\n",
       "  </thead>\n",
       "  <tbody>\n",
       "    <tr>\n",
       "      <th>Intercept</th>\n",
       "      <td>5.001876e+06</td>\n",
       "      <td>-81432.904243</td>\n",
       "      <td>-24948.179253</td>\n",
       "      <td>48.121453</td>\n",
       "      <td>419.123631</td>\n",
       "      <td>98.886363</td>\n",
       "    </tr>\n",
       "    <tr>\n",
       "      <th>x1</th>\n",
       "      <td>-8.143290e+04</td>\n",
       "      <td>3136.753734</td>\n",
       "      <td>-1181.697701</td>\n",
       "      <td>4.687326</td>\n",
       "      <td>-19.972714</td>\n",
       "      <td>3.700072</td>\n",
       "    </tr>\n",
       "    <tr>\n",
       "      <th>x2</th>\n",
       "      <td>-2.494818e+04</td>\n",
       "      <td>-1181.697701</td>\n",
       "      <td>1517.334823</td>\n",
       "      <td>-5.056133</td>\n",
       "      <td>9.446694</td>\n",
       "      <td>-5.144699</td>\n",
       "    </tr>\n",
       "    <tr>\n",
       "      <th>x1:x2</th>\n",
       "      <td>4.812145e+01</td>\n",
       "      <td>4.687326</td>\n",
       "      <td>-5.056133</td>\n",
       "      <td>0.033688</td>\n",
       "      <td>-0.044956</td>\n",
       "      <td>0.009686</td>\n",
       "    </tr>\n",
       "    <tr>\n",
       "      <th>pow(x1, 2)</th>\n",
       "      <td>4.191236e+02</td>\n",
       "      <td>-19.972714</td>\n",
       "      <td>9.446694</td>\n",
       "      <td>-0.044956</td>\n",
       "      <td>0.135753</td>\n",
       "      <td>-0.026201</td>\n",
       "    </tr>\n",
       "    <tr>\n",
       "      <th>pow(x2, 2)</th>\n",
       "      <td>9.888636e+01</td>\n",
       "      <td>3.700072</td>\n",
       "      <td>-5.144699</td>\n",
       "      <td>0.009686</td>\n",
       "      <td>-0.026201</td>\n",
       "      <td>0.020752</td>\n",
       "    </tr>\n",
       "  </tbody>\n",
       "</table>\n",
       "</div>"
      ],
      "text/plain": [
       "               Intercept            x1            x2      x1:x2  pow(x1, 2)  \\\n",
       "Intercept   5.001876e+06 -81432.904243 -24948.179253  48.121453  419.123631   \n",
       "x1         -8.143290e+04   3136.753734  -1181.697701   4.687326  -19.972714   \n",
       "x2         -2.494818e+04  -1181.697701   1517.334823  -5.056133    9.446694   \n",
       "x1:x2       4.812145e+01      4.687326     -5.056133   0.033688   -0.044956   \n",
       "pow(x1, 2)  4.191236e+02    -19.972714      9.446694  -0.044956    0.135753   \n",
       "pow(x2, 2)  9.888636e+01      3.700072     -5.144699   0.009686   -0.026201   \n",
       "\n",
       "            pow(x2, 2)  \n",
       "Intercept    98.886363  \n",
       "x1            3.700072  \n",
       "x2           -5.144699  \n",
       "x1:x2         0.009686  \n",
       "pow(x1, 2)   -0.026201  \n",
       "pow(x2, 2)    0.020752  "
      ]
     },
     "execution_count": 101,
     "metadata": {},
     "output_type": "execute_result"
    }
   ],
   "source": [
    "results.cov_params()"
   ]
  },
  {
   "cell_type": "code",
   "execution_count": 102,
   "metadata": {},
   "outputs": [
    {
     "data": {
      "text/plain": [
       "array([[ 5.00187607e+06, -8.14329042e+04, -2.49481793e+04,\n",
       "         4.19123631e+02,  9.88863632e+01,  4.81214526e+01],\n",
       "       [-8.14329043e+04,  3.13675373e+03, -1.18169770e+03,\n",
       "        -1.99727144e+01,  3.70007220e+00,  4.68732553e+00],\n",
       "       [-2.49481792e+04, -1.18169770e+03,  1.51733482e+03,\n",
       "         9.44669377e+00, -5.14469857e+00, -5.05613309e+00],\n",
       "       [ 4.19123631e+02, -1.99727145e+01,  9.44669377e+00,\n",
       "         1.35752552e-01, -2.62014851e-02, -4.49558133e-02],\n",
       "       [ 9.88863631e+01,  3.70007221e+00, -5.14469857e+00,\n",
       "        -2.62014851e-02,  2.07524141e-02,  9.68568060e-03],\n",
       "       [ 4.81214525e+01,  4.68732553e+00, -5.05613309e+00,\n",
       "        -4.49558133e-02,  9.68568061e-03,  3.36877611e-02]])"
      ]
     },
     "execution_count": 102,
     "metadata": {},
     "output_type": "execute_result"
    }
   ],
   "source": [
    "cov"
   ]
  },
  {
   "cell_type": "code",
   "execution_count": 103,
   "metadata": {},
   "outputs": [
    {
     "name": "stderr",
     "output_type": "stream",
     "text": [
      "C:\\ProgramData\\Anaconda3\\lib\\site-packages\\scipy\\stats\\stats.py:1603: UserWarning: kurtosistest only valid for n>=20 ... continuing anyway, n=12\n",
      "  warnings.warn(\"kurtosistest only valid for n>=20 ... continuing \"\n"
     ]
    },
    {
     "data": {
      "text/html": [
       "<table class=\"simpletable\">\n",
       "<caption>OLS Regression Results</caption>\n",
       "<tr>\n",
       "  <th>Dep. Variable:</th>            <td>y</td>        <th>  R-squared:         </th> <td>   0.668</td>\n",
       "</tr>\n",
       "<tr>\n",
       "  <th>Model:</th>                   <td>OLS</td>       <th>  Adj. R-squared:    </th> <td>   0.595</td>\n",
       "</tr>\n",
       "<tr>\n",
       "  <th>Method:</th>             <td>Least Squares</td>  <th>  F-statistic:       </th> <td>   9.071</td>\n",
       "</tr>\n",
       "<tr>\n",
       "  <th>Date:</th>             <td>Thu, 11 Mar 2021</td> <th>  Prob (F-statistic):</th>  <td>0.00696</td>\n",
       "</tr>\n",
       "<tr>\n",
       "  <th>Time:</th>                 <td>16:38:53</td>     <th>  Log-Likelihood:    </th> <td> -43.941</td>\n",
       "</tr>\n",
       "<tr>\n",
       "  <th>No. Observations:</th>      <td>    12</td>      <th>  AIC:               </th> <td>   93.88</td>\n",
       "</tr>\n",
       "<tr>\n",
       "  <th>Df Residuals:</th>          <td>     9</td>      <th>  BIC:               </th> <td>   95.34</td>\n",
       "</tr>\n",
       "<tr>\n",
       "  <th>Df Model:</th>              <td>     2</td>      <th>                     </th>     <td> </td>   \n",
       "</tr>\n",
       "<tr>\n",
       "  <th>Covariance Type:</th>      <td>nonrobust</td>    <th>                     </th>     <td> </td>   \n",
       "</tr>\n",
       "</table>\n",
       "<table class=\"simpletable\">\n",
       "<tr>\n",
       "      <td></td>         <th>coef</th>     <th>std err</th>      <th>t</th>      <th>P>|t|</th>  <th>[0.025</th>    <th>0.975]</th>  \n",
       "</tr>\n",
       "<tr>\n",
       "  <th>Intercept</th> <td> -241.7394</td> <td>  113.692</td> <td>   -2.126</td> <td> 0.062</td> <td> -498.928</td> <td>   15.449</td>\n",
       "</tr>\n",
       "<tr>\n",
       "  <th>x1</th>        <td>    2.9718</td> <td>    1.039</td> <td>    2.861</td> <td> 0.019</td> <td>    0.622</td> <td>    5.322</td>\n",
       "</tr>\n",
       "<tr>\n",
       "  <th>x2</th>        <td>    2.0275</td> <td>    0.655</td> <td>    3.098</td> <td> 0.013</td> <td>    0.547</td> <td>    3.508</td>\n",
       "</tr>\n",
       "</table>\n",
       "<table class=\"simpletable\">\n",
       "<tr>\n",
       "  <th>Omnibus:</th>       <td> 0.467</td> <th>  Durbin-Watson:     </th> <td>   1.029</td>\n",
       "</tr>\n",
       "<tr>\n",
       "  <th>Prob(Omnibus):</th> <td> 0.792</td> <th>  Jarque-Bera (JB):  </th> <td>   0.519</td>\n",
       "</tr>\n",
       "<tr>\n",
       "  <th>Skew:</th>          <td>-0.342</td> <th>  Prob(JB):          </th> <td>   0.771</td>\n",
       "</tr>\n",
       "<tr>\n",
       "  <th>Kurtosis:</th>      <td> 2.245</td> <th>  Cond. No.          </th> <td>4.91e+03</td>\n",
       "</tr>\n",
       "</table><br/><br/>Notes:<br/>[1] Standard Errors assume that the covariance matrix of the errors is correctly specified.<br/>[2] The condition number is large, 4.91e+03. This might indicate that there are<br/>strong multicollinearity or other numerical problems."
      ],
      "text/plain": [
       "<class 'statsmodels.iolib.summary.Summary'>\n",
       "\"\"\"\n",
       "                            OLS Regression Results                            \n",
       "==============================================================================\n",
       "Dep. Variable:                      y   R-squared:                       0.668\n",
       "Model:                            OLS   Adj. R-squared:                  0.595\n",
       "Method:                 Least Squares   F-statistic:                     9.071\n",
       "Date:                Thu, 11 Mar 2021   Prob (F-statistic):            0.00696\n",
       "Time:                        16:38:53   Log-Likelihood:                -43.941\n",
       "No. Observations:                  12   AIC:                             93.88\n",
       "Df Residuals:                       9   BIC:                             95.34\n",
       "Df Model:                           2                                         \n",
       "Covariance Type:            nonrobust                                         \n",
       "==============================================================================\n",
       "                 coef    std err          t      P>|t|      [0.025      0.975]\n",
       "------------------------------------------------------------------------------\n",
       "Intercept   -241.7394    113.692     -2.126      0.062    -498.928      15.449\n",
       "x1             2.9718      1.039      2.861      0.019       0.622       5.322\n",
       "x2             2.0275      0.655      3.098      0.013       0.547       3.508\n",
       "==============================================================================\n",
       "Omnibus:                        0.467   Durbin-Watson:                   1.029\n",
       "Prob(Omnibus):                  0.792   Jarque-Bera (JB):                0.519\n",
       "Skew:                          -0.342   Prob(JB):                        0.771\n",
       "Kurtosis:                       2.245   Cond. No.                     4.91e+03\n",
       "==============================================================================\n",
       "\n",
       "Notes:\n",
       "[1] Standard Errors assume that the covariance matrix of the errors is correctly specified.\n",
       "[2] The condition number is large, 4.91e+03. This might indicate that there are\n",
       "strong multicollinearity or other numerical problems.\n",
       "\"\"\""
      ]
     },
     "execution_count": 103,
     "metadata": {},
     "output_type": "execute_result"
    }
   ],
   "source": [
    "# Fit regression model \n",
    "restricted_results = smf.ols('y ~ x1 + x2', data=dataframe).fit()\n",
    "# Inspect the results\n",
    "restricted_results.summary()"
   ]
  },
  {
   "cell_type": "code",
   "execution_count": 104,
   "metadata": {},
   "outputs": [
    {
     "data": {
      "text/plain": [
       "(3.406205392979798, 0.0940320673118794, 3.0)"
      ]
     },
     "execution_count": 104,
     "metadata": {},
     "output_type": "execute_result"
    }
   ],
   "source": [
    "results.compare_f_test(restricted_results)"
   ]
  },
  {
   "cell_type": "code",
   "execution_count": 105,
   "metadata": {},
   "outputs": [],
   "source": [
    "#results.compare_lm_test(restricted_results)"
   ]
  },
  {
   "cell_type": "code",
   "execution_count": 106,
   "metadata": {},
   "outputs": [
    {
     "data": {
      "text/plain": [
       "(11.932803121134597, 0.007616929409552928, 3.0)"
      ]
     },
     "execution_count": 106,
     "metadata": {},
     "output_type": "execute_result"
    }
   ],
   "source": [
    "results.compare_lr_test(restricted_results)"
   ]
  },
  {
   "cell_type": "code",
   "execution_count": 107,
   "metadata": {},
   "outputs": [
    {
     "data": {
      "text/html": [
       "<div>\n",
       "<style scoped>\n",
       "    .dataframe tbody tr th:only-of-type {\n",
       "        vertical-align: middle;\n",
       "    }\n",
       "\n",
       "    .dataframe tbody tr th {\n",
       "        vertical-align: top;\n",
       "    }\n",
       "\n",
       "    .dataframe thead th {\n",
       "        text-align: right;\n",
       "    }\n",
       "</style>\n",
       "<table border=\"1\" class=\"dataframe\">\n",
       "  <thead>\n",
       "    <tr style=\"text-align: right;\">\n",
       "      <th></th>\n",
       "      <th>0</th>\n",
       "      <th>1</th>\n",
       "    </tr>\n",
       "  </thead>\n",
       "  <tbody>\n",
       "    <tr>\n",
       "      <th>Intercept</th>\n",
       "      <td>-2572.172408</td>\n",
       "      <td>8372.802821</td>\n",
       "    </tr>\n",
       "    <tr>\n",
       "      <th>x1</th>\n",
       "      <td>-209.452591</td>\n",
       "      <td>64.634468</td>\n",
       "    </tr>\n",
       "    <tr>\n",
       "      <th>x2</th>\n",
       "      <td>-88.119858</td>\n",
       "      <td>102.509170</td>\n",
       "    </tr>\n",
       "    <tr>\n",
       "      <th>x1:x2</th>\n",
       "      <td>-0.128431</td>\n",
       "      <td>0.769792</td>\n",
       "    </tr>\n",
       "    <tr>\n",
       "      <th>pow(x1, 2)</th>\n",
       "      <td>-0.664144</td>\n",
       "      <td>1.138967</td>\n",
       "    </tr>\n",
       "    <tr>\n",
       "      <th>pow(x2, 2)</th>\n",
       "      <td>-0.520718</td>\n",
       "      <td>0.184271</td>\n",
       "    </tr>\n",
       "  </tbody>\n",
       "</table>\n",
       "</div>"
      ],
      "text/plain": [
       "                      0            1\n",
       "Intercept  -2572.172408  8372.802821\n",
       "x1          -209.452591    64.634468\n",
       "x2           -88.119858   102.509170\n",
       "x1:x2         -0.128431     0.769792\n",
       "pow(x1, 2)    -0.664144     1.138967\n",
       "pow(x2, 2)    -0.520718     0.184271"
      ]
     },
     "execution_count": 107,
     "metadata": {},
     "output_type": "execute_result"
    }
   ],
   "source": [
    "results.conf_int()"
   ]
  },
  {
   "cell_type": "code",
   "execution_count": 108,
   "metadata": {},
   "outputs": [
    {
     "data": {
      "text/plain": [
       "array([[0., 1., 0., 0., 0., 0.],\n",
       "       [0., 0., 1., 0., 0., 0.],\n",
       "       [0., 0., 0., 1., 0., 0.],\n",
       "       [0., 0., 0., 0., 1., 0.],\n",
       "       [0., 0., 0., 0., 0., 1.]])"
      ]
     },
     "execution_count": 108,
     "metadata": {},
     "output_type": "execute_result"
    }
   ],
   "source": [
    "np.eye(p)[1:,:]"
   ]
  },
  {
   "cell_type": "code",
   "execution_count": 109,
   "metadata": {},
   "outputs": [
    {
     "data": {
      "text/plain": [
       "<class 'statsmodels.stats.contrast.ContrastResults'>\n",
       "<F test: F=array([[8.58257471]]), p=0.010483181925578672, df_denom=6, df_num=5>"
      ]
     },
     "execution_count": 109,
     "metadata": {},
     "output_type": "execute_result"
    }
   ],
   "source": [
    "results.f_test(np.eye(p)[1:,:])"
   ]
  },
  {
   "cell_type": "code",
   "execution_count": 110,
   "metadata": {},
   "outputs": [
    {
     "data": {
      "text/plain": [
       "8.582574714719208"
      ]
     },
     "execution_count": 110,
     "metadata": {},
     "output_type": "execute_result"
    }
   ],
   "source": [
    "results.fvalue"
   ]
  },
  {
   "cell_type": "code",
   "execution_count": 111,
   "metadata": {},
   "outputs": [
    {
     "data": {
      "text/plain": [
       "array([[0., 0., 0., 0., 0., 0.],\n",
       "       [0., 0., 1., 0., 0., 0.],\n",
       "       [0., 0., 0., 1., 0., 0.],\n",
       "       [0., 0., 0., 0., 1., 0.],\n",
       "       [0., 0., 0., 0., 0., 1.]])"
      ]
     },
     "execution_count": 111,
     "metadata": {},
     "output_type": "execute_result"
    }
   ],
   "source": [
    "A = np.eye(p)[1:,:]\n",
    "A[0,1] = 0\n",
    "A"
   ]
  },
  {
   "cell_type": "code",
   "execution_count": 112,
   "metadata": {},
   "outputs": [
    {
     "name": "stderr",
     "output_type": "stream",
     "text": [
      "C:\\ProgramData\\Anaconda3\\lib\\site-packages\\statsmodels\\base\\model.py:1832: ValueWarning: covariance of constraints does not have full rank. The number of constraints is 5, but rank is 4\n",
      "  warnings.warn('covariance of constraints does not have full '\n"
     ]
    },
    {
     "data": {
      "text/plain": [
       "<class 'statsmodels.stats.contrast.ContrastResults'>\n",
       "<F test: F=array([[6.87754482]]), p=0.019877288916839885, df_denom=6, df_num=4>"
      ]
     },
     "execution_count": 112,
     "metadata": {},
     "output_type": "execute_result"
    }
   ],
   "source": [
    "results.f_test(A)"
   ]
  },
  {
   "cell_type": "code",
   "execution_count": 113,
   "metadata": {},
   "outputs": [
    {
     "data": {
      "text/html": [
       "<div>\n",
       "<style scoped>\n",
       "    .dataframe tbody tr th:only-of-type {\n",
       "        vertical-align: middle;\n",
       "    }\n",
       "\n",
       "    .dataframe tbody tr th {\n",
       "        vertical-align: top;\n",
       "    }\n",
       "\n",
       "    .dataframe thead th {\n",
       "        text-align: right;\n",
       "    }\n",
       "</style>\n",
       "<table border=\"1\" class=\"dataframe\">\n",
       "  <thead>\n",
       "    <tr style=\"text-align: right;\">\n",
       "      <th></th>\n",
       "      <th>dfb_Intercept</th>\n",
       "      <th>dfb_x1</th>\n",
       "      <th>dfb_x2</th>\n",
       "      <th>dfb_x1:x2</th>\n",
       "      <th>dfb_pow(x1, 2)</th>\n",
       "      <th>dfb_pow(x2, 2)</th>\n",
       "      <th>cooks_d</th>\n",
       "      <th>standard_resid</th>\n",
       "      <th>hat_diag</th>\n",
       "      <th>dffits_internal</th>\n",
       "      <th>student_resid</th>\n",
       "      <th>dffits</th>\n",
       "    </tr>\n",
       "  </thead>\n",
       "  <tbody>\n",
       "    <tr>\n",
       "      <th>0</th>\n",
       "      <td>0.205762</td>\n",
       "      <td>-0.183751</td>\n",
       "      <td>0.003405</td>\n",
       "      <td>-0.135178</td>\n",
       "      <td>0.191315</td>\n",
       "      <td>0.072029</td>\n",
       "      <td>0.022576</td>\n",
       "      <td>-0.684659</td>\n",
       "      <td>0.224183</td>\n",
       "      <td>-0.368041</td>\n",
       "      <td>-0.650950</td>\n",
       "      <td>-0.349921</td>\n",
       "    </tr>\n",
       "    <tr>\n",
       "      <th>1</th>\n",
       "      <td>-0.606396</td>\n",
       "      <td>0.613213</td>\n",
       "      <td>-0.102991</td>\n",
       "      <td>1.633281</td>\n",
       "      <td>-0.983955</td>\n",
       "      <td>-0.758866</td>\n",
       "      <td>1.027109</td>\n",
       "      <td>-1.802657</td>\n",
       "      <td>0.654750</td>\n",
       "      <td>-2.482470</td>\n",
       "      <td>-2.430514</td>\n",
       "      <td>-3.347101</td>\n",
       "    </tr>\n",
       "    <tr>\n",
       "      <th>2</th>\n",
       "      <td>-0.051503</td>\n",
       "      <td>0.382190</td>\n",
       "      <td>-0.425239</td>\n",
       "      <td>-0.533044</td>\n",
       "      <td>-0.181327</td>\n",
       "      <td>0.878687</td>\n",
       "      <td>0.590416</td>\n",
       "      <td>0.718253</td>\n",
       "      <td>0.872883</td>\n",
       "      <td>1.882152</td>\n",
       "      <td>0.685819</td>\n",
       "      <td>1.797159</td>\n",
       "    </tr>\n",
       "    <tr>\n",
       "      <th>3</th>\n",
       "      <td>-0.046100</td>\n",
       "      <td>0.389150</td>\n",
       "      <td>-0.437524</td>\n",
       "      <td>0.298051</td>\n",
       "      <td>-0.411366</td>\n",
       "      <td>0.404173</td>\n",
       "      <td>0.064816</td>\n",
       "      <td>0.568403</td>\n",
       "      <td>0.546220</td>\n",
       "      <td>0.623617</td>\n",
       "      <td>0.533440</td>\n",
       "      <td>0.585257</td>\n",
       "    </tr>\n",
       "    <tr>\n",
       "      <th>4</th>\n",
       "      <td>-0.482827</td>\n",
       "      <td>0.751054</td>\n",
       "      <td>-0.423191</td>\n",
       "      <td>0.280102</td>\n",
       "      <td>-0.703674</td>\n",
       "      <td>0.402697</td>\n",
       "      <td>0.175580</td>\n",
       "      <td>-0.936273</td>\n",
       "      <td>0.545820</td>\n",
       "      <td>-1.026392</td>\n",
       "      <td>-0.924929</td>\n",
       "      <td>-1.013956</td>\n",
       "    </tr>\n",
       "    <tr>\n",
       "      <th>5</th>\n",
       "      <td>-6.470928</td>\n",
       "      <td>3.192810</td>\n",
       "      <td>3.398374</td>\n",
       "      <td>-5.974262</td>\n",
       "      <td>-1.087833</td>\n",
       "      <td>-1.210764</td>\n",
       "      <td>31.428349</td>\n",
       "      <td>-1.500925</td>\n",
       "      <td>0.988194</td>\n",
       "      <td>-13.732083</td>\n",
       "      <td>-1.733761</td>\n",
       "      <td>-15.862317</td>\n",
       "    </tr>\n",
       "    <tr>\n",
       "      <th>6</th>\n",
       "      <td>-0.310068</td>\n",
       "      <td>-1.346602</td>\n",
       "      <td>2.028332</td>\n",
       "      <td>-1.795681</td>\n",
       "      <td>1.660234</td>\n",
       "      <td>-1.670813</td>\n",
       "      <td>0.675084</td>\n",
       "      <td>1.927693</td>\n",
       "      <td>0.521535</td>\n",
       "      <td>2.012586</td>\n",
       "      <td>2.852165</td>\n",
       "      <td>2.977771</td>\n",
       "    </tr>\n",
       "    <tr>\n",
       "      <th>7</th>\n",
       "      <td>-0.314892</td>\n",
       "      <td>0.281207</td>\n",
       "      <td>-0.005211</td>\n",
       "      <td>0.206872</td>\n",
       "      <td>-0.292783</td>\n",
       "      <td>-0.110231</td>\n",
       "      <td>0.047855</td>\n",
       "      <td>0.996826</td>\n",
       "      <td>0.224183</td>\n",
       "      <td>0.535847</td>\n",
       "      <td>0.996195</td>\n",
       "      <td>0.535508</td>\n",
       "    </tr>\n",
       "    <tr>\n",
       "      <th>8</th>\n",
       "      <td>-0.065388</td>\n",
       "      <td>-0.033526</td>\n",
       "      <td>0.115178</td>\n",
       "      <td>-0.090585</td>\n",
       "      <td>0.053275</td>\n",
       "      <td>-0.098937</td>\n",
       "      <td>0.007615</td>\n",
       "      <td>0.337141</td>\n",
       "      <td>0.286709</td>\n",
       "      <td>0.213746</td>\n",
       "      <td>0.310723</td>\n",
       "      <td>0.196998</td>\n",
       "    </tr>\n",
       "    <tr>\n",
       "      <th>9</th>\n",
       "      <td>1.024258</td>\n",
       "      <td>-0.391979</td>\n",
       "      <td>-0.622500</td>\n",
       "      <td>0.541053</td>\n",
       "      <td>0.164512</td>\n",
       "      <td>0.503402</td>\n",
       "      <td>0.353632</td>\n",
       "      <td>1.025981</td>\n",
       "      <td>0.668401</td>\n",
       "      <td>1.456637</td>\n",
       "      <td>1.031425</td>\n",
       "      <td>1.464365</td>\n",
       "    </tr>\n",
       "    <tr>\n",
       "      <th>10</th>\n",
       "      <td>0.302920</td>\n",
       "      <td>-0.270516</td>\n",
       "      <td>0.005012</td>\n",
       "      <td>-0.199007</td>\n",
       "      <td>0.281652</td>\n",
       "      <td>0.106040</td>\n",
       "      <td>0.044840</td>\n",
       "      <td>-0.964906</td>\n",
       "      <td>0.224183</td>\n",
       "      <td>-0.518689</td>\n",
       "      <td>-0.958321</td>\n",
       "      <td>-0.515149</td>\n",
       "    </tr>\n",
       "    <tr>\n",
       "      <th>11</th>\n",
       "      <td>0.154338</td>\n",
       "      <td>-0.049613</td>\n",
       "      <td>-0.108247</td>\n",
       "      <td>0.022625</td>\n",
       "      <td>0.034950</td>\n",
       "      <td>0.127841</td>\n",
       "      <td>0.012446</td>\n",
       "      <td>-0.482393</td>\n",
       "      <td>0.242938</td>\n",
       "      <td>-0.273264</td>\n",
       "      <td>-0.449158</td>\n",
       "      <td>-0.254438</td>\n",
       "    </tr>\n",
       "  </tbody>\n",
       "</table>\n",
       "</div>"
      ],
      "text/plain": [
       "    dfb_Intercept    dfb_x1    dfb_x2  dfb_x1:x2  dfb_pow(x1, 2)  \\\n",
       "0        0.205762 -0.183751  0.003405  -0.135178        0.191315   \n",
       "1       -0.606396  0.613213 -0.102991   1.633281       -0.983955   \n",
       "2       -0.051503  0.382190 -0.425239  -0.533044       -0.181327   \n",
       "3       -0.046100  0.389150 -0.437524   0.298051       -0.411366   \n",
       "4       -0.482827  0.751054 -0.423191   0.280102       -0.703674   \n",
       "5       -6.470928  3.192810  3.398374  -5.974262       -1.087833   \n",
       "6       -0.310068 -1.346602  2.028332  -1.795681        1.660234   \n",
       "7       -0.314892  0.281207 -0.005211   0.206872       -0.292783   \n",
       "8       -0.065388 -0.033526  0.115178  -0.090585        0.053275   \n",
       "9        1.024258 -0.391979 -0.622500   0.541053        0.164512   \n",
       "10       0.302920 -0.270516  0.005012  -0.199007        0.281652   \n",
       "11       0.154338 -0.049613 -0.108247   0.022625        0.034950   \n",
       "\n",
       "    dfb_pow(x2, 2)    cooks_d  standard_resid  hat_diag  dffits_internal  \\\n",
       "0         0.072029   0.022576       -0.684659  0.224183        -0.368041   \n",
       "1        -0.758866   1.027109       -1.802657  0.654750        -2.482470   \n",
       "2         0.878687   0.590416        0.718253  0.872883         1.882152   \n",
       "3         0.404173   0.064816        0.568403  0.546220         0.623617   \n",
       "4         0.402697   0.175580       -0.936273  0.545820        -1.026392   \n",
       "5        -1.210764  31.428349       -1.500925  0.988194       -13.732083   \n",
       "6        -1.670813   0.675084        1.927693  0.521535         2.012586   \n",
       "7        -0.110231   0.047855        0.996826  0.224183         0.535847   \n",
       "8        -0.098937   0.007615        0.337141  0.286709         0.213746   \n",
       "9         0.503402   0.353632        1.025981  0.668401         1.456637   \n",
       "10        0.106040   0.044840       -0.964906  0.224183        -0.518689   \n",
       "11        0.127841   0.012446       -0.482393  0.242938        -0.273264   \n",
       "\n",
       "    student_resid     dffits  \n",
       "0       -0.650950  -0.349921  \n",
       "1       -2.430514  -3.347101  \n",
       "2        0.685819   1.797159  \n",
       "3        0.533440   0.585257  \n",
       "4       -0.924929  -1.013956  \n",
       "5       -1.733761 -15.862317  \n",
       "6        2.852165   2.977771  \n",
       "7        0.996195   0.535508  \n",
       "8        0.310723   0.196998  \n",
       "9        1.031425   1.464365  \n",
       "10      -0.958321  -0.515149  \n",
       "11      -0.449158  -0.254438  "
      ]
     },
     "execution_count": 113,
     "metadata": {},
     "output_type": "execute_result"
    }
   ],
   "source": [
    "influence = results.get_influence()\n",
    "influence.summary_frame()"
   ]
  },
  {
   "cell_type": "code",
   "execution_count": 114,
   "metadata": {},
   "outputs": [
    {
     "data": {
      "image/png": "[encoded data removed]",
      "text/plain": [
       "<Figure size 432x288 with 1 Axes>"
      ]
     },
     "execution_count": 114,
     "metadata": {},
     "output_type": "execute_result"
    },
    {
     "data": {
      "image/png": "[encoded data removed]",
      "text/plain": [
       "<Figure size 432x288 with 1 Axes>"
      ]
     },
     "metadata": {
      "needs_background": "light"
     },
     "output_type": "display_data"
    }
   ],
   "source": [
    "influence.plot_influence()"
   ]
  },
  {
   "cell_type": "code",
   "execution_count": 115,
   "metadata": {},
   "outputs": [
    {
     "data": {
      "image/png": "[encoded data removed]",
      "text/plain": [
       "<Figure size 432x288 with 1 Axes>"
      ]
     },
     "execution_count": 115,
     "metadata": {},
     "output_type": "execute_result"
    },
    {
     "data": {
      "image/png": "[encoded data removed]",
      "text/plain": [
       "<Figure size 432x288 with 1 Axes>"
      ]
     },
     "metadata": {
      "needs_background": "light"
     },
     "output_type": "display_data"
    }
   ],
   "source": [
    "influence.plot_index()"
   ]
  },
  {
   "cell_type": "code",
   "execution_count": 116,
   "metadata": {},
   "outputs": [
    {
     "data": {
      "text/plain": [
       "[<matplotlib.lines.Line2D at 0x17f5b4cbac0>]"
      ]
     },
     "execution_count": 116,
     "metadata": {},
     "output_type": "execute_result"
    },
    {
     "data": {
      "image/png": "[encoded data removed]",
      "text/plain": [
       "<Figure size 432x288 with 1 Axes>"
      ]
     },
     "metadata": {
      "needs_background": "light"
     },
     "output_type": "display_data"
    }
   ],
   "source": [
    "plt.plot(studentized_residuals,'d')\n",
    "plt.plot(influence.get_resid_studentized_external(),'x')"
   ]
  },
  {
   "cell_type": "code",
   "execution_count": 117,
   "metadata": {},
   "outputs": [
    {
     "data": {
      "text/plain": [
       "14536.179534466113"
      ]
     },
     "execution_count": 117,
     "metadata": {},
     "output_type": "execute_result"
    }
   ],
   "source": [
    "press"
   ]
  },
  {
   "cell_type": "code",
   "execution_count": 118,
   "metadata": {},
   "outputs": [
    {
     "data": {
      "text/plain": [
       "14536.178348413738"
      ]
     },
     "execution_count": 118,
     "metadata": {},
     "output_type": "execute_result"
    }
   ],
   "source": [
    "(influence.resid_press**2).sum()"
   ]
  },
  {
   "cell_type": "code",
   "execution_count": 119,
   "metadata": {},
   "outputs": [
    {
     "data": {
      "text/plain": [
       "array([  -1.41190535,  -16.27534534,   14.24758621,    3.73431039,\n",
       "         -6.14393316, -110.60281182,   11.77618861,    2.05565738,\n",
       "          0.92731713,    9.64890993,   -1.98983247,   -1.09128924])"
      ]
     },
     "execution_count": 119,
     "metadata": {},
     "output_type": "execute_result"
    }
   ],
   "source": [
    "influence.influence"
   ]
  },
  {
   "cell_type": "code",
   "execution_count": 120,
   "metadata": {},
   "outputs": [
    {
     "data": {
      "text/plain": [
       "array([  -6.29800706,  -24.85734766,   16.3224392 ,    6.83663971,\n",
       "        -11.25633428, -111.92414258,   22.57986208,    9.16955566,\n",
       "          3.23434697,   14.43581475,   -8.87593419,   -4.49204034])"
      ]
     },
     "execution_count": 120,
     "metadata": {},
     "output_type": "execute_result"
    }
   ],
   "source": [
    "influence.resid_press"
   ]
  },
  {
   "cell_type": "code",
   "execution_count": null,
   "metadata": {},
   "outputs": [],
   "source": []
  },
  {
   "cell_type": "code",
   "execution_count": null,
   "metadata": {},
   "outputs": [],
   "source": []
  }
 ],
 "metadata": {
  "kernelspec": {
   "display_name": "Python 3",
   "language": "python",
   "name": "python3"
  },
  "language_info": {
   "codemirror_mode": {
    "name": "ipython",
    "version": 3
   },
   "file_extension": ".py",
   "mimetype": "text/x-python",
   "name": "python",
   "nbconvert_exporter": "python",
   "pygments_lexer": "ipython3",
   "version": "3.8.5"
  }
 },
 "nbformat": 4,
 "nbformat_minor": 2
}
