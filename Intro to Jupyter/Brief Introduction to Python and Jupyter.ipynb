{
 "cells": [
  {
   "cell_type": "markdown",
   "metadata": {},
   "source": [
    "# <center>Introduction to Python and Jupyter\n",
    "## <center> <img src=\"https://www.engr.colostate.edu/~jdaily/Systems-EN-CSU-1-C357.svg\" width=\"400\" /> \n",
    "### <center> Instructor: Dr. Jeremy Daily"
   ]
  },
  {
   "cell_type": "markdown",
   "metadata": {},
   "source": [
    "# Introduction\n",
    "To work with data we need to establish some skills and proficiency with modern tools. Techniques often make use of Python and the associated scientific and statistical libraries. This notebook gives some examples of how to use Python and Jupyter notebooks. \n",
    "\n",
    "For an interesting discussion on why we are using Jupyter Notebooks, read this article:\n",
    "\n",
    "https://www.theatlantic.com/science/archive/2018/04/the-scientific-paper-is-obsolete/556676/\n",
    "\n",
    "One of the great advantages of using Jupyter Notebooks is the ability to perform real-time calulations and coding along with the presentation of the theory and mathematics. The goal is for each student to have have an interactive experience with the lecture content and analysis tools. By the end of the course, students should have the theoretical background to design and analyze experiments as well as a tool box full of practical examples to apply to research and other scientific activities. \n"
   ]
  },
  {
   "cell_type": "markdown",
   "metadata": {},
   "source": [
    "## Markdown\n",
    "Jupyter supports writing text inline with markdown. Press `ESC` then `m` then `ENTER` to go into markdown mode. (Also in the menu.) \n",
    "\n",
    "### Typesetting Mathematics\n",
    "\n",
    "You can also write out equations using LaTeX. For example, in markdown mode:\n",
    "```\n",
    "$$x_{1,2}=\\frac{-b\\pm\\sqrt{b^2-4ac}}{2a}$$\n",
    "``` \n",
    "produces $$x_{1,2}=\\frac{-b\\pm\\sqrt{b^2-4ac}}{2a}$$ using the LaTeX typesetting engine.\n"
   ]
  },
  {
   "cell_type": "markdown",
   "metadata": {},
   "source": [
    "Greek letters also work:\n",
    "```\n",
    "$$y(t) = A\\cos(\\omega t + \\phi)$$\n",
    "```\n",
    "$$y(t) = A\\cos(\\omega t + \\phi)$$"
   ]
  },
  {
   "cell_type": "markdown",
   "metadata": {},
   "source": [
    "Integrals can include limits:\n",
    "```\n",
    "$$\\int_0^t \\vec{F}(\\tau) d\\tau = m\\Delta v(t)$$\n",
    "```\n",
    "$$\\int_0^t \\vec{F}(\\tau) d\\tau = m\\Delta v(t)$$"
   ]
  },
  {
   "cell_type": "markdown",
   "metadata": {},
   "source": [
    "The $\\LaTeX$ engine is quite powerful. There are many on-line resources or books available to explore the art and process of typesetting beautiful scientific papers. For example:\n",
    "\n",
    "https://www.latex-tutorial.com/tutorials/amsmath/\n",
    "\n",
    "Also, if $\\LaTeX$ is interesting to you, consider using LyX to ease the pain of working in a text editor. \n",
    "\n",
    "https://www.lyx.org/\n",
    "\n",
    "We will present formula througout the course using the $\\LaTeX$ typesetting features of Jupyter.\n",
    "\n",
    "Overleaf has also become quite popular for collaborating online in $\\LaTeX$. There are quite a few theses and dissertations written on Overleaf now.\n",
    "\n",
    "https://www.overleaf.com"
   ]
  },
  {
   "cell_type": "markdown",
   "metadata": {},
   "source": [
    "## Python as a Calculator\n",
    "\n",
    "Python is a high-level interpreted programming language. \n",
    "\n",
    "Enter an expression an then press Shift + Enter"
   ]
  },
  {
   "cell_type": "code",
   "execution_count": 1,
   "metadata": {},
   "outputs": [],
   "source": [
    "# Assign variables\n",
    "a = 3\n",
    "b = 10"
   ]
  },
  {
   "cell_type": "code",
   "execution_count": 2,
   "metadata": {},
   "outputs": [
    {
     "data": {
      "text/plain": [
       "13"
      ]
     },
     "execution_count": 2,
     "metadata": {},
     "output_type": "execute_result"
    }
   ],
   "source": [
    "#addition\n",
    "a + b"
   ]
  },
  {
   "cell_type": "code",
   "execution_count": 3,
   "metadata": {},
   "outputs": [
    {
     "data": {
      "text/plain": [
       "-7"
      ]
     },
     "execution_count": 3,
     "metadata": {},
     "output_type": "execute_result"
    }
   ],
   "source": [
    "#subtraction\n",
    "a - b"
   ]
  },
  {
   "cell_type": "code",
   "execution_count": 4,
   "metadata": {},
   "outputs": [
    {
     "data": {
      "text/plain": [
       "30"
      ]
     },
     "execution_count": 4,
     "metadata": {},
     "output_type": "execute_result"
    }
   ],
   "source": [
    "#Multiplication\n",
    "a*b"
   ]
  },
  {
   "cell_type": "code",
   "execution_count": 5,
   "metadata": {},
   "outputs": [
    {
     "data": {
      "text/plain": [
       "3.3333333333333335"
      ]
     },
     "execution_count": 5,
     "metadata": {},
     "output_type": "execute_result"
    }
   ],
   "source": [
    "#Floating point division\n",
    "b/a "
   ]
  },
  {
   "cell_type": "code",
   "execution_count": 6,
   "metadata": {},
   "outputs": [
    {
     "data": {
      "text/plain": [
       "3"
      ]
     },
     "execution_count": 6,
     "metadata": {},
     "output_type": "execute_result"
    }
   ],
   "source": [
    "#Integer Division\n",
    "b//a"
   ]
  },
  {
   "cell_type": "code",
   "execution_count": 7,
   "metadata": {},
   "outputs": [
    {
     "data": {
      "text/plain": [
       "1"
      ]
     },
     "execution_count": 7,
     "metadata": {},
     "output_type": "execute_result"
    }
   ],
   "source": [
    "# Determine the Modulus\n",
    "b % a "
   ]
  },
  {
   "cell_type": "code",
   "execution_count": 8,
   "metadata": {},
   "outputs": [
    {
     "data": {
      "text/plain": [
       "(3, 1)"
      ]
     },
     "execution_count": 8,
     "metadata": {},
     "output_type": "execute_result"
    }
   ],
   "source": [
    "#Modular math\n",
    "divmod(b,a)"
   ]
  },
  {
   "cell_type": "code",
   "execution_count": null,
   "metadata": {},
   "outputs": [],
   "source": [
    "#Exponentiation\n",
    "b**a"
   ]
  },
  {
   "cell_type": "code",
   "execution_count": 9,
   "metadata": {},
   "outputs": [
    {
     "data": {
      "text/plain": [
       "1000"
      ]
     },
     "execution_count": 9,
     "metadata": {},
     "output_type": "execute_result"
    }
   ],
   "source": [
    "#Exponentiation\n",
    "pow(b,a)"
   ]
  },
  {
   "cell_type": "code",
   "execution_count": 10,
   "metadata": {},
   "outputs": [
    {
     "data": {
      "text/plain": [
       "59049"
      ]
     },
     "execution_count": 10,
     "metadata": {},
     "output_type": "execute_result"
    }
   ],
   "source": [
    "pow(a,b)"
   ]
  },
  {
   "cell_type": "code",
   "execution_count": 11,
   "metadata": {},
   "outputs": [
    {
     "name": "stdout",
     "output_type": "stream",
     "text": [
      "Help on built-in function pow in module builtins:\n",
      "\n",
      "pow(x, y, z=None, /)\n",
      "    Equivalent to x**y (with two arguments) or x**y % z (with three arguments)\n",
      "    \n",
      "    Some types, such as ints, are able to use a more efficient algorithm when\n",
      "    invoked using the three argument form.\n",
      "\n"
     ]
    }
   ],
   "source": [
    "# Lookup the format for pow()\n",
    "help(pow)"
   ]
  },
  {
   "cell_type": "code",
   "execution_count": 12,
   "metadata": {},
   "outputs": [
    {
     "ename": "NameError",
     "evalue": "name 'sqrt' is not defined",
     "output_type": "error",
     "traceback": [
      "\u001b[1;31m---------------------------------------------------------------------------\u001b[0m",
      "\u001b[1;31mNameError\u001b[0m                                 Traceback (most recent call last)",
      "\u001b[1;32m<ipython-input-12-2b896aeaaf10>\u001b[0m in \u001b[0;36m<module>\u001b[1;34m\u001b[0m\n\u001b[0;32m      1\u001b[0m \u001b[1;31m#This seems like it would work, but it's not part of native Python\u001b[0m\u001b[1;33m\u001b[0m\u001b[1;33m\u001b[0m\u001b[1;33m\u001b[0m\u001b[0m\n\u001b[1;32m----> 2\u001b[1;33m \u001b[0msqrt\u001b[0m\u001b[1;33m(\u001b[0m\u001b[0mb\u001b[0m\u001b[1;33m)\u001b[0m\u001b[1;33m\u001b[0m\u001b[1;33m\u001b[0m\u001b[0m\n\u001b[0m",
      "\u001b[1;31mNameError\u001b[0m: name 'sqrt' is not defined"
     ]
    }
   ],
   "source": [
    "#This seems like it would work, but it's not part of native Python\n",
    "sqrt(b) "
   ]
  },
  {
   "cell_type": "markdown",
   "metadata": {},
   "source": [
    "### Troubleshooting\n",
    "Being able to read tracebacks is a core skill when working with computers and Python. The previous example raised an exception regarding the name of sqrt. It wasn't recongnized. However, it should be, since that's an expected capability. To use the square root function, we have to import it from the math library."
   ]
  },
  {
   "cell_type": "code",
   "execution_count": 13,
   "metadata": {},
   "outputs": [],
   "source": [
    "# We have to import the math library\n",
    "from math import sqrt"
   ]
  },
  {
   "cell_type": "code",
   "execution_count": 14,
   "metadata": {},
   "outputs": [
    {
     "data": {
      "text/plain": [
       "3.1622776601683795"
      ]
     },
     "execution_count": 14,
     "metadata": {},
     "output_type": "execute_result"
    }
   ],
   "source": [
    "# With the sqrt function imported, we should be able to perform the calculation\n",
    "sqrt(b)"
   ]
  },
  {
   "cell_type": "code",
   "execution_count": 15,
   "metadata": {},
   "outputs": [],
   "source": [
    "# If we need all math functions, import them all\n",
    "from math import *"
   ]
  },
  {
   "cell_type": "code",
   "execution_count": 16,
   "metadata": {},
   "outputs": [
    {
     "data": {
      "text/plain": [
       "1.7320508075688772"
      ]
     },
     "execution_count": 16,
     "metadata": {},
     "output_type": "execute_result"
    }
   ],
   "source": [
    "# The math library includes functions and constants\n",
    "sqrt(a*cos(pi*b))"
   ]
  },
  {
   "cell_type": "code",
   "execution_count": 18,
   "metadata": {},
   "outputs": [
    {
     "data": {
      "text/plain": [
       "1j"
      ]
     },
     "execution_count": 18,
     "metadata": {},
     "output_type": "execute_result"
    }
   ],
   "source": [
    "# Python can handle complex numbers too.\n",
    "i = 1j\n",
    "i"
   ]
  },
  {
   "cell_type": "code",
   "execution_count": 19,
   "metadata": {},
   "outputs": [
    {
     "data": {
      "text/plain": [
       "2.718281828459045"
      ]
     },
     "execution_count": 19,
     "metadata": {},
     "output_type": "execute_result"
    }
   ],
   "source": [
    "#Euler's number\n",
    "e"
   ]
  },
  {
   "cell_type": "code",
   "execution_count": 20,
   "metadata": {},
   "outputs": [
    {
     "data": {
      "text/plain": [
       "1.2246467991473532e-16j"
      ]
     },
     "execution_count": 20,
     "metadata": {},
     "output_type": "execute_result"
    }
   ],
   "source": [
    "#Euler's identity \n",
    "e**(i*pi) + 1"
   ]
  },
  {
   "cell_type": "markdown",
   "metadata": {},
   "source": [
    "The result above should be zero.\n",
    "\n",
    "https://en.wikipedia.org/wiki/Euler%27s_identity"
   ]
  },
  {
   "cell_type": "code",
   "execution_count": 21,
   "metadata": {},
   "outputs": [
    {
     "data": {
      "text/plain": [
       "['__doc__',\n",
       " '__loader__',\n",
       " '__name__',\n",
       " '__package__',\n",
       " '__spec__',\n",
       " 'acos',\n",
       " 'acosh',\n",
       " 'asin',\n",
       " 'asinh',\n",
       " 'atan',\n",
       " 'atan2',\n",
       " 'atanh',\n",
       " 'ceil',\n",
       " 'copysign',\n",
       " 'cos',\n",
       " 'cosh',\n",
       " 'degrees',\n",
       " 'e',\n",
       " 'erf',\n",
       " 'erfc',\n",
       " 'exp',\n",
       " 'expm1',\n",
       " 'fabs',\n",
       " 'factorial',\n",
       " 'floor',\n",
       " 'fmod',\n",
       " 'frexp',\n",
       " 'fsum',\n",
       " 'gamma',\n",
       " 'gcd',\n",
       " 'hypot',\n",
       " 'inf',\n",
       " 'isclose',\n",
       " 'isfinite',\n",
       " 'isinf',\n",
       " 'isnan',\n",
       " 'ldexp',\n",
       " 'lgamma',\n",
       " 'log',\n",
       " 'log10',\n",
       " 'log1p',\n",
       " 'log2',\n",
       " 'modf',\n",
       " 'nan',\n",
       " 'pi',\n",
       " 'pow',\n",
       " 'radians',\n",
       " 'remainder',\n",
       " 'sin',\n",
       " 'sinh',\n",
       " 'sqrt',\n",
       " 'tan',\n",
       " 'tanh',\n",
       " 'tau',\n",
       " 'trunc']"
      ]
     },
     "execution_count": 21,
     "metadata": {},
     "output_type": "execute_result"
    }
   ],
   "source": [
    "#Let's look at all of the math functions\n",
    "import math\n",
    "dir(math)"
   ]
  },
  {
   "cell_type": "code",
   "execution_count": 22,
   "metadata": {},
   "outputs": [
    {
     "name": "stdout",
     "output_type": "stream",
     "text": [
      "Help on built-in function atan2 in module math:\n",
      "\n",
      "atan2(y, x, /)\n",
      "    Return the arc tangent (measured in radians) of y/x.\n",
      "    \n",
      "    Unlike atan(y/x), the signs of both x and y are considered.\n",
      "\n"
     ]
    }
   ],
   "source": [
    "#How to use a help function\n",
    "help(atan2)"
   ]
  },
  {
   "cell_type": "code",
   "execution_count": 23,
   "metadata": {},
   "outputs": [
    {
     "name": "stdout",
     "output_type": "stream",
     "text": [
      "Help on built-in module math:\n",
      "\n",
      "NAME\n",
      "    math\n",
      "\n",
      "DESCRIPTION\n",
      "    This module provides access to the mathematical functions\n",
      "    defined by the C standard.\n",
      "\n",
      "FUNCTIONS\n",
      "    acos(x, /)\n",
      "        Return the arc cosine (measured in radians) of x.\n",
      "    \n",
      "    acosh(x, /)\n",
      "        Return the inverse hyperbolic cosine of x.\n",
      "    \n",
      "    asin(x, /)\n",
      "        Return the arc sine (measured in radians) of x.\n",
      "    \n",
      "    asinh(x, /)\n",
      "        Return the inverse hyperbolic sine of x.\n",
      "    \n",
      "    atan(x, /)\n",
      "        Return the arc tangent (measured in radians) of x.\n",
      "    \n",
      "    atan2(y, x, /)\n",
      "        Return the arc tangent (measured in radians) of y/x.\n",
      "        \n",
      "        Unlike atan(y/x), the signs of both x and y are considered.\n",
      "    \n",
      "    atanh(x, /)\n",
      "        Return the inverse hyperbolic tangent of x.\n",
      "    \n",
      "    ceil(x, /)\n",
      "        Return the ceiling of x as an Integral.\n",
      "        \n",
      "        This is the smallest integer >= x.\n",
      "    \n",
      "    copysign(x, y, /)\n",
      "        Return a float with the magnitude (absolute value) of x but the sign of y.\n",
      "        \n",
      "        On platforms that support signed zeros, copysign(1.0, -0.0)\n",
      "        returns -1.0.\n",
      "    \n",
      "    cos(x, /)\n",
      "        Return the cosine of x (measured in radians).\n",
      "    \n",
      "    cosh(x, /)\n",
      "        Return the hyperbolic cosine of x.\n",
      "    \n",
      "    degrees(x, /)\n",
      "        Convert angle x from radians to degrees.\n",
      "    \n",
      "    erf(x, /)\n",
      "        Error function at x.\n",
      "    \n",
      "    erfc(x, /)\n",
      "        Complementary error function at x.\n",
      "    \n",
      "    exp(x, /)\n",
      "        Return e raised to the power of x.\n",
      "    \n",
      "    expm1(x, /)\n",
      "        Return exp(x)-1.\n",
      "        \n",
      "        This function avoids the loss of precision involved in the direct evaluation of exp(x)-1 for small x.\n",
      "    \n",
      "    fabs(x, /)\n",
      "        Return the absolute value of the float x.\n",
      "    \n",
      "    factorial(x, /)\n",
      "        Find x!.\n",
      "        \n",
      "        Raise a ValueError if x is negative or non-integral.\n",
      "    \n",
      "    floor(x, /)\n",
      "        Return the floor of x as an Integral.\n",
      "        \n",
      "        This is the largest integer <= x.\n",
      "    \n",
      "    fmod(x, y, /)\n",
      "        Return fmod(x, y), according to platform C.\n",
      "        \n",
      "        x % y may differ.\n",
      "    \n",
      "    frexp(x, /)\n",
      "        Return the mantissa and exponent of x, as pair (m, e).\n",
      "        \n",
      "        m is a float and e is an int, such that x = m * 2.**e.\n",
      "        If x is 0, m and e are both 0.  Else 0.5 <= abs(m) < 1.0.\n",
      "    \n",
      "    fsum(seq, /)\n",
      "        Return an accurate floating point sum of values in the iterable seq.\n",
      "        \n",
      "        Assumes IEEE-754 floating point arithmetic.\n",
      "    \n",
      "    gamma(x, /)\n",
      "        Gamma function at x.\n",
      "    \n",
      "    gcd(x, y, /)\n",
      "        greatest common divisor of x and y\n",
      "    \n",
      "    hypot(x, y, /)\n",
      "        Return the Euclidean distance, sqrt(x*x + y*y).\n",
      "    \n",
      "    isclose(a, b, *, rel_tol=1e-09, abs_tol=0.0)\n",
      "        Determine whether two floating point numbers are close in value.\n",
      "        \n",
      "          rel_tol\n",
      "            maximum difference for being considered \"close\", relative to the\n",
      "            magnitude of the input values\n",
      "          abs_tol\n",
      "            maximum difference for being considered \"close\", regardless of the\n",
      "            magnitude of the input values\n",
      "        \n",
      "        Return True if a is close in value to b, and False otherwise.\n",
      "        \n",
      "        For the values to be considered close, the difference between them\n",
      "        must be smaller than at least one of the tolerances.\n",
      "        \n",
      "        -inf, inf and NaN behave similarly to the IEEE 754 Standard.  That\n",
      "        is, NaN is not close to anything, even itself.  inf and -inf are\n",
      "        only close to themselves.\n",
      "    \n",
      "    isfinite(x, /)\n",
      "        Return True if x is neither an infinity nor a NaN, and False otherwise.\n",
      "    \n",
      "    isinf(x, /)\n",
      "        Return True if x is a positive or negative infinity, and False otherwise.\n",
      "    \n",
      "    isnan(x, /)\n",
      "        Return True if x is a NaN (not a number), and False otherwise.\n",
      "    \n",
      "    ldexp(x, i, /)\n",
      "        Return x * (2**i).\n",
      "        \n",
      "        This is essentially the inverse of frexp().\n",
      "    \n",
      "    lgamma(x, /)\n",
      "        Natural logarithm of absolute value of Gamma function at x.\n",
      "    \n",
      "    log(...)\n",
      "        log(x, [base=math.e])\n",
      "        Return the logarithm of x to the given base.\n",
      "        \n",
      "        If the base not specified, returns the natural logarithm (base e) of x.\n",
      "    \n",
      "    log10(x, /)\n",
      "        Return the base 10 logarithm of x.\n",
      "    \n",
      "    log1p(x, /)\n",
      "        Return the natural logarithm of 1+x (base e).\n",
      "        \n",
      "        The result is computed in a way which is accurate for x near zero.\n",
      "    \n",
      "    log2(x, /)\n",
      "        Return the base 2 logarithm of x.\n",
      "    \n",
      "    modf(x, /)\n",
      "        Return the fractional and integer parts of x.\n",
      "        \n",
      "        Both results carry the sign of x and are floats.\n",
      "    \n",
      "    pow(x, y, /)\n",
      "        Return x**y (x to the power of y).\n",
      "    \n",
      "    radians(x, /)\n",
      "        Convert angle x from degrees to radians.\n",
      "    \n",
      "    remainder(x, y, /)\n",
      "        Difference between x and the closest integer multiple of y.\n",
      "        \n",
      "        Return x - n*y where n*y is the closest integer multiple of y.\n",
      "        In the case where x is exactly halfway between two multiples of\n",
      "        y, the nearest even value of n is used. The result is always exact.\n",
      "    \n",
      "    sin(x, /)\n",
      "        Return the sine of x (measured in radians).\n",
      "    \n",
      "    sinh(x, /)\n",
      "        Return the hyperbolic sine of x.\n",
      "    \n",
      "    sqrt(x, /)\n",
      "        Return the square root of x.\n",
      "    \n",
      "    tan(x, /)\n",
      "        Return the tangent of x (measured in radians).\n",
      "    \n",
      "    tanh(x, /)\n",
      "        Return the hyperbolic tangent of x.\n",
      "    \n",
      "    trunc(x, /)\n",
      "        Truncates the Real x to the nearest Integral toward 0.\n",
      "        \n",
      "        Uses the __trunc__ magic method.\n",
      "\n",
      "DATA\n",
      "    e = 2.718281828459045\n",
      "    inf = inf\n",
      "    nan = nan\n",
      "    pi = 3.141592653589793\n",
      "    tau = 6.283185307179586\n",
      "\n",
      "FILE\n",
      "    (built-in)\n",
      "\n",
      "\n"
     ]
    }
   ],
   "source": [
    "help(math)"
   ]
  },
  {
   "cell_type": "code",
   "execution_count": 24,
   "metadata": {},
   "outputs": [
    {
     "name": "stdout",
     "output_type": "stream",
     "text": [
      "\n",
      "Welcome to Python 3.7's help utility!\n",
      "\n",
      "If this is your first time using Python, you should definitely check out\n",
      "the tutorial on the Internet at https://docs.python.org/3.7/tutorial/.\n",
      "\n",
      "Enter the name of any module, keyword, or topic to get help on writing\n",
      "Python programs and using Python modules.  To quit this help utility and\n",
      "return to the interpreter, just type \"quit\".\n",
      "\n",
      "To get a list of available modules, keywords, symbols, or topics, type\n",
      "\"modules\", \"keywords\", \"symbols\", or \"topics\".  Each module also comes\n",
      "with a one-line summary of what it does; to list the modules whose name\n",
      "or summary contain a given string such as \"spam\", type \"modules spam\".\n",
      "\n",
      "help> \n",
      "\n",
      "You are now leaving help and returning to the Python interpreter.\n",
      "If you want to ask for help on a particular object directly from the\n",
      "interpreter, you can type \"help(object)\".  Executing \"help('string')\"\n",
      "has the same effect as typing a particular string at the help> prompt.\n"
     ]
    }
   ],
   "source": [
    "help()"
   ]
  },
  {
   "cell_type": "markdown",
   "metadata": {},
   "source": [
    "## Plotting in Python with Matplotlib\n",
    "The matplotlib module in Python is quite capable. Let's see some examples.\n",
    "\n",
    "https://matplotlib.org/\n"
   ]
  },
  {
   "cell_type": "code",
   "execution_count": 25,
   "metadata": {},
   "outputs": [],
   "source": [
    "# Import a the pyplot module. This gives matlab like syntax\n",
    "import matplotlib.pyplot as plt\n",
    "\n",
    "#For Juypter Notebooks display plots using the following \"magic\" command\n",
    "%matplotlib inline\n",
    "\n",
    "#This also works\n",
    "#get_ipython().magic('matplotlib inline')"
   ]
  },
  {
   "cell_type": "markdown",
   "metadata": {},
   "source": [
    "https://ipython.readthedocs.io/en/stable/interactive/magics.html#magic-matplotlib\n"
   ]
  },
  {
   "cell_type": "code",
   "execution_count": 26,
   "metadata": {},
   "outputs": [
    {
     "data": {
      "text/plain": [
       "[0.0, 0.1, 0.2, 0.30000000000000004, 0.4]"
      ]
     },
     "execution_count": 26,
     "metadata": {},
     "output_type": "execute_result"
    }
   ],
   "source": [
    "# Let's create a list containing time values\n",
    "# the old way\n",
    "upper = 10\n",
    "lower = 0\n",
    "span = upper-lower\n",
    "N = 100\n",
    "spacing = span/N\n",
    "times = []\n",
    "for i in range(N): # Starts at 0 and goes to N-1\n",
    "    times.append(lower + i*spacing)\n",
    "times.append(upper) #the upper was missing\n",
    "times[:5]"
   ]
  },
  {
   "cell_type": "code",
   "execution_count": 27,
   "metadata": {},
   "outputs": [
    {
     "data": {
      "text/plain": [
       "[9.600000000000001, 9.700000000000001, 9.8, 9.9, 10]"
      ]
     },
     "execution_count": 27,
     "metadata": {},
     "output_type": "execute_result"
    }
   ],
   "source": [
    "#Show the last few times\n",
    "times[-5:]"
   ]
  },
  {
   "cell_type": "markdown",
   "metadata": {},
   "source": [
    "## Using NumPy\n",
    "Numerical Python brings many of the features in programs like Matlab to Python. In particular is the ability to work with vectors and arrays. Let's create the previous array using Numerical Python.\n",
    "\n",
    "https://numpy.org/doc/stable/reference/generated/numpy.linspace.html"
   ]
  },
  {
   "cell_type": "code",
   "execution_count": 28,
   "metadata": {},
   "outputs": [],
   "source": [
    "#Using numerical python to create an array.\n",
    "import numpy as np "
   ]
  },
  {
   "cell_type": "code",
   "execution_count": 29,
   "metadata": {},
   "outputs": [
    {
     "data": {
      "text/plain": [
       "array([ 0. ,  0.1,  0.2,  0.3,  0.4,  0.5,  0.6,  0.7,  0.8,  0.9,  1. ,\n",
       "        1.1,  1.2,  1.3,  1.4,  1.5,  1.6,  1.7,  1.8,  1.9,  2. ,  2.1,\n",
       "        2.2,  2.3,  2.4,  2.5,  2.6,  2.7,  2.8,  2.9,  3. ,  3.1,  3.2,\n",
       "        3.3,  3.4,  3.5,  3.6,  3.7,  3.8,  3.9,  4. ,  4.1,  4.2,  4.3,\n",
       "        4.4,  4.5,  4.6,  4.7,  4.8,  4.9,  5. ,  5.1,  5.2,  5.3,  5.4,\n",
       "        5.5,  5.6,  5.7,  5.8,  5.9,  6. ,  6.1,  6.2,  6.3,  6.4,  6.5,\n",
       "        6.6,  6.7,  6.8,  6.9,  7. ,  7.1,  7.2,  7.3,  7.4,  7.5,  7.6,\n",
       "        7.7,  7.8,  7.9,  8. ,  8.1,  8.2,  8.3,  8.4,  8.5,  8.6,  8.7,\n",
       "        8.8,  8.9,  9. ,  9.1,  9.2,  9.3,  9.4,  9.5,  9.6,  9.7,  9.8,\n",
       "        9.9, 10. ])"
      ]
     },
     "execution_count": 29,
     "metadata": {},
     "output_type": "execute_result"
    }
   ],
   "source": [
    "times_np = np.linspace(lower,upper,N+1)\n",
    "times_np"
   ]
  },
  {
   "cell_type": "code",
   "execution_count": 30,
   "metadata": {},
   "outputs": [
    {
     "ename": "TypeError",
     "evalue": "only size-1 arrays can be converted to Python scalars",
     "output_type": "error",
     "traceback": [
      "\u001b[1;31m---------------------------------------------------------------------------\u001b[0m",
      "\u001b[1;31mTypeError\u001b[0m                                 Traceback (most recent call last)",
      "\u001b[1;32m<ipython-input-30-1cc7cb95c274>\u001b[0m in \u001b[0;36m<module>\u001b[1;34m\u001b[0m\n\u001b[0;32m      1\u001b[0m \u001b[1;31m# The math library version is not compatible with numpy arrays\u001b[0m\u001b[1;33m\u001b[0m\u001b[1;33m\u001b[0m\u001b[1;33m\u001b[0m\u001b[0m\n\u001b[1;32m----> 2\u001b[1;33m \u001b[0msin\u001b[0m\u001b[1;33m(\u001b[0m\u001b[0mtimes_np\u001b[0m\u001b[1;33m)\u001b[0m\u001b[1;33m\u001b[0m\u001b[1;33m\u001b[0m\u001b[0m\n\u001b[0m",
      "\u001b[1;31mTypeError\u001b[0m: only size-1 arrays can be converted to Python scalars"
     ]
    }
   ],
   "source": [
    "# The math library version is not compatible with numpy arrays\n",
    "sin(times_np)"
   ]
  },
  {
   "cell_type": "code",
   "execution_count": 31,
   "metadata": {},
   "outputs": [
    {
     "data": {
      "text/plain": [
       "array([ 0.        ,  0.09983342,  0.19866933,  0.29552021,  0.38941834,\n",
       "        0.47942554,  0.56464247,  0.64421769,  0.71735609,  0.78332691,\n",
       "        0.84147098,  0.89120736,  0.93203909,  0.96355819,  0.98544973,\n",
       "        0.99749499,  0.9995736 ,  0.99166481,  0.97384763,  0.94630009,\n",
       "        0.90929743,  0.86320937,  0.8084964 ,  0.74570521,  0.67546318,\n",
       "        0.59847214,  0.51550137,  0.42737988,  0.33498815,  0.23924933,\n",
       "        0.14112001,  0.04158066, -0.05837414, -0.15774569, -0.2555411 ,\n",
       "       -0.35078323, -0.44252044, -0.52983614, -0.61185789, -0.68776616,\n",
       "       -0.7568025 , -0.81827711, -0.87157577, -0.91616594, -0.95160207,\n",
       "       -0.97753012, -0.993691  , -0.99992326, -0.99616461, -0.98245261,\n",
       "       -0.95892427, -0.92581468, -0.88345466, -0.83226744, -0.77276449,\n",
       "       -0.70554033, -0.63126664, -0.55068554, -0.46460218, -0.37387666,\n",
       "       -0.2794155 , -0.1821625 , -0.0830894 ,  0.0168139 ,  0.1165492 ,\n",
       "        0.21511999,  0.31154136,  0.40484992,  0.49411335,  0.57843976,\n",
       "        0.6569866 ,  0.72896904,  0.79366786,  0.85043662,  0.8987081 ,\n",
       "        0.93799998,  0.96791967,  0.98816823,  0.99854335,  0.99894134,\n",
       "        0.98935825,  0.96988981,  0.94073056,  0.90217183,  0.85459891,\n",
       "        0.79848711,  0.7343971 ,  0.66296923,  0.58491719,  0.50102086,\n",
       "        0.41211849,  0.31909836,  0.22288991,  0.12445442,  0.02477543,\n",
       "       -0.07515112, -0.17432678, -0.27176063, -0.36647913, -0.45753589,\n",
       "       -0.54402111])"
      ]
     },
     "execution_count": 31,
     "metadata": {},
     "output_type": "execute_result"
    }
   ],
   "source": [
    "#must use the array capapble version\n",
    "np.sin(times_np)"
   ]
  },
  {
   "cell_type": "code",
   "execution_count": 32,
   "metadata": {},
   "outputs": [
    {
     "data": {
      "text/plain": [
       "array([ 35.35533906,  37.50555348,  39.50775062,  41.35402871,\n",
       "        43.03710135,  44.55032621,  45.88773128,  47.04403845,\n",
       "        48.01468428,  48.7958381 ,  49.38441703,  49.77809823,\n",
       "        49.97532802,  49.97532802,  49.77809823,  49.38441703,\n",
       "        48.7958381 ,  48.01468428,  47.04403845,  45.88773128,\n",
       "        44.55032621,  43.03710135,  41.35402871,  39.50775062,\n",
       "        37.50555348,  35.35533906,  33.06559327,  30.64535268,\n",
       "        28.10416889,  25.45207079,  22.69952499,  19.85739453,\n",
       "        16.93689601,  13.9495553 ,  10.90716207,   7.82172325,\n",
       "         4.70541567,   1.57053795,  -1.57053795,  -4.70541567,\n",
       "        -7.82172325, -10.90716207, -13.9495553 , -16.93689601,\n",
       "       -19.85739453, -22.69952499, -25.45207079, -28.10416889,\n",
       "       -30.64535268, -33.06559327, -35.35533906, -37.50555348,\n",
       "       -39.50775062, -41.35402871, -43.03710135, -44.55032621,\n",
       "       -45.88773128, -47.04403845, -48.01468428, -48.7958381 ,\n",
       "       -49.38441703, -49.77809823, -49.97532802, -49.97532802,\n",
       "       -49.77809823, -49.38441703, -48.7958381 , -48.01468428,\n",
       "       -47.04403845, -45.88773128, -44.55032621, -43.03710135,\n",
       "       -41.35402871, -39.50775062, -37.50555348, -35.35533906,\n",
       "       -33.06559327, -30.64535268, -28.10416889, -25.45207079,\n",
       "       -22.69952499, -19.85739453, -16.93689601, -13.9495553 ,\n",
       "       -10.90716207,  -7.82172325,  -4.70541567,  -1.57053795,\n",
       "         1.57053795,   4.70541567,   7.82172325,  10.90716207,\n",
       "        13.9495553 ,  16.93689601,  19.85739453,  22.69952499,\n",
       "        25.45207079,  28.10416889,  30.64535268,  33.06559327,\n",
       "        35.35533906])"
      ]
     },
     "execution_count": 32,
     "metadata": {},
     "output_type": "execute_result"
    }
   ],
   "source": [
    "# Calculate a harmonics signal as an example\n",
    "amplitude = 50 # units (e.g. mm)\n",
    "frequency = 0.1 # hertz\n",
    "phase = 45 * pi/180 #radians\n",
    "signal = amplitude * np.sin(2*pi*frequency*times_np + phase)\n",
    "signal"
   ]
  },
  {
   "cell_type": "code",
   "execution_count": 35,
   "metadata": {},
   "outputs": [
    {
     "data": {
      "text/plain": [
       "array([ 69.2820323 ,  65.21022366,  60.55960445,  55.37145391,\n",
       "        49.69182242,  43.5711228 ,  37.06368281,  30.22726295,\n",
       "        23.12254376,  15.81258723,   8.36227706,   0.83774273,\n",
       "        -6.69422747, -14.16677923, -21.51358565, -28.66943596,\n",
       "       -35.57081433, -42.15646364, -48.36792919, -54.15007757,\n",
       "       -59.45158604, -64.22539802, -68.42914081, -72.02550171,\n",
       "       -74.98255916, -77.2740661 , -78.87968297, -79.78515818,\n",
       "       -79.98245468, -79.46982125, -78.25180806, -76.33922628,\n",
       "       -73.74905213, -70.50427617, -66.63369926, -62.17167692,\n",
       "       -57.15781437, -51.63661502, -45.65708541, -39.27230029,\n",
       "       -32.53893145, -25.51674474, -18.26806961, -10.85724579,\n",
       "        -3.3500523 ,   4.1868765 ,  11.68664228,  19.08267661,\n",
       "        26.30933174,  33.30246338,  40.        ,  46.34249379,\n",
       "        52.27364832,  57.74081825,  62.69547659,  67.09364544,\n",
       "        70.89628634,  74.06964678,  76.5855598 ,  78.42169397,\n",
       "        79.56175163,  79.99561355,  79.71942874,  78.73564864,\n",
       "        77.05300534,  74.68643412,  71.65694082,  67.99141544,\n",
       "        63.72239344,  58.88776697,  53.53044851,  47.69799   ,\n",
       "        41.44216075,  34.81848795,  27.88576379,  20.70552361,\n",
       "        13.34149974,   5.85905577,  -1.67539359,  -9.19497204,\n",
       "       -16.63293527, -23.92326338, -31.00124692, -37.80406119,\n",
       "       -44.27132394, -50.34563128, -55.97306724, -61.10368229,\n",
       "       -65.69193673, -69.69710489, -73.08363661, -75.8214728 ,\n",
       "       -77.88631223, -79.25982724, -79.92982641, -79.89036278,\n",
       "       -79.14178664, -77.69074239, -75.55010962, -72.73888872,\n",
       "       -69.2820323 ])"
      ]
     },
     "execution_count": 35,
     "metadata": {},
     "output_type": "execute_result"
    }
   ],
   "source": [
    "#Calculate another signal\n",
    "amplitude = 80 #units (e.g. mm)\n",
    "frequency = 0.15 #hertz\n",
    "phase = 120*pi/180 #radians\n",
    "signal2 = amplitude * np.sin(2*pi*frequency*times_np + phase)\n",
    "signal2"
   ]
  },
  {
   "cell_type": "code",
   "execution_count": 36,
   "metadata": {},
   "outputs": [
    {
     "data": {
      "application/javascript": [
       "/* Put everything inside the global mpl namespace */\n",
       "window.mpl = {};\n",
       "\n",
       "\n",
       "mpl.get_websocket_type = function() {\n",
       "    if (typeof(WebSocket) !== 'undefined') {\n",
       "        return WebSocket;\n",
       "    } else if (typeof(MozWebSocket) !== 'undefined') {\n",
       "        return MozWebSocket;\n",
       "    } else {\n",
       "        alert('Your browser does not have WebSocket support. ' +\n",
       "              'Please try Chrome, Safari or Firefox ≥ 6. ' +\n",
       "              'Firefox 4 and 5 are also supported but you ' +\n",
       "              'have to enable WebSockets in about:config.');\n",
       "    };\n",
       "}\n",
       "\n",
       "mpl.figure = function(figure_id, websocket, ondownload, parent_element) {\n",
       "    this.id = figure_id;\n",
       "\n",
       "    this.ws = websocket;\n",
       "\n",
       "    this.supports_binary = (this.ws.binaryType != undefined);\n",
       "\n",
       "    if (!this.supports_binary) {\n",
       "        var warnings = document.getElementById(\"mpl-warnings\");\n",
       "        if (warnings) {\n",
       "            warnings.style.display = 'block';\n",
       "            warnings.textContent = (\n",
       "                \"This browser does not support binary websocket messages. \" +\n",
       "                    \"Performance may be slow.\");\n",
       "        }\n",
       "    }\n",
       "\n",
       "    this.imageObj = new Image();\n",
       "\n",
       "    this.context = undefined;\n",
       "    this.message = undefined;\n",
       "    this.canvas = undefined;\n",
       "    this.rubberband_canvas = undefined;\n",
       "    this.rubberband_context = undefined;\n",
       "    this.format_dropdown = undefined;\n",
       "\n",
       "    this.image_mode = 'full';\n",
       "\n",
       "    this.root = $('<div/>');\n",
       "    this._root_extra_style(this.root)\n",
       "    this.root.attr('style', 'display: inline-block');\n",
       "\n",
       "    $(parent_element).append(this.root);\n",
       "\n",
       "    this._init_header(this);\n",
       "    this._init_canvas(this);\n",
       "    this._init_toolbar(this);\n",
       "\n",
       "    var fig = this;\n",
       "\n",
       "    this.waiting = false;\n",
       "\n",
       "    this.ws.onopen =  function () {\n",
       "            fig.send_message(\"supports_binary\", {value: fig.supports_binary});\n",
       "            fig.send_message(\"send_image_mode\", {});\n",
       "            if (mpl.ratio != 1) {\n",
       "                fig.send_message(\"set_dpi_ratio\", {'dpi_ratio': mpl.ratio});\n",
       "            }\n",
       "            fig.send_message(\"refresh\", {});\n",
       "        }\n",
       "\n",
       "    this.imageObj.onload = function() {\n",
       "            if (fig.image_mode == 'full') {\n",
       "                // Full images could contain transparency (where diff images\n",
       "                // almost always do), so we need to clear the canvas so that\n",
       "                // there is no ghosting.\n",
       "                fig.context.clearRect(0, 0, fig.canvas.width, fig.canvas.height);\n",
       "            }\n",
       "            fig.context.drawImage(fig.imageObj, 0, 0);\n",
       "        };\n",
       "\n",
       "    this.imageObj.onunload = function() {\n",
       "        fig.ws.close();\n",
       "    }\n",
       "\n",
       "    this.ws.onmessage = this._make_on_message_function(this);\n",
       "\n",
       "    this.ondownload = ondownload;\n",
       "}\n",
       "\n",
       "mpl.figure.prototype._init_header = function() {\n",
       "    var titlebar = $(\n",
       "        '<div class=\"ui-dialog-titlebar ui-widget-header ui-corner-all ' +\n",
       "        'ui-helper-clearfix\"/>');\n",
       "    var titletext = $(\n",
       "        '<div class=\"ui-dialog-title\" style=\"width: 100%; ' +\n",
       "        'text-align: center; padding: 3px;\"/>');\n",
       "    titlebar.append(titletext)\n",
       "    this.root.append(titlebar);\n",
       "    this.header = titletext[0];\n",
       "}\n",
       "\n",
       "\n",
       "\n",
       "mpl.figure.prototype._canvas_extra_style = function(canvas_div) {\n",
       "\n",
       "}\n",
       "\n",
       "\n",
       "mpl.figure.prototype._root_extra_style = function(canvas_div) {\n",
       "\n",
       "}\n",
       "\n",
       "mpl.figure.prototype._init_canvas = function() {\n",
       "    var fig = this;\n",
       "\n",
       "    var canvas_div = $('<div/>');\n",
       "\n",
       "    canvas_div.attr('style', 'position: relative; clear: both; outline: 0');\n",
       "\n",
       "    function canvas_keyboard_event(event) {\n",
       "        return fig.key_event(event, event['data']);\n",
       "    }\n",
       "\n",
       "    canvas_div.keydown('key_press', canvas_keyboard_event);\n",
       "    canvas_div.keyup('key_release', canvas_keyboard_event);\n",
       "    this.canvas_div = canvas_div\n",
       "    this._canvas_extra_style(canvas_div)\n",
       "    this.root.append(canvas_div);\n",
       "\n",
       "    var canvas = $('<canvas/>');\n",
       "    canvas.addClass('mpl-canvas');\n",
       "    canvas.attr('style', \"left: 0; top: 0; z-index: 0; outline: 0\")\n",
       "\n",
       "    this.canvas = canvas[0];\n",
       "    this.context = canvas[0].getContext(\"2d\");\n",
       "\n",
       "    var backingStore = this.context.backingStorePixelRatio ||\n",
       "\tthis.context.webkitBackingStorePixelRatio ||\n",
       "\tthis.context.mozBackingStorePixelRatio ||\n",
       "\tthis.context.msBackingStorePixelRatio ||\n",
       "\tthis.context.oBackingStorePixelRatio ||\n",
       "\tthis.context.backingStorePixelRatio || 1;\n",
       "\n",
       "    mpl.ratio = (window.devicePixelRatio || 1) / backingStore;\n",
       "\n",
       "    var rubberband = $('<canvas/>');\n",
       "    rubberband.attr('style', \"position: absolute; left: 0; top: 0; z-index: 1;\")\n",
       "\n",
       "    var pass_mouse_events = true;\n",
       "\n",
       "    canvas_div.resizable({\n",
       "        start: function(event, ui) {\n",
       "            pass_mouse_events = false;\n",
       "        },\n",
       "        resize: function(event, ui) {\n",
       "            fig.request_resize(ui.size.width, ui.size.height);\n",
       "        },\n",
       "        stop: function(event, ui) {\n",
       "            pass_mouse_events = true;\n",
       "            fig.request_resize(ui.size.width, ui.size.height);\n",
       "        },\n",
       "    });\n",
       "\n",
       "    function mouse_event_fn(event) {\n",
       "        if (pass_mouse_events)\n",
       "            return fig.mouse_event(event, event['data']);\n",
       "    }\n",
       "\n",
       "    rubberband.mousedown('button_press', mouse_event_fn);\n",
       "    rubberband.mouseup('button_release', mouse_event_fn);\n",
       "    // Throttle sequential mouse events to 1 every 20ms.\n",
       "    rubberband.mousemove('motion_notify', mouse_event_fn);\n",
       "\n",
       "    rubberband.mouseenter('figure_enter', mouse_event_fn);\n",
       "    rubberband.mouseleave('figure_leave', mouse_event_fn);\n",
       "\n",
       "    canvas_div.on(\"wheel\", function (event) {\n",
       "        event = event.originalEvent;\n",
       "        event['data'] = 'scroll'\n",
       "        if (event.deltaY < 0) {\n",
       "            event.step = 1;\n",
       "        } else {\n",
       "            event.step = -1;\n",
       "        }\n",
       "        mouse_event_fn(event);\n",
       "    });\n",
       "\n",
       "    canvas_div.append(canvas);\n",
       "    canvas_div.append(rubberband);\n",
       "\n",
       "    this.rubberband = rubberband;\n",
       "    this.rubberband_canvas = rubberband[0];\n",
       "    this.rubberband_context = rubberband[0].getContext(\"2d\");\n",
       "    this.rubberband_context.strokeStyle = \"#000000\";\n",
       "\n",
       "    this._resize_canvas = function(width, height) {\n",
       "        // Keep the size of the canvas, canvas container, and rubber band\n",
       "        // canvas in synch.\n",
       "        canvas_div.css('width', width)\n",
       "        canvas_div.css('height', height)\n",
       "\n",
       "        canvas.attr('width', width * mpl.ratio);\n",
       "        canvas.attr('height', height * mpl.ratio);\n",
       "        canvas.attr('style', 'width: ' + width + 'px; height: ' + height + 'px;');\n",
       "\n",
       "        rubberband.attr('width', width);\n",
       "        rubberband.attr('height', height);\n",
       "    }\n",
       "\n",
       "    // Set the figure to an initial 600x600px, this will subsequently be updated\n",
       "    // upon first draw.\n",
       "    this._resize_canvas(600, 600);\n",
       "\n",
       "    // Disable right mouse context menu.\n",
       "    $(this.rubberband_canvas).bind(\"contextmenu\",function(e){\n",
       "        return false;\n",
       "    });\n",
       "\n",
       "    function set_focus () {\n",
       "        canvas.focus();\n",
       "        canvas_div.focus();\n",
       "    }\n",
       "\n",
       "    window.setTimeout(set_focus, 100);\n",
       "}\n",
       "\n",
       "mpl.figure.prototype._init_toolbar = function() {\n",
       "    var fig = this;\n",
       "\n",
       "    var nav_element = $('<div/>');\n",
       "    nav_element.attr('style', 'width: 100%');\n",
       "    this.root.append(nav_element);\n",
       "\n",
       "    // Define a callback function for later on.\n",
       "    function toolbar_event(event) {\n",
       "        return fig.toolbar_button_onclick(event['data']);\n",
       "    }\n",
       "    function toolbar_mouse_event(event) {\n",
       "        return fig.toolbar_button_onmouseover(event['data']);\n",
       "    }\n",
       "\n",
       "    for(var toolbar_ind in mpl.toolbar_items) {\n",
       "        var name = mpl.toolbar_items[toolbar_ind][0];\n",
       "        var tooltip = mpl.toolbar_items[toolbar_ind][1];\n",
       "        var image = mpl.toolbar_items[toolbar_ind][2];\n",
       "        var method_name = mpl.toolbar_items[toolbar_ind][3];\n",
       "\n",
       "        if (!name) {\n",
       "            // put a spacer in here.\n",
       "            continue;\n",
       "        }\n",
       "        var button = $('<button/>');\n",
       "        button.addClass('ui-button ui-widget ui-state-default ui-corner-all ' +\n",
       "                        'ui-button-icon-only');\n",
       "        button.attr('role', 'button');\n",
       "        button.attr('aria-disabled', 'false');\n",
       "        button.click(method_name, toolbar_event);\n",
       "        button.mouseover(tooltip, toolbar_mouse_event);\n",
       "\n",
       "        var icon_img = $('<span/>');\n",
       "        icon_img.addClass('ui-button-icon-primary ui-icon');\n",
       "        icon_img.addClass(image);\n",
       "        icon_img.addClass('ui-corner-all');\n",
       "\n",
       "        var tooltip_span = $('<span/>');\n",
       "        tooltip_span.addClass('ui-button-text');\n",
       "        tooltip_span.html(tooltip);\n",
       "\n",
       "        button.append(icon_img);\n",
       "        button.append(tooltip_span);\n",
       "\n",
       "        nav_element.append(button);\n",
       "    }\n",
       "\n",
       "    var fmt_picker_span = $('<span/>');\n",
       "\n",
       "    var fmt_picker = $('<select/>');\n",
       "    fmt_picker.addClass('mpl-toolbar-option ui-widget ui-widget-content');\n",
       "    fmt_picker_span.append(fmt_picker);\n",
       "    nav_element.append(fmt_picker_span);\n",
       "    this.format_dropdown = fmt_picker[0];\n",
       "\n",
       "    for (var ind in mpl.extensions) {\n",
       "        var fmt = mpl.extensions[ind];\n",
       "        var option = $(\n",
       "            '<option/>', {selected: fmt === mpl.default_extension}).html(fmt);\n",
       "        fmt_picker.append(option);\n",
       "    }\n",
       "\n",
       "    // Add hover states to the ui-buttons\n",
       "    $( \".ui-button\" ).hover(\n",
       "        function() { $(this).addClass(\"ui-state-hover\");},\n",
       "        function() { $(this).removeClass(\"ui-state-hover\");}\n",
       "    );\n",
       "\n",
       "    var status_bar = $('<span class=\"mpl-message\"/>');\n",
       "    nav_element.append(status_bar);\n",
       "    this.message = status_bar[0];\n",
       "}\n",
       "\n",
       "mpl.figure.prototype.request_resize = function(x_pixels, y_pixels) {\n",
       "    // Request matplotlib to resize the figure. Matplotlib will then trigger a resize in the client,\n",
       "    // which will in turn request a refresh of the image.\n",
       "    this.send_message('resize', {'width': x_pixels, 'height': y_pixels});\n",
       "}\n",
       "\n",
       "mpl.figure.prototype.send_message = function(type, properties) {\n",
       "    properties['type'] = type;\n",
       "    properties['figure_id'] = this.id;\n",
       "    this.ws.send(JSON.stringify(properties));\n",
       "}\n",
       "\n",
       "mpl.figure.prototype.send_draw_message = function() {\n",
       "    if (!this.waiting) {\n",
       "        this.waiting = true;\n",
       "        this.ws.send(JSON.stringify({type: \"draw\", figure_id: this.id}));\n",
       "    }\n",
       "}\n",
       "\n",
       "\n",
       "mpl.figure.prototype.handle_save = function(fig, msg) {\n",
       "    var format_dropdown = fig.format_dropdown;\n",
       "    var format = format_dropdown.options[format_dropdown.selectedIndex].value;\n",
       "    fig.ondownload(fig, format);\n",
       "}\n",
       "\n",
       "\n",
       "mpl.figure.prototype.handle_resize = function(fig, msg) {\n",
       "    var size = msg['size'];\n",
       "    if (size[0] != fig.canvas.width || size[1] != fig.canvas.height) {\n",
       "        fig._resize_canvas(size[0], size[1]);\n",
       "        fig.send_message(\"refresh\", {});\n",
       "    };\n",
       "}\n",
       "\n",
       "mpl.figure.prototype.handle_rubberband = function(fig, msg) {\n",
       "    var x0 = msg['x0'] / mpl.ratio;\n",
       "    var y0 = (fig.canvas.height - msg['y0']) / mpl.ratio;\n",
       "    var x1 = msg['x1'] / mpl.ratio;\n",
       "    var y1 = (fig.canvas.height - msg['y1']) / mpl.ratio;\n",
       "    x0 = Math.floor(x0) + 0.5;\n",
       "    y0 = Math.floor(y0) + 0.5;\n",
       "    x1 = Math.floor(x1) + 0.5;\n",
       "    y1 = Math.floor(y1) + 0.5;\n",
       "    var min_x = Math.min(x0, x1);\n",
       "    var min_y = Math.min(y0, y1);\n",
       "    var width = Math.abs(x1 - x0);\n",
       "    var height = Math.abs(y1 - y0);\n",
       "\n",
       "    fig.rubberband_context.clearRect(\n",
       "        0, 0, fig.canvas.width / mpl.ratio, fig.canvas.height / mpl.ratio);\n",
       "\n",
       "    fig.rubberband_context.strokeRect(min_x, min_y, width, height);\n",
       "}\n",
       "\n",
       "mpl.figure.prototype.handle_figure_label = function(fig, msg) {\n",
       "    // Updates the figure title.\n",
       "    fig.header.textContent = msg['label'];\n",
       "}\n",
       "\n",
       "mpl.figure.prototype.handle_cursor = function(fig, msg) {\n",
       "    var cursor = msg['cursor'];\n",
       "    switch(cursor)\n",
       "    {\n",
       "    case 0:\n",
       "        cursor = 'pointer';\n",
       "        break;\n",
       "    case 1:\n",
       "        cursor = 'default';\n",
       "        break;\n",
       "    case 2:\n",
       "        cursor = 'crosshair';\n",
       "        break;\n",
       "    case 3:\n",
       "        cursor = 'move';\n",
       "        break;\n",
       "    }\n",
       "    fig.rubberband_canvas.style.cursor = cursor;\n",
       "}\n",
       "\n",
       "mpl.figure.prototype.handle_message = function(fig, msg) {\n",
       "    fig.message.textContent = msg['message'];\n",
       "}\n",
       "\n",
       "mpl.figure.prototype.handle_draw = function(fig, msg) {\n",
       "    // Request the server to send over a new figure.\n",
       "    fig.send_draw_message();\n",
       "}\n",
       "\n",
       "mpl.figure.prototype.handle_image_mode = function(fig, msg) {\n",
       "    fig.image_mode = msg['mode'];\n",
       "}\n",
       "\n",
       "mpl.figure.prototype.updated_canvas_event = function() {\n",
       "    // Called whenever the canvas gets updated.\n",
       "    this.send_message(\"ack\", {});\n",
       "}\n",
       "\n",
       "// A function to construct a web socket function for onmessage handling.\n",
       "// Called in the figure constructor.\n",
       "mpl.figure.prototype._make_on_message_function = function(fig) {\n",
       "    return function socket_on_message(evt) {\n",
       "        if (evt.data instanceof Blob) {\n",
       "            /* FIXME: We get \"Resource interpreted as Image but\n",
       "             * transferred with MIME type text/plain:\" errors on\n",
       "             * Chrome.  But how to set the MIME type?  It doesn't seem\n",
       "             * to be part of the websocket stream */\n",
       "            evt.data.type = \"image/png\";\n",
       "\n",
       "            /* Free the memory for the previous frames */\n",
       "            if (fig.imageObj.src) {\n",
       "                (window.URL || window.webkitURL).revokeObjectURL(\n",
       "                    fig.imageObj.src);\n",
       "            }\n",
       "\n",
       "            fig.imageObj.src = (window.URL || window.webkitURL).createObjectURL(\n",
       "                evt.data);\n",
       "            fig.updated_canvas_event();\n",
       "            fig.waiting = false;\n",
       "            return;\n",
       "        }\n",
       "        else if (typeof evt.data === 'string' && evt.data.slice(0, 21) == \"data:image/png;base64\") {\n",
       "            fig.imageObj.src = evt.data;\n",
       "            fig.updated_canvas_event();\n",
       "            fig.waiting = false;\n",
       "            return;\n",
       "        }\n",
       "\n",
       "        var msg = JSON.parse(evt.data);\n",
       "        var msg_type = msg['type'];\n",
       "\n",
       "        // Call the  \"handle_{type}\" callback, which takes\n",
       "        // the figure and JSON message as its only arguments.\n",
       "        try {\n",
       "            var callback = fig[\"handle_\" + msg_type];\n",
       "        } catch (e) {\n",
       "            console.log(\"No handler for the '\" + msg_type + \"' message type: \", msg);\n",
       "            return;\n",
       "        }\n",
       "\n",
       "        if (callback) {\n",
       "            try {\n",
       "                // console.log(\"Handling '\" + msg_type + \"' message: \", msg);\n",
       "                callback(fig, msg);\n",
       "            } catch (e) {\n",
       "                console.log(\"Exception inside the 'handler_\" + msg_type + \"' callback:\", e, e.stack, msg);\n",
       "            }\n",
       "        }\n",
       "    };\n",
       "}\n",
       "\n",
       "// from http://stackoverflow.com/questions/1114465/getting-mouse-location-in-canvas\n",
       "mpl.findpos = function(e) {\n",
       "    //this section is from http://www.quirksmode.org/js/events_properties.html\n",
       "    var targ;\n",
       "    if (!e)\n",
       "        e = window.event;\n",
       "    if (e.target)\n",
       "        targ = e.target;\n",
       "    else if (e.srcElement)\n",
       "        targ = e.srcElement;\n",
       "    if (targ.nodeType == 3) // defeat Safari bug\n",
       "        targ = targ.parentNode;\n",
       "\n",
       "    // jQuery normalizes the pageX and pageY\n",
       "    // pageX,Y are the mouse positions relative to the document\n",
       "    // offset() returns the position of the element relative to the document\n",
       "    var x = e.pageX - $(targ).offset().left;\n",
       "    var y = e.pageY - $(targ).offset().top;\n",
       "\n",
       "    return {\"x\": x, \"y\": y};\n",
       "};\n",
       "\n",
       "/*\n",
       " * return a copy of an object with only non-object keys\n",
       " * we need this to avoid circular references\n",
       " * http://stackoverflow.com/a/24161582/3208463\n",
       " */\n",
       "function simpleKeys (original) {\n",
       "  return Object.keys(original).reduce(function (obj, key) {\n",
       "    if (typeof original[key] !== 'object')\n",
       "        obj[key] = original[key]\n",
       "    return obj;\n",
       "  }, {});\n",
       "}\n",
       "\n",
       "mpl.figure.prototype.mouse_event = function(event, name) {\n",
       "    var canvas_pos = mpl.findpos(event)\n",
       "\n",
       "    if (name === 'button_press')\n",
       "    {\n",
       "        this.canvas.focus();\n",
       "        this.canvas_div.focus();\n",
       "    }\n",
       "\n",
       "    var x = canvas_pos.x * mpl.ratio;\n",
       "    var y = canvas_pos.y * mpl.ratio;\n",
       "\n",
       "    this.send_message(name, {x: x, y: y, button: event.button,\n",
       "                             step: event.step,\n",
       "                             guiEvent: simpleKeys(event)});\n",
       "\n",
       "    /* This prevents the web browser from automatically changing to\n",
       "     * the text insertion cursor when the button is pressed.  We want\n",
       "     * to control all of the cursor setting manually through the\n",
       "     * 'cursor' event from matplotlib */\n",
       "    event.preventDefault();\n",
       "    return false;\n",
       "}\n",
       "\n",
       "mpl.figure.prototype._key_event_extra = function(event, name) {\n",
       "    // Handle any extra behaviour associated with a key event\n",
       "}\n",
       "\n",
       "mpl.figure.prototype.key_event = function(event, name) {\n",
       "\n",
       "    // Prevent repeat events\n",
       "    if (name == 'key_press')\n",
       "    {\n",
       "        if (event.which === this._key)\n",
       "            return;\n",
       "        else\n",
       "            this._key = event.which;\n",
       "    }\n",
       "    if (name == 'key_release')\n",
       "        this._key = null;\n",
       "\n",
       "    var value = '';\n",
       "    if (event.ctrlKey && event.which != 17)\n",
       "        value += \"ctrl+\";\n",
       "    if (event.altKey && event.which != 18)\n",
       "        value += \"alt+\";\n",
       "    if (event.shiftKey && event.which != 16)\n",
       "        value += \"shift+\";\n",
       "\n",
       "    value += 'k';\n",
       "    value += event.which.toString();\n",
       "\n",
       "    this._key_event_extra(event, name);\n",
       "\n",
       "    this.send_message(name, {key: value,\n",
       "                             guiEvent: simpleKeys(event)});\n",
       "    return false;\n",
       "}\n",
       "\n",
       "mpl.figure.prototype.toolbar_button_onclick = function(name) {\n",
       "    if (name == 'download') {\n",
       "        this.handle_save(this, null);\n",
       "    } else {\n",
       "        this.send_message(\"toolbar_button\", {name: name});\n",
       "    }\n",
       "};\n",
       "\n",
       "mpl.figure.prototype.toolbar_button_onmouseover = function(tooltip) {\n",
       "    this.message.textContent = tooltip;\n",
       "};\n",
       "mpl.toolbar_items = [[\"Home\", \"Reset original view\", \"fa fa-home icon-home\", \"home\"], [\"Back\", \"Back to previous view\", \"fa fa-arrow-left icon-arrow-left\", \"back\"], [\"Forward\", \"Forward to next view\", \"fa fa-arrow-right icon-arrow-right\", \"forward\"], [\"\", \"\", \"\", \"\"], [\"Pan\", \"Pan axes with left mouse, zoom with right\", \"fa fa-arrows icon-move\", \"pan\"], [\"Zoom\", \"Zoom to rectangle\", \"fa fa-square-o icon-check-empty\", \"zoom\"], [\"\", \"\", \"\", \"\"], [\"Download\", \"Download plot\", \"fa fa-floppy-o icon-save\", \"download\"]];\n",
       "\n",
       "mpl.extensions = [\"eps\", \"jpeg\", \"pdf\", \"png\", \"ps\", \"raw\", \"svg\", \"tif\"];\n",
       "\n",
       "mpl.default_extension = \"png\";var comm_websocket_adapter = function(comm) {\n",
       "    // Create a \"websocket\"-like object which calls the given IPython comm\n",
       "    // object with the appropriate methods. Currently this is a non binary\n",
       "    // socket, so there is still some room for performance tuning.\n",
       "    var ws = {};\n",
       "\n",
       "    ws.close = function() {\n",
       "        comm.close()\n",
       "    };\n",
       "    ws.send = function(m) {\n",
       "        //console.log('sending', m);\n",
       "        comm.send(m);\n",
       "    };\n",
       "    // Register the callback with on_msg.\n",
       "    comm.on_msg(function(msg) {\n",
       "        //console.log('receiving', msg['content']['data'], msg);\n",
       "        // Pass the mpl event to the overridden (by mpl) onmessage function.\n",
       "        ws.onmessage(msg['content']['data'])\n",
       "    });\n",
       "    return ws;\n",
       "}\n",
       "\n",
       "mpl.mpl_figure_comm = function(comm, msg) {\n",
       "    // This is the function which gets called when the mpl process\n",
       "    // starts-up an IPython Comm through the \"matplotlib\" channel.\n",
       "\n",
       "    var id = msg.content.data.id;\n",
       "    // Get hold of the div created by the display call when the Comm\n",
       "    // socket was opened in Python.\n",
       "    var element = $(\"#\" + id);\n",
       "    var ws_proxy = comm_websocket_adapter(comm)\n",
       "\n",
       "    function ondownload(figure, format) {\n",
       "        window.open(figure.imageObj.src);\n",
       "    }\n",
       "\n",
       "    var fig = new mpl.figure(id, ws_proxy,\n",
       "                           ondownload,\n",
       "                           element.get(0));\n",
       "\n",
       "    // Call onopen now - mpl needs it, as it is assuming we've passed it a real\n",
       "    // web socket which is closed, not our websocket->open comm proxy.\n",
       "    ws_proxy.onopen();\n",
       "\n",
       "    fig.parent_element = element.get(0);\n",
       "    fig.cell_info = mpl.find_output_cell(\"<div id='\" + id + \"'></div>\");\n",
       "    if (!fig.cell_info) {\n",
       "        console.error(\"Failed to find cell for figure\", id, fig);\n",
       "        return;\n",
       "    }\n",
       "\n",
       "    var output_index = fig.cell_info[2]\n",
       "    var cell = fig.cell_info[0];\n",
       "\n",
       "};\n",
       "\n",
       "mpl.figure.prototype.handle_close = function(fig, msg) {\n",
       "    var width = fig.canvas.width/mpl.ratio\n",
       "    fig.root.unbind('remove')\n",
       "\n",
       "    // Update the output cell to use the data from the current canvas.\n",
       "    fig.push_to_output();\n",
       "    var dataURL = fig.canvas.toDataURL();\n",
       "    // Re-enable the keyboard manager in IPython - without this line, in FF,\n",
       "    // the notebook keyboard shortcuts fail.\n",
       "    IPython.keyboard_manager.enable()\n",
       "    $(fig.parent_element).html('<img src=\"' + dataURL + '\" width=\"' + width + '\">');\n",
       "    fig.close_ws(fig, msg);\n",
       "}\n",
       "\n",
       "mpl.figure.prototype.close_ws = function(fig, msg){\n",
       "    fig.send_message('closing', msg);\n",
       "    // fig.ws.close()\n",
       "}\n",
       "\n",
       "mpl.figure.prototype.push_to_output = function(remove_interactive) {\n",
       "    // Turn the data on the canvas into data in the output cell.\n",
       "    var width = this.canvas.width/mpl.ratio\n",
       "    var dataURL = this.canvas.toDataURL();\n",
       "    this.cell_info[1]['text/html'] = '<img src=\"' + dataURL + '\" width=\"' + width + '\">';\n",
       "}\n",
       "\n",
       "mpl.figure.prototype.updated_canvas_event = function() {\n",
       "    // Tell IPython that the notebook contents must change.\n",
       "    IPython.notebook.set_dirty(true);\n",
       "    this.send_message(\"ack\", {});\n",
       "    var fig = this;\n",
       "    // Wait a second, then push the new image to the DOM so\n",
       "    // that it is saved nicely (might be nice to debounce this).\n",
       "    setTimeout(function () { fig.push_to_output() }, 1000);\n",
       "}\n",
       "\n",
       "mpl.figure.prototype._init_toolbar = function() {\n",
       "    var fig = this;\n",
       "\n",
       "    var nav_element = $('<div/>');\n",
       "    nav_element.attr('style', 'width: 100%');\n",
       "    this.root.append(nav_element);\n",
       "\n",
       "    // Define a callback function for later on.\n",
       "    function toolbar_event(event) {\n",
       "        return fig.toolbar_button_onclick(event['data']);\n",
       "    }\n",
       "    function toolbar_mouse_event(event) {\n",
       "        return fig.toolbar_button_onmouseover(event['data']);\n",
       "    }\n",
       "\n",
       "    for(var toolbar_ind in mpl.toolbar_items){\n",
       "        var name = mpl.toolbar_items[toolbar_ind][0];\n",
       "        var tooltip = mpl.toolbar_items[toolbar_ind][1];\n",
       "        var image = mpl.toolbar_items[toolbar_ind][2];\n",
       "        var method_name = mpl.toolbar_items[toolbar_ind][3];\n",
       "\n",
       "        if (!name) { continue; };\n",
       "\n",
       "        var button = $('<button class=\"btn btn-default\" href=\"#\" title=\"' + name + '\"><i class=\"fa ' + image + ' fa-lg\"></i></button>');\n",
       "        button.click(method_name, toolbar_event);\n",
       "        button.mouseover(tooltip, toolbar_mouse_event);\n",
       "        nav_element.append(button);\n",
       "    }\n",
       "\n",
       "    // Add the status bar.\n",
       "    var status_bar = $('<span class=\"mpl-message\" style=\"text-align:right; float: right;\"/>');\n",
       "    nav_element.append(status_bar);\n",
       "    this.message = status_bar[0];\n",
       "\n",
       "    // Add the close button to the window.\n",
       "    var buttongrp = $('<div class=\"btn-group inline pull-right\"></div>');\n",
       "    var button = $('<button class=\"btn btn-mini btn-primary\" href=\"#\" title=\"Stop Interaction\"><i class=\"fa fa-power-off icon-remove icon-large\"></i></button>');\n",
       "    button.click(function (evt) { fig.handle_close(fig, {}); } );\n",
       "    button.mouseover('Stop Interaction', toolbar_mouse_event);\n",
       "    buttongrp.append(button);\n",
       "    var titlebar = this.root.find($('.ui-dialog-titlebar'));\n",
       "    titlebar.prepend(buttongrp);\n",
       "}\n",
       "\n",
       "mpl.figure.prototype._root_extra_style = function(el){\n",
       "    var fig = this\n",
       "    el.on(\"remove\", function(){\n",
       "\tfig.close_ws(fig, {});\n",
       "    });\n",
       "}\n",
       "\n",
       "mpl.figure.prototype._canvas_extra_style = function(el){\n",
       "    // this is important to make the div 'focusable\n",
       "    el.attr('tabindex', 0)\n",
       "    // reach out to IPython and tell the keyboard manager to turn it's self\n",
       "    // off when our div gets focus\n",
       "\n",
       "    // location in version 3\n",
       "    if (IPython.notebook.keyboard_manager) {\n",
       "        IPython.notebook.keyboard_manager.register_events(el);\n",
       "    }\n",
       "    else {\n",
       "        // location in version 2\n",
       "        IPython.keyboard_manager.register_events(el);\n",
       "    }\n",
       "\n",
       "}\n",
       "\n",
       "mpl.figure.prototype._key_event_extra = function(event, name) {\n",
       "    var manager = IPython.notebook.keyboard_manager;\n",
       "    if (!manager)\n",
       "        manager = IPython.keyboard_manager;\n",
       "\n",
       "    // Check for shift+enter\n",
       "    if (event.shiftKey && event.which == 13) {\n",
       "        this.canvas_div.blur();\n",
       "        event.shiftKey = false;\n",
       "        // Send a \"J\" for go to next cell\n",
       "        event.which = 74;\n",
       "        event.keyCode = 74;\n",
       "        manager.command_mode();\n",
       "        manager.handle_keydown(event);\n",
       "    }\n",
       "}\n",
       "\n",
       "mpl.figure.prototype.handle_save = function(fig, msg) {\n",
       "    fig.ondownload(fig, null);\n",
       "}\n",
       "\n",
       "\n",
       "mpl.find_output_cell = function(html_output) {\n",
       "    // Return the cell and output element which can be found *uniquely* in the notebook.\n",
       "    // Note - this is a bit hacky, but it is done because the \"notebook_saving.Notebook\"\n",
       "    // IPython event is triggered only after the cells have been serialised, which for\n",
       "    // our purposes (turning an active figure into a static one), is too late.\n",
       "    var cells = IPython.notebook.get_cells();\n",
       "    var ncells = cells.length;\n",
       "    for (var i=0; i<ncells; i++) {\n",
       "        var cell = cells[i];\n",
       "        if (cell.cell_type === 'code'){\n",
       "            for (var j=0; j<cell.output_area.outputs.length; j++) {\n",
       "                var data = cell.output_area.outputs[j];\n",
       "                if (data.data) {\n",
       "                    // IPython >= 3 moved mimebundle to data attribute of output\n",
       "                    data = data.data;\n",
       "                }\n",
       "                if (data['text/html'] == html_output) {\n",
       "                    return [cell, data, j];\n",
       "                }\n",
       "            }\n",
       "        }\n",
       "    }\n",
       "}\n",
       "\n",
       "// Register the function which deals with the matplotlib target/channel.\n",
       "// The kernel may be null if the page has been refreshed.\n",
       "if (IPython.notebook.kernel != null) {\n",
       "    IPython.notebook.kernel.comm_manager.register_target('matplotlib', mpl.mpl_figure_comm);\n",
       "}\n"
      ],
      "text/plain": [
       "<IPython.core.display.Javascript object>"
      ]
     },
     "metadata": {},
     "output_type": "display_data"
    },
    {
     "data": {
      "text/html": [
       "<img src=\"data:image/png;base64,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\" width=\"432\">"
      ],
      "text/plain": [
       "<IPython.core.display.HTML object>"
      ]
     },
     "metadata": {},
     "output_type": "display_data"
    }
   ],
   "source": [
    "# Let's see what these look like\n",
    "%matplotlib notebook\n",
    "plt.plot(times_np,signal,'.-',label=\"Signal 1\")\n",
    "plt.legend()\n",
    "plt.xlabel(\"Time (sec)\")\n",
    "plt.ylabel(\"$y_1=A\\sin(2\\pi t+\\phi)$ (mm)\") #Can render math and greek using LaTeX\n",
    "plt.grid()\n",
    "plt.savefig(\"Example Figure.pdf\")"
   ]
  },
  {
   "cell_type": "code",
   "execution_count": 37,
   "metadata": {},
   "outputs": [
    {
     "data": {
      "image/png": "[encoded data removed]",
      "text/plain": [
       "<Figure size 432x288 with 1 Axes>"
      ]
     },
     "metadata": {
      "needs_background": "light"
     },
     "output_type": "display_data"
    }
   ],
   "source": [
    "#add another signal \n",
    "%matplotlib inline\n",
    "plt.plot(times_np,signal,'.-',label=\"Signal 1\")\n",
    "plt.plot(times_np,signal2,'s-',label=\"Signal 2\")\n",
    "plt.legend()\n",
    "plt.xlabel(\"Time (sec)\")\n",
    "plt.ylabel(\"Signal (mm)\")\n",
    "plt.grid()\n",
    "plt.savefig(\"ExampleFigure2.pdf\")"
   ]
  },
  {
   "cell_type": "markdown",
   "metadata": {},
   "source": [
    "Note: The plt.savefig() commands generated outputs that are publication quality. The command knows what kind of file to use based on the extension. The files are hyperlinked here since they were saved in the same directory as the notebook.\n",
    "\n",
    "[A link to the Example Figure.pdf file](Example%20Figure.pdf)\n",
    "\n",
    "[A link to the ExampleFigure2.pdf file](ExampleFigure2.pdf)\n",
    "\n",
    "You must include %20 as the space character in filenames to link within a file. "
   ]
  },
  {
   "cell_type": "code",
   "execution_count": 38,
   "metadata": {},
   "outputs": [
    {
     "data": {
      "text/plain": [
       "Text(0.5, 1.0, 'Normal Distribution with $\\\\mu = 45$ and $\\\\sigma = 3$')"
      ]
     },
     "execution_count": 38,
     "metadata": {},
     "output_type": "execute_result"
    },
    {
     "data": {
      "image/png": "[encoded data removed]",
      "text/plain": [
       "<Figure size 432x288 with 1 Axes>"
      ]
     },
     "metadata": {
      "needs_background": "light"
     },
     "output_type": "display_data"
    }
   ],
   "source": [
    "# Let's plot something more related to prabablity and statistics.\n",
    "# Plot a  normal distribution\n",
    "mu = 45 #mean value\n",
    "sigma = 3 # Standard Deviation\n",
    "x = np.linspace(mu-3*sigma, mu+3*sigma,1000)\n",
    "y = 1/(np.sqrt(2*pi*sigma))*np.exp(-((x-mu)/sigma)**2)\n",
    "plt.plot(x,y,'-',label=\"Normal Dist.\")\n",
    "plt.legend()\n",
    "plt.xlabel(\"Variable, x\")\n",
    "plt.ylabel(\"Prob. Density Function\")\n",
    "plt.grid()\n",
    "plt.autoscale(enable=True, axis='x', tight=True)\n",
    "plt.title(\"Normal Distribution with $\\mu = {}$ and $\\sigma = {}$\".format(mu,sigma))"
   ]
  },
  {
   "cell_type": "markdown",
   "metadata": {},
   "source": [
    "By the way, the normal (Gaussian) distribution formula is as follows:\n",
    "\n",
    "```\n",
    "$$f(x)=\\frac{1}{\\sqrt{2\\pi\\sigma^2}}\\exp\\left[-\\left(\\frac{x-\\mu}{\\sigma}\\right)^2\\right]$$\n",
    "```\n",
    "\n",
    "$$f(x)=\\frac{1}{\\sqrt{2\\pi\\sigma^2}}\\exp\\left[-\\left(\\frac{x-\\mu}{\\sigma}\\right)^2\\right]$$\n",
    "\n",
    "where $\\mu$ is the mean and $\\sigma$ is the standard deviation.\n",
    "\n",
    "https://docs.scipy.org/doc/scipy/reference/generated/scipy.stats.norm.html\n"
   ]
  },
  {
   "cell_type": "code",
   "execution_count": 39,
   "metadata": {},
   "outputs": [],
   "source": [
    "# When performing calculations with a normal distribution, \n",
    "# it's really nice to have all the functions available\n",
    "from scipy.stats import norm"
   ]
  },
  {
   "cell_type": "markdown",
   "metadata": {},
   "source": [
    "Let's make a nice graph and annotate some of its features. \n",
    "\n",
    "https://matplotlib.org/tutorials/text/annotations.html \n",
    "\n",
    "There are many nice looking examples:\n",
    "\n",
    "https://matplotlib.org/gallery/userdemo/connectionstyle_demo.html"
   ]
  },
  {
   "cell_type": "code",
   "execution_count": 40,
   "metadata": {},
   "outputs": [
    {
     "data": {
      "image/png": "[encoded data removed]",
      "text/plain": [
       "<Figure size 432x288 with 1 Axes>"
      ]
     },
     "metadata": {
      "needs_background": "light"
     },
     "output_type": "display_data"
    }
   ],
   "source": [
    "# Replot the normal curve\n",
    "plt.plot(x,y,'-',label=\"Normal Dist.\")\n",
    "plt.legend()\n",
    "plt.xlabel(\"Variable, x\")\n",
    "plt.ylabel(\"Prob. Density Function\")\n",
    "plt.grid()\n",
    "plt.autoscale(enable=True, axis='x', tight=True)\n",
    "plt.title(\"Normal Distribution with $\\mu = {}$ and $\\sigma = {}$\".format(mu,sigma))\n",
    "\n",
    "# Show the inflection point on the normal curve.\n",
    "X3 = mu-sigma\n",
    "inflect_point = norm.pdf(X3, mu, sigma)\n",
    "\n",
    "plt.annotate(\"Inflection Point\", \n",
    "             xy = (X3, inflect_point), \n",
    "             xycoords = 'data', \n",
    "             xytext=(.1, .9), \n",
    "             textcoords='axes fraction', \n",
    "             arrowprops=dict(arrowstyle=\"fancy\",\n",
    "                             connectionstyle=\"arc3,rad=0.3\",\n",
    "                             ),\n",
    "             bbox=dict(boxstyle=\"Round4,pad=0.3\", \n",
    "                       fc=\"cyan\", \n",
    "                       ec=\"b\", \n",
    "                       lw=2),\n",
    "            )\n",
    "\n",
    "#Save this figure based on the mean and standard deviation\n",
    "plt.savefig(\"Normal Dist ({:0.3f} {:0.3f}).pdf\".format(mu,sigma))"
   ]
  },
  {
   "cell_type": "markdown",
   "metadata": {},
   "source": [
    "# Python Variables\n",
    "Never use the words listed on this page as variables since they are built-in Python functions:\n",
    "\n",
    "https://docs.python.org/3/library/functions.html"
   ]
  },
  {
   "cell_type": "code",
   "execution_count": 41,
   "metadata": {},
   "outputs": [
    {
     "ename": "SyntaxError",
     "evalue": "invalid syntax (<ipython-input-41-0b90aa1f44c9>, line 1)",
     "output_type": "error",
     "traceback": [
      "\u001b[1;36m  File \u001b[1;32m\"<ipython-input-41-0b90aa1f44c9>\"\u001b[1;36m, line \u001b[1;32m1\u001b[0m\n\u001b[1;33m    class = 45 #Why does this not work? The word class is protected in Python.\u001b[0m\n\u001b[1;37m          ^\u001b[0m\n\u001b[1;31mSyntaxError\u001b[0m\u001b[1;31m:\u001b[0m invalid syntax\n"
     ]
    }
   ],
   "source": [
    "class = 45 #Why does this not work? The word class is protected in Python."
   ]
  },
  {
   "cell_type": "code",
   "execution_count": 42,
   "metadata": {},
   "outputs": [
    {
     "data": {
      "text/plain": [
       "['False',\n",
       " 'None',\n",
       " 'True',\n",
       " 'and',\n",
       " 'as',\n",
       " 'assert',\n",
       " 'async',\n",
       " 'await',\n",
       " 'break',\n",
       " 'class',\n",
       " 'continue',\n",
       " 'def',\n",
       " 'del',\n",
       " 'elif',\n",
       " 'else',\n",
       " 'except',\n",
       " 'finally',\n",
       " 'for',\n",
       " 'from',\n",
       " 'global',\n",
       " 'if',\n",
       " 'import',\n",
       " 'in',\n",
       " 'is',\n",
       " 'lambda',\n",
       " 'nonlocal',\n",
       " 'not',\n",
       " 'or',\n",
       " 'pass',\n",
       " 'raise',\n",
       " 'return',\n",
       " 'try',\n",
       " 'while',\n",
       " 'with',\n",
       " 'yield']"
      ]
     },
     "execution_count": 42,
     "metadata": {},
     "output_type": "execute_result"
    }
   ],
   "source": [
    "# These words are reserved and cannot be used for variables in Python\n",
    "import keyword\n",
    "keyword.kwlist"
   ]
  },
  {
   "cell_type": "code",
   "execution_count": 43,
   "metadata": {},
   "outputs": [
    {
     "data": {
      "text/plain": [
       "['In',\n",
       " 'N',\n",
       " 'Out',\n",
       " 'X3',\n",
       " '_',\n",
       " '_10',\n",
       " '_14',\n",
       " '_16',\n",
       " '_18',\n",
       " '_19',\n",
       " '_2',\n",
       " '_20',\n",
       " '_21',\n",
       " '_26',\n",
       " '_27',\n",
       " '_29',\n",
       " '_3',\n",
       " '_31',\n",
       " '_32',\n",
       " '_33',\n",
       " '_35',\n",
       " '_38',\n",
       " '_4',\n",
       " '_42',\n",
       " '_5',\n",
       " '_6',\n",
       " '_7',\n",
       " '_8',\n",
       " '_9',\n",
       " '__',\n",
       " '___',\n",
       " '__builtin__',\n",
       " '__builtins__',\n",
       " '__doc__',\n",
       " '__loader__',\n",
       " '__name__',\n",
       " '__package__',\n",
       " '__spec__',\n",
       " '_dh',\n",
       " '_i',\n",
       " '_i1',\n",
       " '_i10',\n",
       " '_i11',\n",
       " '_i12',\n",
       " '_i13',\n",
       " '_i14',\n",
       " '_i15',\n",
       " '_i16',\n",
       " '_i17',\n",
       " '_i18',\n",
       " '_i19',\n",
       " '_i2',\n",
       " '_i20',\n",
       " '_i21',\n",
       " '_i22',\n",
       " '_i23',\n",
       " '_i24',\n",
       " '_i25',\n",
       " '_i26',\n",
       " '_i27',\n",
       " '_i28',\n",
       " '_i29',\n",
       " '_i3',\n",
       " '_i30',\n",
       " '_i31',\n",
       " '_i32',\n",
       " '_i33',\n",
       " '_i34',\n",
       " '_i35',\n",
       " '_i36',\n",
       " '_i37',\n",
       " '_i38',\n",
       " '_i39',\n",
       " '_i4',\n",
       " '_i40',\n",
       " '_i41',\n",
       " '_i42',\n",
       " '_i43',\n",
       " '_i5',\n",
       " '_i6',\n",
       " '_i7',\n",
       " '_i8',\n",
       " '_i9',\n",
       " '_ih',\n",
       " '_ii',\n",
       " '_iii',\n",
       " '_oh',\n",
       " 'a',\n",
       " 'acos',\n",
       " 'acosh',\n",
       " 'amplitude',\n",
       " 'asin',\n",
       " 'asinh',\n",
       " 'atan',\n",
       " 'atan2',\n",
       " 'atanh',\n",
       " 'b',\n",
       " 'ceil',\n",
       " 'copysign',\n",
       " 'cos',\n",
       " 'cosh',\n",
       " 'degrees',\n",
       " 'e',\n",
       " 'erf',\n",
       " 'erfc',\n",
       " 'exit',\n",
       " 'exp',\n",
       " 'expm1',\n",
       " 'fabs',\n",
       " 'factorial',\n",
       " 'floor',\n",
       " 'fmod',\n",
       " 'frequency',\n",
       " 'frexp',\n",
       " 'fsum',\n",
       " 'gamma',\n",
       " 'gcd',\n",
       " 'get_ipython',\n",
       " 'hypot',\n",
       " 'i',\n",
       " 'inf',\n",
       " 'inflect_point',\n",
       " 'isclose',\n",
       " 'isfinite',\n",
       " 'isinf',\n",
       " 'isnan',\n",
       " 'keyword',\n",
       " 'ldexp',\n",
       " 'lgamma',\n",
       " 'log',\n",
       " 'log10',\n",
       " 'log1p',\n",
       " 'log2',\n",
       " 'lower',\n",
       " 'math',\n",
       " 'modf',\n",
       " 'mu',\n",
       " 'nan',\n",
       " 'norm',\n",
       " 'np',\n",
       " 'phase',\n",
       " 'pi',\n",
       " 'plt',\n",
       " 'pow',\n",
       " 'quit',\n",
       " 'radians',\n",
       " 'remainder',\n",
       " 'sigma',\n",
       " 'signal',\n",
       " 'signal2',\n",
       " 'sin',\n",
       " 'sinh',\n",
       " 'spacing',\n",
       " 'span',\n",
       " 'sqrt',\n",
       " 'tan',\n",
       " 'tanh',\n",
       " 'tau',\n",
       " 'times',\n",
       " 'times_np',\n",
       " 'trunc',\n",
       " 'upper',\n",
       " 'x',\n",
       " 'y']"
      ]
     },
     "execution_count": 43,
     "metadata": {},
     "output_type": "execute_result"
    }
   ],
   "source": [
    "# These words are also reserved and should not be used for variables in Python\n",
    "dir() #the output of this command changes with context. "
   ]
  },
  {
   "cell_type": "code",
   "execution_count": 44,
   "metadata": {},
   "outputs": [
    {
     "data": {
      "text/plain": [
       "('_abc',\n",
       " '_ast',\n",
       " '_bisect',\n",
       " '_blake2',\n",
       " '_codecs',\n",
       " '_codecs_cn',\n",
       " '_codecs_hk',\n",
       " '_codecs_iso2022',\n",
       " '_codecs_jp',\n",
       " '_codecs_kr',\n",
       " '_codecs_tw',\n",
       " '_collections',\n",
       " '_contextvars',\n",
       " '_csv',\n",
       " '_datetime',\n",
       " '_functools',\n",
       " '_heapq',\n",
       " '_imp',\n",
       " '_io',\n",
       " '_json',\n",
       " '_locale',\n",
       " '_lsprof',\n",
       " '_md5',\n",
       " '_multibytecodec',\n",
       " '_opcode',\n",
       " '_operator',\n",
       " '_pickle',\n",
       " '_random',\n",
       " '_sha1',\n",
       " '_sha256',\n",
       " '_sha3',\n",
       " '_sha512',\n",
       " '_signal',\n",
       " '_sre',\n",
       " '_stat',\n",
       " '_string',\n",
       " '_struct',\n",
       " '_symtable',\n",
       " '_thread',\n",
       " '_tracemalloc',\n",
       " '_warnings',\n",
       " '_weakref',\n",
       " '_winapi',\n",
       " 'array',\n",
       " 'atexit',\n",
       " 'audioop',\n",
       " 'binascii',\n",
       " 'builtins',\n",
       " 'cmath',\n",
       " 'errno',\n",
       " 'faulthandler',\n",
       " 'gc',\n",
       " 'itertools',\n",
       " 'marshal',\n",
       " 'math',\n",
       " 'mmap',\n",
       " 'msvcrt',\n",
       " 'nt',\n",
       " 'parser',\n",
       " 'sys',\n",
       " 'time',\n",
       " 'winreg',\n",
       " 'xxsubtype',\n",
       " 'zipimport',\n",
       " 'zlib')"
      ]
     },
     "execution_count": 44,
     "metadata": {},
     "output_type": "execute_result"
    }
   ],
   "source": [
    "# These modules are also used and should not be used for variables in Python\n",
    "import sys\n",
    "sys.builtin_module_names"
   ]
  },
  {
   "cell_type": "code",
   "execution_count": 45,
   "metadata": {},
   "outputs": [
    {
     "data": {
      "text/plain": [
       "['In',\n",
       " 'N',\n",
       " 'Out',\n",
       " 'X3',\n",
       " '_',\n",
       " '_10',\n",
       " '_14',\n",
       " '_16',\n",
       " '_18',\n",
       " '_19',\n",
       " '_2',\n",
       " '_20',\n",
       " '_21',\n",
       " '_26',\n",
       " '_27',\n",
       " '_29',\n",
       " '_3',\n",
       " '_31',\n",
       " '_32',\n",
       " '_33',\n",
       " '_35',\n",
       " '_38',\n",
       " '_4',\n",
       " '_42',\n",
       " '_43',\n",
       " '_44',\n",
       " '_5',\n",
       " '_6',\n",
       " '_7',\n",
       " '_8',\n",
       " '_9',\n",
       " '__',\n",
       " '___',\n",
       " '__builtin__',\n",
       " '__builtins__',\n",
       " '__doc__',\n",
       " '__loader__',\n",
       " '__name__',\n",
       " '__package__',\n",
       " '__spec__',\n",
       " '_dh',\n",
       " '_i',\n",
       " '_i1',\n",
       " '_i10',\n",
       " '_i11',\n",
       " '_i12',\n",
       " '_i13',\n",
       " '_i14',\n",
       " '_i15',\n",
       " '_i16',\n",
       " '_i17',\n",
       " '_i18',\n",
       " '_i19',\n",
       " '_i2',\n",
       " '_i20',\n",
       " '_i21',\n",
       " '_i22',\n",
       " '_i23',\n",
       " '_i24',\n",
       " '_i25',\n",
       " '_i26',\n",
       " '_i27',\n",
       " '_i28',\n",
       " '_i29',\n",
       " '_i3',\n",
       " '_i30',\n",
       " '_i31',\n",
       " '_i32',\n",
       " '_i33',\n",
       " '_i34',\n",
       " '_i35',\n",
       " '_i36',\n",
       " '_i37',\n",
       " '_i38',\n",
       " '_i39',\n",
       " '_i4',\n",
       " '_i40',\n",
       " '_i41',\n",
       " '_i42',\n",
       " '_i43',\n",
       " '_i44',\n",
       " '_i45',\n",
       " '_i5',\n",
       " '_i6',\n",
       " '_i7',\n",
       " '_i8',\n",
       " '_i9',\n",
       " '_ih',\n",
       " '_ii',\n",
       " '_iii',\n",
       " '_oh',\n",
       " 'a',\n",
       " 'acos',\n",
       " 'acosh',\n",
       " 'amplitude',\n",
       " 'asin',\n",
       " 'asinh',\n",
       " 'atan',\n",
       " 'atan2',\n",
       " 'atanh',\n",
       " 'b',\n",
       " 'ceil',\n",
       " 'copysign',\n",
       " 'cos',\n",
       " 'cosh',\n",
       " 'degrees',\n",
       " 'e',\n",
       " 'erf',\n",
       " 'erfc',\n",
       " 'exit',\n",
       " 'exp',\n",
       " 'expm1',\n",
       " 'fabs',\n",
       " 'factorial',\n",
       " 'floor',\n",
       " 'fmod',\n",
       " 'frequency',\n",
       " 'frexp',\n",
       " 'fsum',\n",
       " 'gamma',\n",
       " 'gcd',\n",
       " 'get_ipython',\n",
       " 'hypot',\n",
       " 'i',\n",
       " 'inf',\n",
       " 'inflect_point',\n",
       " 'isclose',\n",
       " 'isfinite',\n",
       " 'isinf',\n",
       " 'isnan',\n",
       " 'keyword',\n",
       " 'ldexp',\n",
       " 'lgamma',\n",
       " 'log',\n",
       " 'log10',\n",
       " 'log1p',\n",
       " 'log2',\n",
       " 'lower',\n",
       " 'math',\n",
       " 'modf',\n",
       " 'mu',\n",
       " 'nan',\n",
       " 'norm',\n",
       " 'np',\n",
       " 'phase',\n",
       " 'pi',\n",
       " 'plt',\n",
       " 'pow',\n",
       " 'quit',\n",
       " 'radians',\n",
       " 'remainder',\n",
       " 'sigma',\n",
       " 'signal',\n",
       " 'signal2',\n",
       " 'sin',\n",
       " 'sinh',\n",
       " 'spacing',\n",
       " 'span',\n",
       " 'sqrt',\n",
       " 'sys',\n",
       " 'tan',\n",
       " 'tanh',\n",
       " 'tau',\n",
       " 'times',\n",
       " 'times_np',\n",
       " 'trunc',\n",
       " 'upper',\n",
       " 'x',\n",
       " 'y']"
      ]
     },
     "execution_count": 45,
     "metadata": {},
     "output_type": "execute_result"
    }
   ],
   "source": [
    "dir()"
   ]
  },
  {
   "cell_type": "markdown",
   "metadata": {},
   "source": [
    "### Jupyter Extensions\n",
    "Spell checking is a nice feature for the markdown portions of the notebook.\n",
    "There is no spell checker by default. However, you can install one using the following procedure:\n",
    "1. Open the Anaconda Prompt from the start menu.\n",
    "2. From the command prompt, perform these commands:\n",
    "\n",
    "`pip install jupyter_contrib_nbextensions`\n",
    "\n",
    "`jupyter contrib nbextension install --user`\n",
    "\n",
    "`jupyter nbextension enable spellchecker/main`\n",
    "\n"
   ]
  },
  {
   "cell_type": "code",
   "execution_count": null,
   "metadata": {},
   "outputs": [],
   "source": [
    "# Use the magic commands to install packages for Jupyter. \n",
    "%pip install jupyter_contrib_nbextensions"
   ]
  },
  {
   "cell_type": "markdown",
   "metadata": {},
   "source": [
    "## Summary\n",
    "This notebook introduces students to some of the features of Python and Jupyter. By the end, we were able to visualize probability density functions using matplotlib and scipy."
   ]
  }
 ],
 "metadata": {
  "kernelspec": {
   "display_name": "Python 3",
   "language": "python",
   "name": "python3"
  },
  "language_info": {
   "codemirror_mode": {
    "name": "ipython",
    "version": 3
   },
   "file_extension": ".py",
   "mimetype": "text/x-python",
   "name": "python",
   "nbconvert_exporter": "python",
   "pygments_lexer": "ipython3",
   "version": "3.7.4"
  }
 },
 "nbformat": 4,
 "nbformat_minor": 2
}
