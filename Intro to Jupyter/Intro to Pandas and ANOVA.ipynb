{
 "cells": [
  {
   "cell_type": "markdown",
   "metadata": {},
   "source": [
    "# <center> Introduction to Pandas and Statsmodels and ANOVA\n",
    "## <center> <img src=\"https://www.engr.colostate.edu/~jdaily/Systems-EN-CSU-1-C357.svg\" width=\"400\" /> \n",
    "### <center> Instructor: Dr. Jeremy Daily"
   ]
  },
  {
   "cell_type": "markdown",
   "metadata": {},
   "source": [
    "\"All models are wrong; some models are useful.\" - Box, Hunter and Hunter"
   ]
  },
  {
   "cell_type": "markdown",
   "metadata": {},
   "source": [
    "### Randomized Block Experiments\n",
    "In a paired comparison, the difference between two treatments were analyzed. However, this approach breaks down if there are multiple treatments. \n",
    "\n",
    "Consider an experiment to manufacture penicillin with four different variants of a process. We'll label these process A, B, C, and D. However, the raw material used to make the medicine also introduces variation in the process. Therefore, a design that randomized the raw material would be too noisy. Instead, the raw material was blocked and the treatments (ABCD) were randomly assigned within each of the blends of raw material. There were 5 blends to use, so the blend of the raw material was used as a blocking variable.\n",
    "\n",
    "The order of the treatments (ABCD) were randomized within each block.\n",
    "\n",
    "The results were tabulated as follows:\n",
    "\n",
    "| Block |   A   |   B   |   C   |   D   | Block Averages | Block Deviations |\n",
    "| --- | --- | --- | --- | --- | --- | --- |\n",
    "| Blend 1 | 89 | 88 | 97 | 94 | 92 | +6 |\n",
    "| Blend 2 | 84 | 77 | 92 | 79 | 83 | -3 |\n",
    "| Blend 3 | 81 | 87 | 87 | 85 | 85 | -1 |\n",
    "| Blend 4 | 87 | 92 | 89 | 84 | 88 | +2 |\n",
    "| Blend 5 | 79 | 81 | 80 | 88 | 82 | -4 |\n",
    "| Treatment Averages | 84 | 85 | 89 | 86| Grand Average: 86 |\n",
    "| Treatment Deviations | -2 | -1 | +3| 0 | |\n",
    "\n"
   ]
  },
  {
   "cell_type": "markdown",
   "metadata": {},
   "source": [
    "## Pandas\n",
    "Pandas are a modern data science tool for Python.\n",
    "\n",
    "https://pandas.pydata.org/. \n",
    "\n",
    "They help put data into easy to use forms and have a lot of useful tools for performing analysis and visualization."
   ]
  },
  {
   "cell_type": "code",
   "execution_count": 1,
   "metadata": {},
   "outputs": [],
   "source": [
    "import pandas as pd"
   ]
  },
  {
   "cell_type": "markdown",
   "metadata": {},
   "source": [
    "First, we need to get data into the machine. Often we'll have text based data that's separated with a delimiter.\n",
    "\n",
    "https://pandas.pydata.org/pandas-docs/stable/reference/api/pandas.read_csv.html"
   ]
  },
  {
   "cell_type": "code",
   "execution_count": 2,
   "metadata": {},
   "outputs": [
    {
     "data": {
      "text/html": [
       "<div>\n",
       "<style scoped>\n",
       "    .dataframe tbody tr th:only-of-type {\n",
       "        vertical-align: middle;\n",
       "    }\n",
       "\n",
       "    .dataframe tbody tr th {\n",
       "        vertical-align: top;\n",
       "    }\n",
       "\n",
       "    .dataframe thead th {\n",
       "        text-align: right;\n",
       "    }\n",
       "</style>\n",
       "<table border=\"1\" class=\"dataframe\">\n",
       "  <thead>\n",
       "    <tr style=\"text-align: right;\">\n",
       "      <th></th>\n",
       "      <th>run</th>\n",
       "      <th>block</th>\n",
       "      <th>treatment</th>\n",
       "      <th>y</th>\n",
       "    </tr>\n",
       "  </thead>\n",
       "  <tbody>\n",
       "    <tr>\n",
       "      <th>0</th>\n",
       "      <td>1</td>\n",
       "      <td>1</td>\n",
       "      <td>A</td>\n",
       "      <td>89</td>\n",
       "    </tr>\n",
       "    <tr>\n",
       "      <th>1</th>\n",
       "      <td>4</td>\n",
       "      <td>2</td>\n",
       "      <td>A</td>\n",
       "      <td>84</td>\n",
       "    </tr>\n",
       "    <tr>\n",
       "      <th>2</th>\n",
       "      <td>2</td>\n",
       "      <td>3</td>\n",
       "      <td>A</td>\n",
       "      <td>81</td>\n",
       "    </tr>\n",
       "    <tr>\n",
       "      <th>3</th>\n",
       "      <td>1</td>\n",
       "      <td>4</td>\n",
       "      <td>A</td>\n",
       "      <td>87</td>\n",
       "    </tr>\n",
       "    <tr>\n",
       "      <th>4</th>\n",
       "      <td>3</td>\n",
       "      <td>5</td>\n",
       "      <td>A</td>\n",
       "      <td>79</td>\n",
       "    </tr>\n",
       "    <tr>\n",
       "      <th>5</th>\n",
       "      <td>3</td>\n",
       "      <td>1</td>\n",
       "      <td>B</td>\n",
       "      <td>88</td>\n",
       "    </tr>\n",
       "    <tr>\n",
       "      <th>6</th>\n",
       "      <td>2</td>\n",
       "      <td>2</td>\n",
       "      <td>B</td>\n",
       "      <td>77</td>\n",
       "    </tr>\n",
       "    <tr>\n",
       "      <th>7</th>\n",
       "      <td>1</td>\n",
       "      <td>3</td>\n",
       "      <td>B</td>\n",
       "      <td>87</td>\n",
       "    </tr>\n",
       "    <tr>\n",
       "      <th>8</th>\n",
       "      <td>3</td>\n",
       "      <td>4</td>\n",
       "      <td>B</td>\n",
       "      <td>92</td>\n",
       "    </tr>\n",
       "    <tr>\n",
       "      <th>9</th>\n",
       "      <td>4</td>\n",
       "      <td>5</td>\n",
       "      <td>B</td>\n",
       "      <td>81</td>\n",
       "    </tr>\n",
       "    <tr>\n",
       "      <th>10</th>\n",
       "      <td>2</td>\n",
       "      <td>1</td>\n",
       "      <td>C</td>\n",
       "      <td>97</td>\n",
       "    </tr>\n",
       "    <tr>\n",
       "      <th>11</th>\n",
       "      <td>3</td>\n",
       "      <td>2</td>\n",
       "      <td>C</td>\n",
       "      <td>92</td>\n",
       "    </tr>\n",
       "    <tr>\n",
       "      <th>12</th>\n",
       "      <td>4</td>\n",
       "      <td>3</td>\n",
       "      <td>C</td>\n",
       "      <td>87</td>\n",
       "    </tr>\n",
       "    <tr>\n",
       "      <th>13</th>\n",
       "      <td>2</td>\n",
       "      <td>4</td>\n",
       "      <td>C</td>\n",
       "      <td>89</td>\n",
       "    </tr>\n",
       "    <tr>\n",
       "      <th>14</th>\n",
       "      <td>1</td>\n",
       "      <td>5</td>\n",
       "      <td>C</td>\n",
       "      <td>80</td>\n",
       "    </tr>\n",
       "    <tr>\n",
       "      <th>15</th>\n",
       "      <td>4</td>\n",
       "      <td>1</td>\n",
       "      <td>D</td>\n",
       "      <td>94</td>\n",
       "    </tr>\n",
       "    <tr>\n",
       "      <th>16</th>\n",
       "      <td>1</td>\n",
       "      <td>2</td>\n",
       "      <td>D</td>\n",
       "      <td>79</td>\n",
       "    </tr>\n",
       "    <tr>\n",
       "      <th>17</th>\n",
       "      <td>3</td>\n",
       "      <td>3</td>\n",
       "      <td>D</td>\n",
       "      <td>85</td>\n",
       "    </tr>\n",
       "    <tr>\n",
       "      <th>18</th>\n",
       "      <td>4</td>\n",
       "      <td>4</td>\n",
       "      <td>D</td>\n",
       "      <td>84</td>\n",
       "    </tr>\n",
       "    <tr>\n",
       "      <th>19</th>\n",
       "      <td>2</td>\n",
       "      <td>5</td>\n",
       "      <td>D</td>\n",
       "      <td>88</td>\n",
       "    </tr>\n",
       "  </tbody>\n",
       "</table>\n",
       "</div>"
      ],
      "text/plain": [
       "    run  block treatment   y\n",
       "0     1      1         A  89\n",
       "1     4      2         A  84\n",
       "2     2      3         A  81\n",
       "3     1      4         A  87\n",
       "4     3      5         A  79\n",
       "5     3      1         B  88\n",
       "6     2      2         B  77\n",
       "7     1      3         B  87\n",
       "8     3      4         B  92\n",
       "9     4      5         B  81\n",
       "10    2      1         C  97\n",
       "11    3      2         C  92\n",
       "12    4      3         C  87\n",
       "13    2      4         C  89\n",
       "14    1      5         C  80\n",
       "15    4      1         D  94\n",
       "16    1      2         D  79\n",
       "17    3      3         D  85\n",
       "18    4      4         D  84\n",
       "19    2      5         D  88"
      ]
     },
     "execution_count": 2,
     "metadata": {},
     "output_type": "execute_result"
    }
   ],
   "source": [
    "# Example from Penicillin Yield Example\n",
    "data = \"\"\"run block treatment  y\n",
    "  1     1     A 89\n",
    "  4     2     A 84\n",
    "  2     3     A 81\n",
    "  1     4     A 87\n",
    "  3     5     A 79\n",
    "  3     1     B 88\n",
    "  2     2     B 77\n",
    "  1     3     B 87\n",
    "  3     4     B 92\n",
    "  4     5     B 81\n",
    "  2     1     C 97\n",
    "  3     2     C 92\n",
    "  4     3     C 87\n",
    "  2     4     C 89\n",
    "  1     5     C 80\n",
    "  4     1     D 94\n",
    "  1     2     D 79\n",
    "  3     3     D 85\n",
    "  4     4     D 84\n",
    "  2     5     D 88\"\"\"\n",
    "#Make a file like IO for the data and import the data into a pandas data frame\n",
    "with open('data.txt','w') as f:\n",
    "    f.write(data)\n",
    "\n",
    "df = pd.read_csv(\"data.txt\", sep=' ', skipinitialspace=True)\n",
    "#Show the pandas dataframe\n",
    "df"
   ]
  },
  {
   "cell_type": "code",
   "execution_count": 3,
   "metadata": {},
   "outputs": [
    {
     "data": {
      "text/html": [
       "<div>\n",
       "<style scoped>\n",
       "    .dataframe tbody tr th:only-of-type {\n",
       "        vertical-align: middle;\n",
       "    }\n",
       "\n",
       "    .dataframe tbody tr th {\n",
       "        vertical-align: top;\n",
       "    }\n",
       "\n",
       "    .dataframe thead th {\n",
       "        text-align: right;\n",
       "    }\n",
       "</style>\n",
       "<table border=\"1\" class=\"dataframe\">\n",
       "  <thead>\n",
       "    <tr style=\"text-align: right;\">\n",
       "      <th></th>\n",
       "      <th>run</th>\n",
       "      <th>block</th>\n",
       "      <th>y</th>\n",
       "    </tr>\n",
       "    <tr>\n",
       "      <th>treatment</th>\n",
       "      <th></th>\n",
       "      <th></th>\n",
       "      <th></th>\n",
       "    </tr>\n",
       "  </thead>\n",
       "  <tbody>\n",
       "    <tr>\n",
       "      <th>A</th>\n",
       "      <td>2.2</td>\n",
       "      <td>3.0</td>\n",
       "      <td>84.0</td>\n",
       "    </tr>\n",
       "    <tr>\n",
       "      <th>B</th>\n",
       "      <td>2.6</td>\n",
       "      <td>3.0</td>\n",
       "      <td>85.0</td>\n",
       "    </tr>\n",
       "    <tr>\n",
       "      <th>C</th>\n",
       "      <td>2.4</td>\n",
       "      <td>3.0</td>\n",
       "      <td>89.0</td>\n",
       "    </tr>\n",
       "    <tr>\n",
       "      <th>D</th>\n",
       "      <td>2.8</td>\n",
       "      <td>3.0</td>\n",
       "      <td>86.0</td>\n",
       "    </tr>\n",
       "  </tbody>\n",
       "</table>\n",
       "</div>"
      ],
      "text/plain": [
       "           run  block     y\n",
       "treatment                  \n",
       "A          2.2    3.0  84.0\n",
       "B          2.6    3.0  85.0\n",
       "C          2.4    3.0  89.0\n",
       "D          2.8    3.0  86.0"
      ]
     },
     "execution_count": 3,
     "metadata": {},
     "output_type": "execute_result"
    }
   ],
   "source": [
    "#treatment Averages \n",
    "# See bottom of Table \n",
    "df.groupby(['treatment']).mean()"
   ]
  },
  {
   "cell_type": "code",
   "execution_count": 4,
   "metadata": {},
   "outputs": [
    {
     "data": {
      "text/html": [
       "<div>\n",
       "<style scoped>\n",
       "    .dataframe tbody tr th:only-of-type {\n",
       "        vertical-align: middle;\n",
       "    }\n",
       "\n",
       "    .dataframe tbody tr th {\n",
       "        vertical-align: top;\n",
       "    }\n",
       "\n",
       "    .dataframe thead th {\n",
       "        text-align: right;\n",
       "    }\n",
       "</style>\n",
       "<table border=\"1\" class=\"dataframe\">\n",
       "  <thead>\n",
       "    <tr style=\"text-align: right;\">\n",
       "      <th></th>\n",
       "      <th>run</th>\n",
       "      <th>y</th>\n",
       "    </tr>\n",
       "    <tr>\n",
       "      <th>block</th>\n",
       "      <th></th>\n",
       "      <th></th>\n",
       "    </tr>\n",
       "  </thead>\n",
       "  <tbody>\n",
       "    <tr>\n",
       "      <th>1</th>\n",
       "      <td>2.5</td>\n",
       "      <td>92.0</td>\n",
       "    </tr>\n",
       "    <tr>\n",
       "      <th>2</th>\n",
       "      <td>2.5</td>\n",
       "      <td>83.0</td>\n",
       "    </tr>\n",
       "    <tr>\n",
       "      <th>3</th>\n",
       "      <td>2.5</td>\n",
       "      <td>85.0</td>\n",
       "    </tr>\n",
       "    <tr>\n",
       "      <th>4</th>\n",
       "      <td>2.5</td>\n",
       "      <td>88.0</td>\n",
       "    </tr>\n",
       "    <tr>\n",
       "      <th>5</th>\n",
       "      <td>2.5</td>\n",
       "      <td>82.0</td>\n",
       "    </tr>\n",
       "  </tbody>\n",
       "</table>\n",
       "</div>"
      ],
      "text/plain": [
       "       run     y\n",
       "block           \n",
       "1      2.5  92.0\n",
       "2      2.5  83.0\n",
       "3      2.5  85.0\n",
       "4      2.5  88.0\n",
       "5      2.5  82.0"
      ]
     },
     "execution_count": 4,
     "metadata": {},
     "output_type": "execute_result"
    }
   ],
   "source": [
    "## Block Averages\n",
    "# See right side of Table \n",
    "df.groupby(['block']).mean()"
   ]
  },
  {
   "cell_type": "code",
   "execution_count": 5,
   "metadata": {},
   "outputs": [
    {
     "data": {
      "text/plain": [
       "run       2.5\n",
       "block     3.0\n",
       "y        86.0\n",
       "dtype: float64"
      ]
     },
     "execution_count": 5,
     "metadata": {},
     "output_type": "execute_result"
    }
   ],
   "source": [
    "df.mean()"
   ]
  },
  {
   "cell_type": "code",
   "execution_count": 6,
   "metadata": {},
   "outputs": [
    {
     "data": {
      "text/plain": [
       "86.0"
      ]
     },
     "execution_count": 6,
     "metadata": {},
     "output_type": "execute_result"
    }
   ],
   "source": [
    "grand_average = df.mean()['y']\n",
    "grand_average"
   ]
  },
  {
   "cell_type": "code",
   "execution_count": 7,
   "metadata": {},
   "outputs": [
    {
     "data": {
      "text/html": [
       "<div>\n",
       "<style scoped>\n",
       "    .dataframe tbody tr th:only-of-type {\n",
       "        vertical-align: middle;\n",
       "    }\n",
       "\n",
       "    .dataframe tbody tr th {\n",
       "        vertical-align: top;\n",
       "    }\n",
       "\n",
       "    .dataframe thead th {\n",
       "        text-align: right;\n",
       "    }\n",
       "</style>\n",
       "<table border=\"1\" class=\"dataframe\">\n",
       "  <thead>\n",
       "    <tr style=\"text-align: right;\">\n",
       "      <th></th>\n",
       "      <th>run</th>\n",
       "      <th>y</th>\n",
       "    </tr>\n",
       "    <tr>\n",
       "      <th>block</th>\n",
       "      <th></th>\n",
       "      <th></th>\n",
       "    </tr>\n",
       "  </thead>\n",
       "  <tbody>\n",
       "    <tr>\n",
       "      <th>1</th>\n",
       "      <td>-83.5</td>\n",
       "      <td>6.0</td>\n",
       "    </tr>\n",
       "    <tr>\n",
       "      <th>2</th>\n",
       "      <td>-83.5</td>\n",
       "      <td>-3.0</td>\n",
       "    </tr>\n",
       "    <tr>\n",
       "      <th>3</th>\n",
       "      <td>-83.5</td>\n",
       "      <td>-1.0</td>\n",
       "    </tr>\n",
       "    <tr>\n",
       "      <th>4</th>\n",
       "      <td>-83.5</td>\n",
       "      <td>2.0</td>\n",
       "    </tr>\n",
       "    <tr>\n",
       "      <th>5</th>\n",
       "      <td>-83.5</td>\n",
       "      <td>-4.0</td>\n",
       "    </tr>\n",
       "  </tbody>\n",
       "</table>\n",
       "</div>"
      ],
      "text/plain": [
       "        run    y\n",
       "block           \n",
       "1     -83.5  6.0\n",
       "2     -83.5 -3.0\n",
       "3     -83.5 -1.0\n",
       "4     -83.5  2.0\n",
       "5     -83.5 -4.0"
      ]
     },
     "execution_count": 7,
     "metadata": {},
     "output_type": "execute_result"
    }
   ],
   "source": [
    "#Get deviations\n",
    "# See far right of table \n",
    "df.groupby(['block']).mean() - grand_average"
   ]
  },
  {
   "cell_type": "code",
   "execution_count": 8,
   "metadata": {},
   "outputs": [
    {
     "data": {
      "text/html": [
       "<div>\n",
       "<style scoped>\n",
       "    .dataframe tbody tr th:only-of-type {\n",
       "        vertical-align: middle;\n",
       "    }\n",
       "\n",
       "    .dataframe tbody tr th {\n",
       "        vertical-align: top;\n",
       "    }\n",
       "\n",
       "    .dataframe thead th {\n",
       "        text-align: right;\n",
       "    }\n",
       "</style>\n",
       "<table border=\"1\" class=\"dataframe\">\n",
       "  <thead>\n",
       "    <tr style=\"text-align: right;\">\n",
       "      <th></th>\n",
       "      <th>run</th>\n",
       "      <th>block</th>\n",
       "      <th>y</th>\n",
       "    </tr>\n",
       "    <tr>\n",
       "      <th>treatment</th>\n",
       "      <th></th>\n",
       "      <th></th>\n",
       "      <th></th>\n",
       "    </tr>\n",
       "  </thead>\n",
       "  <tbody>\n",
       "    <tr>\n",
       "      <th>A</th>\n",
       "      <td>-83.8</td>\n",
       "      <td>-83.0</td>\n",
       "      <td>-2.0</td>\n",
       "    </tr>\n",
       "    <tr>\n",
       "      <th>B</th>\n",
       "      <td>-83.4</td>\n",
       "      <td>-83.0</td>\n",
       "      <td>-1.0</td>\n",
       "    </tr>\n",
       "    <tr>\n",
       "      <th>C</th>\n",
       "      <td>-83.6</td>\n",
       "      <td>-83.0</td>\n",
       "      <td>3.0</td>\n",
       "    </tr>\n",
       "    <tr>\n",
       "      <th>D</th>\n",
       "      <td>-83.2</td>\n",
       "      <td>-83.0</td>\n",
       "      <td>0.0</td>\n",
       "    </tr>\n",
       "  </tbody>\n",
       "</table>\n",
       "</div>"
      ],
      "text/plain": [
       "            run  block    y\n",
       "treatment                  \n",
       "A         -83.8  -83.0 -2.0\n",
       "B         -83.4  -83.0 -1.0\n",
       "C         -83.6  -83.0  3.0\n",
       "D         -83.2  -83.0  0.0"
      ]
     },
     "execution_count": 8,
     "metadata": {},
     "output_type": "execute_result"
    }
   ],
   "source": [
    "#Get deviations\n",
    "# See bottom of table \n",
    "df.groupby(['treatment']).mean() - grand_average"
   ]
  },
  {
   "cell_type": "code",
   "execution_count": 9,
   "metadata": {},
   "outputs": [
    {
     "data": {
      "text/plain": [
       "560.0"
      ]
     },
     "execution_count": 9,
     "metadata": {},
     "output_type": "execute_result"
    }
   ],
   "source": [
    "# Calculate Sum of Squares\n",
    "SS_total = ((df['y']-grand_average)**2).sum()\n",
    "SS_total"
   ]
  },
  {
   "cell_type": "code",
   "execution_count": 10,
   "metadata": {},
   "outputs": [
    {
     "data": {
      "text/plain": [
       "19"
      ]
     },
     "execution_count": 10,
     "metadata": {},
     "output_type": "execute_result"
    }
   ],
   "source": [
    "SS_total_dof = len(df['y']) - 1\n",
    "SS_total_dof"
   ]
  },
  {
   "cell_type": "code",
   "execution_count": 11,
   "metadata": {},
   "outputs": [
    {
     "data": {
      "text/plain": [
       "5"
      ]
     },
     "execution_count": 11,
     "metadata": {},
     "output_type": "execute_result"
    }
   ],
   "source": [
    "n_blocks = len(df.groupby(['block']))\n",
    "n_blocks"
   ]
  },
  {
   "cell_type": "code",
   "execution_count": 12,
   "metadata": {},
   "outputs": [
    {
     "data": {
      "text/plain": [
       "4"
      ]
     },
     "execution_count": 12,
     "metadata": {},
     "output_type": "execute_result"
    }
   ],
   "source": [
    "SS_blocks_dof = n_blocks - 1\n",
    "SS_blocks_dof"
   ]
  },
  {
   "cell_type": "code",
   "execution_count": 13,
   "metadata": {},
   "outputs": [
    {
     "data": {
      "text/plain": [
       "4"
      ]
     },
     "execution_count": 13,
     "metadata": {},
     "output_type": "execute_result"
    }
   ],
   "source": [
    "n_treatments = len(df.groupby(['treatment']))\n",
    "n_treatments"
   ]
  },
  {
   "cell_type": "code",
   "execution_count": 14,
   "metadata": {},
   "outputs": [
    {
     "data": {
      "text/plain": [
       "264.0"
      ]
     },
     "execution_count": 14,
     "metadata": {},
     "output_type": "execute_result"
    }
   ],
   "source": [
    "# Sum of square of the blocks is weighted with the number of treatments\n",
    "SS_blocks = n_treatments*((df.groupby(['block']).mean()['y'] - grand_average)**2).sum()\n",
    "SS_blocks"
   ]
  },
  {
   "cell_type": "code",
   "execution_count": 15,
   "metadata": {},
   "outputs": [
    {
     "data": {
      "text/plain": [
       "70.0"
      ]
     },
     "execution_count": 15,
     "metadata": {},
     "output_type": "execute_result"
    }
   ],
   "source": [
    "# Sum of square of the treatments is weighted with the number of blocks\n",
    "SS_treatments = n_blocks*((df.groupby(['treatment']).mean()['y'] - grand_average)**2).sum()\n",
    "SS_treatments"
   ]
  },
  {
   "cell_type": "code",
   "execution_count": 16,
   "metadata": {},
   "outputs": [
    {
     "data": {
      "text/plain": [
       "3"
      ]
     },
     "execution_count": 16,
     "metadata": {},
     "output_type": "execute_result"
    }
   ],
   "source": [
    "SS_treatments_dof = n_treatments - 1\n",
    "SS_treatments_dof"
   ]
  },
  {
   "cell_type": "code",
   "execution_count": 17,
   "metadata": {},
   "outputs": [
    {
     "data": {
      "text/plain": [
       "0.0"
      ]
     },
     "execution_count": 17,
     "metadata": {},
     "output_type": "execute_result"
    }
   ],
   "source": [
    "#Residuals\n",
    "SS_residuals = ((df.groupby(['treatment']).mean()['y'] - df.groupby(['block']).mean()['y'] - grand_average)**2).sum()\n",
    "SS_residuals"
   ]
  },
  {
   "cell_type": "code",
   "execution_count": 18,
   "metadata": {},
   "outputs": [
    {
     "name": "stdout",
     "output_type": "stream",
     "text": [
      "89 84 92 -1.0\n",
      "84 84 83 3.0\n",
      "81 84 85 -2.0\n",
      "87 84 88 1.0\n",
      "79 84 82 -1.0\n",
      "88 85 92 -3.0\n",
      "77 85 83 -5.0\n",
      "87 85 85 3.0\n",
      "92 85 88 5.0\n",
      "81 85 82 0.0\n",
      "97 89 92 2.0\n",
      "92 89 83 6.0\n",
      "87 89 85 -1.0\n",
      "89 89 88 -2.0\n",
      "80 89 82 -5.0\n",
      "94 86 92 2.0\n",
      "79 86 83 -4.0\n",
      "85 86 85 0.0\n",
      "84 86 88 -4.0\n",
      "88 86 82 6.0\n",
      "0    -1.0\n",
      "1     3.0\n",
      "2    -2.0\n",
      "3     1.0\n",
      "4    -1.0\n",
      "5    -3.0\n",
      "6    -5.0\n",
      "7     3.0\n",
      "8     5.0\n",
      "9     0.0\n",
      "10    2.0\n",
      "11    6.0\n",
      "12   -1.0\n",
      "13   -2.0\n",
      "14   -5.0\n",
      "15    2.0\n",
      "16   -4.0\n",
      "17    0.0\n",
      "18   -4.0\n",
      "19    6.0\n",
      "dtype: float64\n"
     ]
    }
   ],
   "source": [
    "i = 0\n",
    "residuals = []\n",
    "treatments = df.groupby(['treatment'])\n",
    "blocks = df.groupby(['block'])\n",
    "for treats,t_bar in zip(treatments,treatments['y'].mean()):\n",
    "    for b_bar in blocks['y'].mean():\n",
    "        observation = treats[1]['y'][i]\n",
    "        residual =observation - t_bar - b_bar + grand_average\n",
    "        residuals.append(residual)\n",
    "        print(observation,t_bar,b_bar,residual)\n",
    "        i += 1\n",
    "residuals = pd.Series(residuals)\n",
    "print(residuals)"
   ]
  },
  {
   "cell_type": "code",
   "execution_count": 19,
   "metadata": {},
   "outputs": [
    {
     "data": {
      "text/plain": [
       "226.0"
      ]
     },
     "execution_count": 19,
     "metadata": {},
     "output_type": "execute_result"
    }
   ],
   "source": [
    "SS_resid = (residuals**2).sum()\n",
    "SS_resid"
   ]
  },
  {
   "cell_type": "code",
   "execution_count": 20,
   "metadata": {},
   "outputs": [
    {
     "data": {
      "text/plain": [
       "12"
      ]
     },
     "execution_count": 20,
     "metadata": {},
     "output_type": "execute_result"
    }
   ],
   "source": [
    "# Determine the degrees of freedom in the residuals by accounting for the DOF in the\n",
    "# Blocks, treatments, and grand average\n",
    "SS_resid_dof = len(residuals) - SS_blocks_dof - SS_treatments_dof - 1\n",
    "SS_resid_dof = len(residuals) - SS_blocks_dof - SS_treatments_dof - 1\n",
    "SS_resid_dof"
   ]
  },
  {
   "cell_type": "code",
   "execution_count": 21,
   "metadata": {},
   "outputs": [
    {
     "data": {
      "text/plain": [
       "12"
      ]
     },
     "execution_count": 21,
     "metadata": {},
     "output_type": "execute_result"
    }
   ],
   "source": [
    "# Perhaps an easier calculation\n",
    "SS_resid_dof = SS_blocks_dof*SS_treatments_dof\n",
    "SS_resid_dof"
   ]
  },
  {
   "cell_type": "code",
   "execution_count": 22,
   "metadata": {},
   "outputs": [
    {
     "data": {
      "text/plain": [
       "66.0"
      ]
     },
     "execution_count": 22,
     "metadata": {},
     "output_type": "execute_result"
    }
   ],
   "source": [
    "#Calculate Mean Square error\n",
    "MSB = SS_blocks/SS_blocks_dof\n",
    "MSB"
   ]
  },
  {
   "cell_type": "code",
   "execution_count": 23,
   "metadata": {},
   "outputs": [
    {
     "data": {
      "text/plain": [
       "23.333333333333332"
      ]
     },
     "execution_count": 23,
     "metadata": {},
     "output_type": "execute_result"
    }
   ],
   "source": [
    "#Calculate Mean Square error\n",
    "MST = SS_treatments/SS_treatments_dof\n",
    "MST"
   ]
  },
  {
   "cell_type": "code",
   "execution_count": 24,
   "metadata": {},
   "outputs": [
    {
     "data": {
      "text/plain": [
       "18.833333333333332"
      ]
     },
     "execution_count": 24,
     "metadata": {},
     "output_type": "execute_result"
    }
   ],
   "source": [
    "MSR = SS_resid/SS_resid_dof\n",
    "MSR"
   ]
  },
  {
   "cell_type": "code",
   "execution_count": 25,
   "metadata": {},
   "outputs": [
    {
     "data": {
      "text/plain": [
       "3.504424778761062"
      ]
     },
     "execution_count": 25,
     "metadata": {},
     "output_type": "execute_result"
    }
   ],
   "source": [
    "#Determine F ratio\n",
    "F_B = MSB/MSR\n",
    "F_B"
   ]
  },
  {
   "cell_type": "code",
   "execution_count": 26,
   "metadata": {},
   "outputs": [
    {
     "data": {
      "text/plain": [
       "1.238938053097345"
      ]
     },
     "execution_count": 26,
     "metadata": {},
     "output_type": "execute_result"
    }
   ],
   "source": [
    "#Determine F ratio\n",
    "F_T = MST/MSR\n",
    "F_T"
   ]
  },
  {
   "cell_type": "code",
   "execution_count": 27,
   "metadata": {},
   "outputs": [],
   "source": [
    "# Use the F Distribution for calculations\n",
    "from scipy.stats import f"
   ]
  },
  {
   "cell_type": "code",
   "execution_count": 28,
   "metadata": {},
   "outputs": [
    {
     "data": {
      "text/plain": [
       "0.04074617318361785"
      ]
     },
     "execution_count": 28,
     "metadata": {},
     "output_type": "execute_result"
    }
   ],
   "source": [
    "# Determine P Values using the F survival functions\n",
    "p_B = f.sf(F_B,SS_blocks_dof,SS_resid_dof)\n",
    "p_B"
   ]
  },
  {
   "cell_type": "code",
   "execution_count": 29,
   "metadata": {},
   "outputs": [
    {
     "data": {
      "text/plain": [
       "0.33865811618671526"
      ]
     },
     "execution_count": 29,
     "metadata": {},
     "output_type": "execute_result"
    }
   ],
   "source": [
    "p_T = f.sf(F_T,SS_treatments_dof,SS_resid_dof)\n",
    "p_T"
   ]
  },
  {
   "cell_type": "markdown",
   "metadata": {},
   "source": [
    "## Building an ANOVA Table\n",
    "Using the above calculations, we can insert the results into a table. \n",
    "\n",
    "| Source of Variation | Sum of Squares | Degrees of Freedom | Mean Square | F ratio | p value | \n",
    "| :--- | :--- | :--- | :--- | :--- | --: |\n",
    "| Between blocks | $SS_B = 264$ | $\\nu_B = n-1 = 4$ | $MS_B = 66.0$ | $$F_{4,12} = 3.504$$ | 0.0407 | \n",
    "| Between treatments | $SS_T = 70$ | $\\nu_T = k-1 = 3$ | $MS_T = 23.3$ | $$F_{3,12} = 1.239$$ | 0.339 | \n",
    "| Residuals | $SS_R = 226$ | $\\nu_R = \\nu_B \\nu_T  = 12$ | $MS_R = 18.8$ |  | \n",
    "| Deviations from Mean | $$SS_{total} = 560$$ |  $$\\nu_{total} = nk-1 = 19$$  | $$\\quad$$| |\n",
    "\n",
    "The P values were calculated using the F distribution. The conclusions of this analysis says there is a statistically significant difference between the blocks (p=0.0407), but not a significant difference between the treatments (p = 0.339).\n",
    "\n",
    "Practically speaking, the different batch blends use to make the drug dominate the variance and there's little evidence to suggest there is variation dependent on the treatment (ABCD). \n"
   ]
  },
  {
   "cell_type": "markdown",
   "metadata": {},
   "source": [
    "#### Orthogonality\n",
    "Notice the sum of squares add to the total sum of squares. \n",
    "\n",
    "The fundamental ANOVA identity for the effects model is $$SS_{total} = SS_{treatments} + SS_{blocks} + SS_{resid}$$\n"
   ]
  },
  {
   "cell_type": "code",
   "execution_count": 30,
   "metadata": {},
   "outputs": [
    {
     "data": {
      "text/plain": [
       "560.0"
      ]
     },
     "execution_count": 30,
     "metadata": {},
     "output_type": "execute_result"
    }
   ],
   "source": [
    "SS_total"
   ]
  },
  {
   "cell_type": "code",
   "execution_count": 31,
   "metadata": {},
   "outputs": [
    {
     "data": {
      "text/plain": [
       "560.0"
      ]
     },
     "execution_count": 31,
     "metadata": {},
     "output_type": "execute_result"
    }
   ],
   "source": [
    "SS_treatments + SS_blocks + SS_resid"
   ]
  },
  {
   "cell_type": "markdown",
   "metadata": {},
   "source": [
    "### Statistical Models\n",
    "Building tables and models by hand can be time consuming. Let's use some techniques from the R language to build some models to help us. An additive model would be:\n",
    "\n",
    "$$ y_{i,j} = \\mu + \\tau_i +\\beta_j + \\epsilon_{i,j}$$\n",
    "where $i$ = [A, B, C, D] and $j$ = [1,2,3,4,5]\n",
    "\n",
    "The stats models package can help with a lot of the calculation details and help keep you focused on the experiment and design.\n",
    "\n",
    "https://www.statsmodels.org/stable/index.html\n",
    "\n",
    "To set up your model see https://patsy.readthedocs.io/en/latest/"
   ]
  },
  {
   "cell_type": "code",
   "execution_count": 32,
   "metadata": {},
   "outputs": [],
   "source": [
    "import statsmodels.api as sm\n",
    "from statsmodels.formula.api import ols "
   ]
  },
  {
   "cell_type": "code",
   "execution_count": 33,
   "metadata": {},
   "outputs": [
    {
     "data": {
      "text/html": [
       "<div>\n",
       "<style scoped>\n",
       "    .dataframe tbody tr th:only-of-type {\n",
       "        vertical-align: middle;\n",
       "    }\n",
       "\n",
       "    .dataframe tbody tr th {\n",
       "        vertical-align: top;\n",
       "    }\n",
       "\n",
       "    .dataframe thead th {\n",
       "        text-align: right;\n",
       "    }\n",
       "</style>\n",
       "<table border=\"1\" class=\"dataframe\">\n",
       "  <thead>\n",
       "    <tr style=\"text-align: right;\">\n",
       "      <th></th>\n",
       "      <th>df</th>\n",
       "      <th>sum_sq</th>\n",
       "      <th>mean_sq</th>\n",
       "      <th>F</th>\n",
       "      <th>PR(&gt;F)</th>\n",
       "    </tr>\n",
       "  </thead>\n",
       "  <tbody>\n",
       "    <tr>\n",
       "      <th>C(block)</th>\n",
       "      <td>4.0</td>\n",
       "      <td>264.0</td>\n",
       "      <td>66.000000</td>\n",
       "      <td>3.504425</td>\n",
       "      <td>0.040746</td>\n",
       "    </tr>\n",
       "    <tr>\n",
       "      <th>C(treatment)</th>\n",
       "      <td>3.0</td>\n",
       "      <td>70.0</td>\n",
       "      <td>23.333333</td>\n",
       "      <td>1.238938</td>\n",
       "      <td>0.338658</td>\n",
       "    </tr>\n",
       "    <tr>\n",
       "      <th>Residual</th>\n",
       "      <td>12.0</td>\n",
       "      <td>226.0</td>\n",
       "      <td>18.833333</td>\n",
       "      <td>NaN</td>\n",
       "      <td>NaN</td>\n",
       "    </tr>\n",
       "  </tbody>\n",
       "</table>\n",
       "</div>"
      ],
      "text/plain": [
       "                df  sum_sq    mean_sq         F    PR(>F)\n",
       "C(block)       4.0   264.0  66.000000  3.504425  0.040746\n",
       "C(treatment)   3.0    70.0  23.333333  1.238938  0.338658\n",
       "Residual      12.0   226.0  18.833333       NaN       NaN"
      ]
     },
     "execution_count": 33,
     "metadata": {},
     "output_type": "execute_result"
    }
   ],
   "source": [
    "# Use C() to code categorical data\n",
    "model = ols('y ~ C(block) + C(treatment)', data = df).fit() #the mean or intercept is present by default\n",
    "# Carry out the ANOVA wityh defaults:\n",
    "sm.stats.anova_lm(model)"
   ]
  },
  {
   "cell_type": "code",
   "execution_count": 34,
   "metadata": {},
   "outputs": [
    {
     "data": {
      "text/html": [
       "<div>\n",
       "<style scoped>\n",
       "    .dataframe tbody tr th:only-of-type {\n",
       "        vertical-align: middle;\n",
       "    }\n",
       "\n",
       "    .dataframe tbody tr th {\n",
       "        vertical-align: top;\n",
       "    }\n",
       "\n",
       "    .dataframe thead th {\n",
       "        text-align: right;\n",
       "    }\n",
       "</style>\n",
       "<table border=\"1\" class=\"dataframe\">\n",
       "  <thead>\n",
       "    <tr style=\"text-align: right;\">\n",
       "      <th></th>\n",
       "      <th>sum_sq</th>\n",
       "      <th>df</th>\n",
       "      <th>F</th>\n",
       "      <th>PR(&gt;F)</th>\n",
       "    </tr>\n",
       "  </thead>\n",
       "  <tbody>\n",
       "    <tr>\n",
       "      <th>C(block)</th>\n",
       "      <td>264.0</td>\n",
       "      <td>4.0</td>\n",
       "      <td>3.504425</td>\n",
       "      <td>0.040746</td>\n",
       "    </tr>\n",
       "    <tr>\n",
       "      <th>C(treatment)</th>\n",
       "      <td>70.0</td>\n",
       "      <td>3.0</td>\n",
       "      <td>1.238938</td>\n",
       "      <td>0.338658</td>\n",
       "    </tr>\n",
       "    <tr>\n",
       "      <th>Residual</th>\n",
       "      <td>226.0</td>\n",
       "      <td>12.0</td>\n",
       "      <td>NaN</td>\n",
       "      <td>NaN</td>\n",
       "    </tr>\n",
       "  </tbody>\n",
       "</table>\n",
       "</div>"
      ],
      "text/plain": [
       "              sum_sq    df         F    PR(>F)\n",
       "C(block)       264.0   4.0  3.504425  0.040746\n",
       "C(treatment)    70.0   3.0  1.238938  0.338658\n",
       "Residual       226.0  12.0       NaN       NaN"
      ]
     },
     "execution_count": 34,
     "metadata": {},
     "output_type": "execute_result"
    }
   ],
   "source": [
    "# shows ANOVA without the mean square\n",
    "sm.stats.anova_lm(model,typ=2)"
   ]
  },
  {
   "cell_type": "code",
   "execution_count": 35,
   "metadata": {},
   "outputs": [
    {
     "data": {
      "text/html": [
       "<div>\n",
       "<style scoped>\n",
       "    .dataframe tbody tr th:only-of-type {\n",
       "        vertical-align: middle;\n",
       "    }\n",
       "\n",
       "    .dataframe tbody tr th {\n",
       "        vertical-align: top;\n",
       "    }\n",
       "\n",
       "    .dataframe thead th {\n",
       "        text-align: right;\n",
       "    }\n",
       "</style>\n",
       "<table border=\"1\" class=\"dataframe\">\n",
       "  <thead>\n",
       "    <tr style=\"text-align: right;\">\n",
       "      <th></th>\n",
       "      <th>sum_sq</th>\n",
       "      <th>df</th>\n",
       "      <th>F</th>\n",
       "      <th>PR(&gt;F)</th>\n",
       "    </tr>\n",
       "  </thead>\n",
       "  <tbody>\n",
       "    <tr>\n",
       "      <th>Intercept</th>\n",
       "      <td>20250.0</td>\n",
       "      <td>1.0</td>\n",
       "      <td>1075.221239</td>\n",
       "      <td>4.097853e-13</td>\n",
       "    </tr>\n",
       "    <tr>\n",
       "      <th>C(block)</th>\n",
       "      <td>264.0</td>\n",
       "      <td>4.0</td>\n",
       "      <td>3.504425</td>\n",
       "      <td>4.074617e-02</td>\n",
       "    </tr>\n",
       "    <tr>\n",
       "      <th>C(treatment)</th>\n",
       "      <td>70.0</td>\n",
       "      <td>3.0</td>\n",
       "      <td>1.238938</td>\n",
       "      <td>3.386581e-01</td>\n",
       "    </tr>\n",
       "    <tr>\n",
       "      <th>Residual</th>\n",
       "      <td>226.0</td>\n",
       "      <td>12.0</td>\n",
       "      <td>NaN</td>\n",
       "      <td>NaN</td>\n",
       "    </tr>\n",
       "  </tbody>\n",
       "</table>\n",
       "</div>"
      ],
      "text/plain": [
       "               sum_sq    df            F        PR(>F)\n",
       "Intercept     20250.0   1.0  1075.221239  4.097853e-13\n",
       "C(block)        264.0   4.0     3.504425  4.074617e-02\n",
       "C(treatment)     70.0   3.0     1.238938  3.386581e-01\n",
       "Residual        226.0  12.0          NaN           NaN"
      ]
     },
     "execution_count": 35,
     "metadata": {},
     "output_type": "execute_result"
    }
   ],
   "source": [
    "#Includes the mean value as the intercept\n",
    "sm.stats.anova_lm(model, typ=3)"
   ]
  },
  {
   "cell_type": "markdown",
   "metadata": {},
   "source": [
    "### Plot the distributions and test statistic"
   ]
  },
  {
   "cell_type": "code",
   "execution_count": 36,
   "metadata": {},
   "outputs": [],
   "source": [
    "import numpy as np\n",
    "import matplotlib.pyplot as plt"
   ]
  },
  {
   "cell_type": "code",
   "execution_count": 37,
   "metadata": {},
   "outputs": [
    {
     "data": {
      "image/png": "[encoded data removed]",
      "text/plain": [
       "<Figure size 432x288 with 1 Axes>"
      ]
     },
     "metadata": {
      "needs_background": "light"
     },
     "output_type": "display_data"
    }
   ],
   "source": [
    "#Compare to the F Distribution for the row for blocks\n",
    "F_o = F_B\n",
    "dfn = SS_blocks_dof\n",
    "dfd = SS_resid_dof\n",
    "x = np.arange(0.00001,max(f.ppf(0.999,dfn,dfd),F_o),.01)\n",
    "plt.plot(x,f.pdf(x,dfn,dfd),label=\"F-Distribution\")\n",
    "plt.plot(F_o,0,'d',label=\"F Statistic = {:0.2f}\".format(F_o))\n",
    "p_value = f.sf(F_o,dfn,dfd)\n",
    "plt.fill_between(x, 0, f.pdf(x,dfn,dfd),where = x > F_o, label=\"p-value = {:0.4f}\".format(p_value))\n",
    "plt.xlabel('f value = $SS_B/SS_R$')\n",
    "plt.title(\"F Distribution with {} and {} degrees of freedom\".format(dfn,dfd))\n",
    "plt.legend()\n",
    "plt.grid();"
   ]
  },
  {
   "cell_type": "code",
   "execution_count": 38,
   "metadata": {},
   "outputs": [
    {
     "data": {
      "image/png": "[encoded data removed]",
      "text/plain": [
       "<Figure size 432x288 with 1 Axes>"
      ]
     },
     "metadata": {
      "needs_background": "light"
     },
     "output_type": "display_data"
    }
   ],
   "source": [
    "#Compare to the F Distribution\n",
    "F_o = F_T\n",
    "dfn = SS_treatments_dof\n",
    "dfd = SS_resid_dof\n",
    "x = np.arange(0.00001,max(f.ppf(0.999,dfn,dfd),F_o),.01)\n",
    "plt.plot(x,f.pdf(x,dfn,dfd),label=\"F-Distribution\")\n",
    "plt.plot(F_o,0,'d',label=\"F Statistic = {:0.2f}\".format(F_o))\n",
    "p_value = f.sf(F_o,dfn,dfd)\n",
    "plt.fill_between(x, 0, f.pdf(x,dfn,dfd),where = x > F_o, label=\"p-value = {:0.4f}\".format(p_value))\n",
    "plt.xlabel('f value =  $SS_B/SS_R$')\n",
    "plt.title(\"F Distribution with {} and {} degrees of freedom\".format(dfn,dfd))\n",
    "plt.legend()\n",
    "plt.grid();"
   ]
  },
  {
   "cell_type": "markdown",
   "metadata": {},
   "source": [
    "There is no evidence for differences between treatments. However, there are likely differences due to blends (blocks) at a about a 4% significance. "
   ]
  },
  {
   "cell_type": "markdown",
   "metadata": {},
   "source": [
    "## Summary\n",
    "In this notebook we developed an analysis of variance table from an experiment that employed a blocking strategy to reduce the noise in the data. We calculated each element in the table using the different pandas groupby commands. This showed how each element in an ANOVA table is calculated.\n",
    "\n",
    "In the second half of this notebook, we use the statsmodel package to create an ANOVA as well. This technique leveraged the pandas data frame. Finally, we showed the graphics of the F statistic and compared it to the F distribution to obtain a p-value and draw conclusions."
   ]
  }
 ],
 "metadata": {
  "kernelspec": {
   "display_name": "Python 3",
   "language": "python",
   "name": "python3"
  },
  "language_info": {
   "codemirror_mode": {
    "name": "ipython",
    "version": 3
   },
   "file_extension": ".py",
   "mimetype": "text/x-python",
   "name": "python",
   "nbconvert_exporter": "python",
   "pygments_lexer": "ipython3",
   "version": "3.7.4"
  }
 },
 "nbformat": 4,
 "nbformat_minor": 2
}
